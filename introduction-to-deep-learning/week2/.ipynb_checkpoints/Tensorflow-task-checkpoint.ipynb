{
 "cells": [
  {
   "cell_type": "markdown",
   "metadata": {
    "slideshow": {
     "slide_type": "slide"
    }
   },
   "source": [
    "# Going deeper with Tensorflow\n",
    "\n",
    "In this video, we're going to study the tools you'll use to build deep learning models. Namely, [Tensorflow](https://www.tensorflow.org/).\n",
    "\n",
    "If you're running this notebook outside the course environment, you'll need to install tensorflow:\n",
    "* `pip install tensorflow` should install cpu-only TF on Linux & Mac OS\n",
    "* If you want GPU support from offset, see [TF install page](https://www.tensorflow.org/install/)"
   ]
  },
  {
   "cell_type": "code",
   "execution_count": 1,
   "metadata": {
    "collapsed": true
   },
   "outputs": [],
   "source": [
    "import sys\n",
    "sys.path.append(\"..\")\n",
    "import grading"
   ]
  },
  {
   "cell_type": "markdown",
   "metadata": {},
   "source": [
    "# Visualization"
   ]
  },
  {
   "cell_type": "markdown",
   "metadata": {},
   "source": [
    "Plase note that if you are running on the Coursera platform, you won't be able to access the tensorboard instance due to the network setup there. If you run the notebook locally, you should be able to access TensorBoard on http://127.0.0.1:7007/"
   ]
  },
  {
   "cell_type": "code",
   "execution_count": 2,
   "metadata": {},
   "outputs": [
    {
     "name": "stdout",
     "output_type": "stream",
     "text": [
      "/bin/sh: 1: killall: not found\r\n"
     ]
    }
   ],
   "source": [
    "! killall tensorboard\n",
    "import os\n",
    "os.system(\"tensorboard --logdir=/tmp/tboard --port=7007 &\");"
   ]
  },
  {
   "cell_type": "code",
   "execution_count": 3,
   "metadata": {
    "collapsed": true
   },
   "outputs": [],
   "source": [
    "import tensorflow as tf\n",
    "s = tf.InteractiveSession()"
   ]
  },
  {
   "cell_type": "markdown",
   "metadata": {},
   "source": [
    "# Warming up\n",
    "For starters, let's implement a python function that computes the sum of squares of numbers from 0 to N-1."
   ]
  },
  {
   "cell_type": "code",
   "execution_count": 11,
   "metadata": {
    "collapsed": true
   },
   "outputs": [],
   "source": [
    "import numpy as np\n",
    "def sum_sin(N):\n",
    "    return np.sum(np.arange(N)**2)"
   ]
  },
  {
   "cell_type": "code",
   "execution_count": 12,
   "metadata": {},
   "outputs": [
    {
     "name": "stdout",
     "output_type": "stream",
     "text": [
      "CPU times: user 152 ms, sys: 2.68 s, total: 2.84 s\n",
      "Wall time: 3.29 s\n"
     ]
    },
    {
     "data": {
      "text/plain": [
       "662921401752298880"
      ]
     },
     "execution_count": 12,
     "metadata": {},
     "output_type": "execute_result"
    }
   ],
   "source": [
    "%%time\n",
    "sum_sin(10**8)"
   ]
  },
  {
   "cell_type": "markdown",
   "metadata": {},
   "source": [
    "# Tensoflow teaser\n",
    "\n",
    "Doing the very same thing"
   ]
  },
  {
   "cell_type": "code",
   "execution_count": 13,
   "metadata": {
    "collapsed": true
   },
   "outputs": [],
   "source": [
    "# An integer parameter\n",
    "N = tf.placeholder('int64', name=\"input_to_your_function\")\n",
    "\n",
    "# A recipe on how to produce the same result\n",
    "result = tf.reduce_sum(tf.range(N)**2)"
   ]
  },
  {
   "cell_type": "code",
   "execution_count": 14,
   "metadata": {},
   "outputs": [
    {
     "data": {
      "text/plain": [
       "<tf.Tensor 'Sum:0' shape=() dtype=int64>"
      ]
     },
     "execution_count": 14,
     "metadata": {},
     "output_type": "execute_result"
    }
   ],
   "source": [
    "result"
   ]
  },
  {
   "cell_type": "code",
   "execution_count": 15,
   "metadata": {},
   "outputs": [
    {
     "name": "stdout",
     "output_type": "stream",
     "text": [
      "CPU times: user 488 ms, sys: 1.26 s, total: 1.75 s\n",
      "Wall time: 1.8 s\n"
     ]
    },
    {
     "data": {
      "text/plain": [
       "662921401752298880"
      ]
     },
     "execution_count": 15,
     "metadata": {},
     "output_type": "execute_result"
    }
   ],
   "source": [
    "%%time\n",
    "result.eval({N: 10**8})"
   ]
  },
  {
   "cell_type": "code",
   "execution_count": 16,
   "metadata": {
    "collapsed": true
   },
   "outputs": [],
   "source": [
    "writer = tf.summary.FileWriter(\"/tmp/tboard\", graph=s.graph)"
   ]
  },
  {
   "cell_type": "markdown",
   "metadata": {},
   "source": [
    "# How does it work?\n",
    "1. Define placeholders where you'll send inputs\n",
    "2. Make symbolic graph: a recipe for mathematical transformation of those placeholders\n",
    "3. Compute outputs of your graph with particular values for each placeholder\n",
    "  * `output.eval({placeholder:value})`\n",
    "  * `s.run(output, {placeholder:value})`\n",
    "\n",
    "So far there are two main entities: \"placeholder\" and \"transformation\"\n",
    "* Both can be numbers, vectors, matrices, tensors, etc.\n",
    "* Both can be int32/64, floats, booleans (uint8) of various size.\n",
    "\n",
    "* You can define new transformations as an arbitrary operation on placeholders and other transformations\n",
    " * `tf.reduce_sum(tf.arange(N)**2)` are 3 sequential transformations of placeholder `N`\n",
    " * There's a tensorflow symbolic version for every numpy function\n",
    "   * `a+b, a/b, a**b, ...` behave just like in numpy\n",
    "   * `np.mean` -> `tf.reduce_mean`\n",
    "   * `np.arange` -> `tf.range`\n",
    "   * `np.cumsum` -> `tf.cumsum`\n",
    "   * If if you can't find the op you need, see the [docs](https://www.tensorflow.org/api_docs/python).\n",
    "   \n",
    "`tf.contrib` has many high-level features, may be worth a look."
   ]
  },
  {
   "cell_type": "code",
   "execution_count": 17,
   "metadata": {
    "collapsed": true
   },
   "outputs": [],
   "source": [
    "with tf.name_scope(\"Placeholders_examples\"):\n",
    "    # Default placeholder that can be arbitrary float32\n",
    "    # scalar, vertor, matrix, etc.\n",
    "    arbitrary_input = tf.placeholder('float32')\n",
    "\n",
    "    # Input vector of arbitrary length\n",
    "    input_vector = tf.placeholder('float32', shape=(None,))\n",
    "\n",
    "    # Input vector that _must_ have 10 elements and integer type\n",
    "    fixed_vector = tf.placeholder('int32', shape=(10,))\n",
    "\n",
    "    # Matrix of arbitrary n_rows and 15 columns\n",
    "    # (e.g. a minibatch your data table)\n",
    "    input_matrix = tf.placeholder('float32', shape=(None, 15))\n",
    "    \n",
    "    # You can generally use None whenever you don't need a specific shape\n",
    "    input1 = tf.placeholder('float64', shape=(None, 100, None))\n",
    "    input2 = tf.placeholder('int32', shape=(None, None, 3, 224, 224))\n",
    "\n",
    "    # elementwise multiplication\n",
    "    double_the_vector = input_vector*2\n",
    "\n",
    "    # elementwise cosine\n",
    "    elementwise_cosine = tf.cos(input_vector)\n",
    "\n",
    "    # difference between squared vector and vector itself plus one\n",
    "    vector_squares = input_vector**2 - input_vector + 1"
   ]
  },
  {
   "cell_type": "code",
   "execution_count": 18,
   "metadata": {
    "collapsed": true
   },
   "outputs": [],
   "source": [
    "my_vector =  tf.placeholder('float32', shape=(None,), name=\"VECTOR_1\")\n",
    "my_vector2 = tf.placeholder('float32', shape=(None,))\n",
    "my_transformation = my_vector * my_vector2 / (tf.sin(my_vector) + 1)"
   ]
  },
  {
   "cell_type": "code",
   "execution_count": 19,
   "metadata": {},
   "outputs": [
    {
     "name": "stdout",
     "output_type": "stream",
     "text": [
      "Tensor(\"truediv:0\", shape=(?,), dtype=float32)\n"
     ]
    }
   ],
   "source": [
    "print(my_transformation)"
   ]
  },
  {
   "cell_type": "code",
   "execution_count": 20,
   "metadata": {},
   "outputs": [
    {
     "name": "stdout",
     "output_type": "stream",
     "text": [
      "[ 0.  1.  2.  3.  4.]\n"
     ]
    },
    {
     "data": {
      "text/plain": [
       "array([ 0.        ,  1.62913239,  2.09501147,  2.62899613,  0.        ], dtype=float32)"
      ]
     },
     "execution_count": 20,
     "metadata": {},
     "output_type": "execute_result"
    }
   ],
   "source": [
    "dummy = np.arange(5).astype('float32')\n",
    "print(dummy)\n",
    "my_transformation.eval({my_vector:dummy, my_vector2:dummy[::-1]})"
   ]
  },
  {
   "cell_type": "code",
   "execution_count": 21,
   "metadata": {
    "collapsed": true
   },
   "outputs": [],
   "source": [
    "writer.add_graph(my_transformation.graph)\n",
    "writer.flush()"
   ]
  },
  {
   "cell_type": "markdown",
   "metadata": {},
   "source": [
    "TensorBoard allows writing scalars, images, audio, histogram. You can read more on tensorboard usage [here](https://www.tensorflow.org/get_started/graph_viz)."
   ]
  },
  {
   "cell_type": "markdown",
   "metadata": {},
   "source": [
    "# Summary\n",
    "* Tensorflow is based on computation graphs\n",
    "* The graphs consist of placehlders and transformations"
   ]
  },
  {
   "cell_type": "markdown",
   "metadata": {},
   "source": [
    "# Mean squared error\n",
    "\n",
    "Your assignment is to implement mean squared error in tensorflow."
   ]
  },
  {
   "cell_type": "code",
   "execution_count": 22,
   "metadata": {
    "collapsed": true
   },
   "outputs": [],
   "source": [
    "with tf.name_scope(\"MSE\"):\n",
    "    y_true = tf.placeholder(\"float32\", shape=(None,), name=\"y_true\")\n",
    "    y_predicted = tf.placeholder(\"float32\", shape=(None,), name=\"y_predicted\")\n",
    "    # Your code goes here\n",
    "    # You want to use tf.reduce_mean\n",
    "    mse = tf.reduce_mean((y_true - y_predicted)**2)\n",
    "def compute_mse(vector1, vector2):\n",
    "    return mse.eval({y_true: vector1, y_predicted: vector2})"
   ]
  },
  {
   "cell_type": "code",
   "execution_count": 23,
   "metadata": {
    "collapsed": true
   },
   "outputs": [],
   "source": [
    "writer.add_graph(mse.graph)\n",
    "writer.flush()"
   ]
  },
  {
   "cell_type": "markdown",
   "metadata": {},
   "source": [
    "Tests and result submission. Please use the credentials obtained from the Coursera assignment page."
   ]
  },
  {
   "cell_type": "code",
   "execution_count": 24,
   "metadata": {
    "collapsed": true
   },
   "outputs": [],
   "source": [
    "import submit"
   ]
  },
  {
   "cell_type": "code",
   "execution_count": 25,
   "metadata": {},
   "outputs": [
    {
     "name": "stdout",
     "output_type": "stream",
     "text": [
      "You used an invalid email or your token may have expired. Please make sure you have entered all fields correctly. Try generating a new token if the issue still persists.\n"
     ]
    }
   ],
   "source": [
    "submit.submit_mse(compute_mse, 'juanpablolopez@outlook.com', 'mmwESP8LVZPIaQDl')"
   ]
  },
  {
   "cell_type": "markdown",
   "metadata": {},
   "source": [
    "# Variables\n",
    "\n",
    "The inputs and transformations have no value outside function call. This isn't too comfortable if you want your model to have parameters (e.g. network weights) that are always present, but can change their value over time.\n",
    "\n",
    "Tensorflow solves this with `tf.Variable` objects.\n",
    "* You can assign variable a value at any time in your graph\n",
    "* Unlike placeholders, there's no need to explicitly pass values to variables when `s.run(...)`-ing\n",
    "* You can use variables the same way you use transformations \n",
    " "
   ]
  },
  {
   "cell_type": "code",
   "execution_count": 15,
   "metadata": {
    "collapsed": true
   },
   "outputs": [],
   "source": [
    "# Creating a shared variable\n",
    "shared_vector_1 = tf.Variable(initial_value=np.ones(5),\n",
    "                              name=\"example_variable\")"
   ]
  },
  {
   "cell_type": "code",
   "execution_count": 16,
   "metadata": {},
   "outputs": [
    {
     "name": "stdout",
     "output_type": "stream",
     "text": [
      "Initial value [ 1.  1.  1.  1.  1.]\n"
     ]
    }
   ],
   "source": [
    "# Initialize variable(s) with initial values\n",
    "s.run(tf.global_variables_initializer())\n",
    "\n",
    "# Evaluating shared variable (outside symbolicd graph)\n",
    "print(\"Initial value\", s.run(shared_vector_1))\n",
    "\n",
    "# Within symbolic graph you use them just\n",
    "# as any other inout or transformation, not \"get value\" needed"
   ]
  },
  {
   "cell_type": "code",
   "execution_count": 17,
   "metadata": {},
   "outputs": [
    {
     "name": "stdout",
     "output_type": "stream",
     "text": [
      "New value [ 0.  1.  2.  3.  4.]\n"
     ]
    }
   ],
   "source": [
    "# Setting a new value\n",
    "s.run(shared_vector_1.assign(np.arange(5)))\n",
    "\n",
    "# Getting that new value\n",
    "print(\"New value\", s.run(shared_vector_1))"
   ]
  },
  {
   "cell_type": "markdown",
   "metadata": {},
   "source": [
    "# tf.gradients - why graphs matter\n",
    "* Tensorflow can compute derivatives and gradients automatically using the computation graph\n",
    "* True to its name it can manage matrix derivatives\n",
    "* Gradients are computed as a product of elementary derivatives via the chain rule:\n",
    "\n",
    "$$ {\\partial f(g(x)) \\over \\partial x} = {\\partial f(g(x)) \\over \\partial g(x)}\\cdot {\\partial g(x) \\over \\partial x} $$\n",
    "\n",
    "It can get you the derivative of any graph as long as it knows how to differentiate elementary operations"
   ]
  },
  {
   "cell_type": "code",
   "execution_count": 29,
   "metadata": {
    "collapsed": true
   },
   "outputs": [],
   "source": [
    "my_scalar = tf.placeholder('float32')\n",
    "\n",
    "scalar_squared = my_scalar**2\n",
    "\n",
    "# A derivative of scalar_squared by my_scalar\n",
    "derivative = tf.gradients(scalar_squared, [my_scalar, ])"
   ]
  },
  {
   "cell_type": "code",
   "execution_count": 30,
   "metadata": {},
   "outputs": [
    {
     "data": {
      "text/plain": [
       "[<tf.Tensor 'gradients/pow_1_grad/Reshape:0' shape=<unknown> dtype=float32>]"
      ]
     },
     "execution_count": 30,
     "metadata": {},
     "output_type": "execute_result"
    }
   ],
   "source": [
    "derivative"
   ]
  },
  {
   "cell_type": "code",
   "execution_count": 31,
   "metadata": {},
   "outputs": [
    {
     "data": {
      "image/png": "[encoded data removed]",
      "text/plain": [
       "<matplotlib.figure.Figure at 0x7f5c6a363f28>"
      ]
     },
     "metadata": {},
     "output_type": "display_data"
    }
   ],
   "source": [
    "import matplotlib.pyplot as plt\n",
    "%matplotlib inline\n",
    "\n",
    "x = np.linspace(-3, 3)\n",
    "x_squared, x_squared_der = s.run([scalar_squared, derivative[0]],\n",
    "                                 {my_scalar:x})\n",
    "\n",
    "plt.plot(x, x_squared,label=\"$x^2$\")\n",
    "plt.plot(x, x_squared_der, label=r\"$\\frac{dx^2}{dx}$\")\n",
    "plt.legend();"
   ]
  },
  {
   "cell_type": "markdown",
   "metadata": {},
   "source": [
    "# Why that rocks"
   ]
  },
  {
   "cell_type": "code",
   "execution_count": 32,
   "metadata": {
    "collapsed": true
   },
   "outputs": [],
   "source": [
    "my_vector = tf.placeholder('float32', [None])\n",
    "# Compute the gradient of the next weird function over my_scalar and my_vector\n",
    "# Warning! Trying to understand the meaning of that function may result in permanent brain damage\n",
    "weird_psychotic_function = tf.reduce_mean(\n",
    "    (my_vector+my_scalar)**(1+tf.nn.moments(my_vector,[0])[1]) + \n",
    "    1./ tf.atan(my_scalar))/(my_scalar**2 + 1) + 0.01*tf.sin(\n",
    "    2*my_scalar**1.5)*(tf.reduce_sum(my_vector)* my_scalar**2\n",
    "                      )*tf.exp((my_scalar-4)**2)/(\n",
    "    1+tf.exp((my_scalar-4)**2))*(1.-(tf.exp(-(my_scalar-4)**2)\n",
    "                                    )/(1+tf.exp(-(my_scalar-4)**2)))**2\n",
    "\n",
    "der_by_scalar = tf.gradients(weird_psychotic_function, my_scalar)\n",
    "der_by_vector = tf.gradients(weird_psychotic_function, my_vector)"
   ]
  },
  {
   "cell_type": "code",
   "execution_count": 33,
   "metadata": {},
   "outputs": [
    {
     "data": {
      "image/png": "[encoded data removed]",
      "text/plain": [
       "<matplotlib.figure.Figure at 0x7f5c60d9a5f8>"
      ]
     },
     "metadata": {},
     "output_type": "display_data"
    }
   ],
   "source": [
    "# Plotting the derivative\n",
    "scalar_space = np.linspace(1, 7, 100)\n",
    "\n",
    "y = [s.run(weird_psychotic_function, {my_scalar:x, my_vector:[1, 2, 3]})\n",
    "     for x in scalar_space]\n",
    "\n",
    "plt.plot(scalar_space, y, label='function')\n",
    "\n",
    "y_der_by_scalar = [s.run(der_by_scalar,\n",
    "                         {my_scalar:x, my_vector:[1, 2, 3]})\n",
    "                   for x in scalar_space]\n",
    "\n",
    "plt.plot(scalar_space, y_der_by_scalar, label='derivative')\n",
    "plt.grid()\n",
    "plt.legend();"
   ]
  },
  {
   "cell_type": "markdown",
   "metadata": {},
   "source": [
    "# Almost done - optimizers\n",
    "\n",
    "While you can perform gradient descent by hand with automatic grads from above, tensorflow also has some optimization methods implemented for you. Recall momentum & rmsprop?"
   ]
  },
  {
   "cell_type": "code",
   "execution_count": 23,
   "metadata": {
    "collapsed": true
   },
   "outputs": [],
   "source": [
    "y_guess = tf.Variable(np.zeros(2, dtype='float32'))\n",
    "y_true = tf.range(1, 3, dtype='float32')\n",
    "loss = tf.reduce_mean((y_guess - y_true + tf.random_normal([2]))**2) \n",
    "#loss = tf.reduce_mean((y_guess - y_true)**2) \n",
    "optimizer = tf.train.MomentumOptimizer(0.01, 0.5).minimize(\n",
    "    loss, var_list=y_guess)"
   ]
  },
  {
   "cell_type": "code",
   "execution_count": 24,
   "metadata": {},
   "outputs": [
    {
     "data": {
      "text/plain": [
       "TensorShape([Dimension(2)])"
      ]
     },
     "execution_count": 24,
     "metadata": {},
     "output_type": "execute_result"
    }
   ],
   "source": [
    "y_guess.shape"
   ]
  },
  {
   "cell_type": "code",
   "execution_count": 28,
   "metadata": {},
   "outputs": [
    {
     "ename": "NameError",
     "evalue": "name 'plt' is not defined",
     "output_type": "error",
     "traceback": [
      "\u001b[0;31m---------------------------------------------------------------------------\u001b[0m",
      "\u001b[0;31mNameError\u001b[0m                                 Traceback (most recent call last)",
      "\u001b[0;32m<ipython-input-28-66a1a1b3e85f>\u001b[0m in \u001b[0;36m<module>\u001b[0;34m()\u001b[0m\n\u001b[1;32m      3\u001b[0m \u001b[0;32mfrom\u001b[0m \u001b[0mIPython\u001b[0m\u001b[0;34m.\u001b[0m\u001b[0mdisplay\u001b[0m \u001b[0;32mimport\u001b[0m \u001b[0mHTML\u001b[0m\u001b[0;34m,\u001b[0m \u001b[0mdisplay_html\u001b[0m\u001b[0;34m\u001b[0m\u001b[0m\n\u001b[1;32m      4\u001b[0m \u001b[0;34m\u001b[0m\u001b[0m\n\u001b[0;32m----> 5\u001b[0;31m \u001b[0mfig\u001b[0m\u001b[0;34m,\u001b[0m \u001b[0max\u001b[0m \u001b[0;34m=\u001b[0m \u001b[0mplt\u001b[0m\u001b[0;34m.\u001b[0m\u001b[0msubplots\u001b[0m\u001b[0;34m(\u001b[0m\u001b[0;34m)\u001b[0m\u001b[0;34m\u001b[0m\u001b[0m\n\u001b[0m\u001b[1;32m      6\u001b[0m \u001b[0my_true_value\u001b[0m \u001b[0;34m=\u001b[0m \u001b[0ms\u001b[0m\u001b[0;34m.\u001b[0m\u001b[0mrun\u001b[0m\u001b[0;34m(\u001b[0m\u001b[0my_true\u001b[0m\u001b[0;34m)\u001b[0m\u001b[0;34m\u001b[0m\u001b[0m\n\u001b[1;32m      7\u001b[0m \u001b[0mlevel_x\u001b[0m \u001b[0;34m=\u001b[0m \u001b[0mnp\u001b[0m\u001b[0;34m.\u001b[0m\u001b[0marange\u001b[0m\u001b[0;34m(\u001b[0m\u001b[0;36m0\u001b[0m\u001b[0;34m,\u001b[0m \u001b[0;36m2\u001b[0m\u001b[0;34m,\u001b[0m \u001b[0;36m0.02\u001b[0m\u001b[0;34m)\u001b[0m\u001b[0;34m\u001b[0m\u001b[0m\n",
      "\u001b[0;31mNameError\u001b[0m: name 'plt' is not defined"
     ]
    }
   ],
   "source": [
    "from matplotlib import animation, rc\n",
    "import matplotlib_utils\n",
    "from IPython.display import HTML, display_html\n",
    "\n",
    "fig, ax = plt.subplots()\n",
    "y_true_value = s.run(y_true)\n",
    "level_x = np.arange(0, 2, 0.02)\n",
    "level_y = np.arange(0, 3, 0.02)\n",
    "X, Y = np.meshgrid(level_x, level_y)\n",
    "Z = (X - y_true_value[0])**2 + (Y - y_true_value[1])**2\n",
    "ax.set_xlim(-0.02, 2)\n",
    "ax.set_ylim(-0.02, 3)\n",
    "s.run(tf.global_variables_initializer())\n",
    "ax.scatter(*s.run(y_true), c='red')\n",
    "contour = ax.contour(X, Y, Z, 10)\n",
    "ax.clabel(contour, inline=1, fontsize=10)\n",
    "line, = ax.plot([], [], lw=2)\n",
    "\n",
    "def init():\n",
    "    line.set_data([], [])\n",
    "    return (line,)\n",
    "\n",
    "guesses = [s.run(y_guess)]\n",
    "\n",
    "def animate(i):\n",
    "    s.run(optimizer)\n",
    "    guesses.append(s.run(y_guess))\n",
    "    line.set_data(*zip(*guesses))\n",
    "    return (line,)\n",
    "\n",
    "anim = animation.FuncAnimation(fig, animate, init_func=init,\n",
    "                               frames=400, interval=20, blit=True)"
   ]
  },
  {
   "cell_type": "code",
   "execution_count": 27,
   "metadata": {},
   "outputs": [
    {
     "data": {
      "text/html": [
       "<img src=\"data:image/jpeg;base64,/9j/4AAQSkZJRgABAQAAAQABAAD/2wBDAAIBAQEBAQIBAQECAgICAgQDAgICAgUEBAMEBgUGBgYFBgYGBwkIBgcJBwYGCAsICQoKCgoKBggLDAsKDAkKCgr/2wBDAQICAgICAgUDAwUKBwYHCgoKCgoKCgoKCgoKCgoKCgoKCgoKCgoKCgoKCgoKCgoKCgoKCgoKCgoKCgoKCgoKCgr/wAARCAEgAbADASIAAhEBAxEB/8QAHwAAAQUBAQEBAQEAAAAAAAAAAAECAwQFBgcICQoL/8QAtRAAAgEDAwIEAwUFBAQAAAF9AQIDAAQRBRIhMUEGE1FhByJxFDKBkaEII0KxwRVS0fAkM2JyggkKFhcYGRolJicoKSo0NTY3ODk6Q0RFRkdISUpTVFVWV1hZWmNkZWZnaGlqc3R1dnd4eXqDhIWGh4iJipKTlJWWl5iZmqKjpKWmp6ipqrKztLW2t7i5usLDxMXGx8jJytLT1NXW19jZ2uHi4%2BTl5ufo6erx8vP09fb3%2BPn6/8QAHwEAAwEBAQEBAQEBAQAAAAAAAAECAwQFBgcICQoL/8QAtREAAgECBAQDBAcFBAQAAQJ3AAECAxEEBSExBhJBUQdhcRMiMoEIFEKRobHBCSMzUvAVYnLRChYkNOEl8RcYGRomJygpKjU2Nzg5OkNERUZHSElKU1RVVldYWVpjZGVmZ2hpanN0dXZ3eHl6goOEhYaHiImKkpOUlZaXmJmaoqOkpaanqKmqsrO0tba3uLm6wsPExcbHyMnK0tPU1dbX2Nna4uPk5ebn6Onq8vP09fb3%2BPn6/9oADAMBAAIRAxEAPwD9/KKKKACiiigAooooAKKKKACiiigAooooAKKKKACiiigAooooAKKKKACiiigAooooAKKKKACiiigAooooAKKKKACiiigAooooAKKKKACiiigAooooAKKKKACiiigAooooAKKKKACiiigAooooAKKKKACiiigAorj/AAR%2B0J8A/iZ431n4Z/Dj44eD/EHiTw5JJH4h8P6J4ltbu%2B0t0kMTrcQRSNJAVkBQh1GGG088VZtfjb8Gb74p3PwLsvi54Ym8b2dgL288HRa/btqsFqQpE72gfzljIdPnK7fmXnkUAdPRRRQAUUUUAFFFFABRRRQAUUUUAFFFFABRRRQAUUUUAFFFFABRRRQAUUUUAFFFFABRRRQAUUUUAFFFFABRRRQAUUUUAFFFFABRRRQAUUUUAFFFFABRRRQAUUUUAFFFFABRRRQAUUUUAfIz%2BIrvxH/wUT0j40aVp3xZ1nw/4Z8I6/pWr2XiP4WX%2Bn6b4Ukmn0yMNpUo06CbVWu5bUtJiS%2BRUQyxvbxjbLy/g74f/EGL9qTw98N5fhR4oh17Qf2nfEnj3WvGcvhq6TSpvDt5oWp29tImpmP7NPIVvbDT/sqyGZPszMYxHCr19w0UAeIftr%2BO/wBp34WeFtF8bfAPx94D022ufF/hzw/qFj4v8B3uqyO%2Bq67Y6X9ojlttVsxGIkvDJ5ZR95jA3oDkWf8AhB/%2BChf/AEdB8Gf/AAw%2Brf8AzUUft4f8kQ0P/ss3w4/9TXRK9moA8Z/4Qf8A4KF/9HQfBn/ww%2Brf/NRVbWdA/bz8OaRdeIPEP7W3wQsLCyt3nvb29%2BB2qRQ28SAs0ju3ikKigAkkkAAZrtvhz8ddL%2BIPxC8S/DO58F65oGp%2BHTHIkWuxQx/2nZvJNEt5biOVy0JlglTLBW4UlQHUnwnxj4Y%2BMnh7SfE/w8%2BNujX%2BsaZ8RPFEvhqz8ZS%2BM3nuFS8eQ2EkOlRwrDawQsyQuY2EpCNOwKqSOulhHOfLN2emnVp9tbOyu/6dsZ1Uo3Svv/X3lHxB8b/27NYt/Cy/AD9pj4A%2BOLnxXqV3bWWPhRqtnboLWBp58y/8JHKfNCqAsRUFtwJKoC47H4Paz%2B3j8Zfh1p3xD0P9pT4RWkd4JYrqwvPgJqyz2V1DK8FxbSj/AISjiSKaOSNscbkOOKzfC3wc%2BK/xk%2BI914s8Z%2BCNU8Aatplhpl2de32sscviW1M0TXVtHHI3m272k8sT7wm%2BO5ZPvLlPb/gn8K5vhL4RuNG1LxGNX1PUtYvNV1nU0sVtUuLu5lMkjJCpYRoMgBdzHC5LMSSdcTTwtKlyxfvffvfqtNrbWflrpNKVWUrvb%2BvmeEeBx/wWR8RfFHWNF8XeKPgJ4e8H2FxPDpniCf4dapc32qbWxHMlnF4gKRRuAW/eThxkZTOcegf8IP8A8FC/%2BjoPgz/4YfVv/mor2aiuKclN3UUvS/6tm0U0tXc8Z/4Qf/goX/0dB8Gf/DD6t/8ANRR/wg//AAUL/wCjoPgz/wCGH1b/AOaivZqw/iF8T/ht8JPDsni/4qfEDRPDWlQ/63Ute1SGzgXjODJKyrn8amMZSdoq7K3PNf8AhB/%2BChf/AEdB8Gf/AAw%2Brf8AzUUf8IP/AMFC/wDo6D4M/wDhh9W/%2BaiuQn/4Kh/BjxncPpn7Lfwu%2BInxlulcx/afAPhOX%2BzEkzgB9SvDBaBf9pZH78HFNHiv/gqv8XOfD3wo%2BFXwe0%2BX5Wl8V65ceJtVjH98QWQgtVb2M7jPr1rs/s/ER/i2h/iaT%2B7WX/kpfJLrodj/AMIP/wAFC/8Ao6D4M/8Ahh9W/wDmorK8XH9tXwBpZ1vx5%2B2j8BNEsl%2B9eav8F9Stoh/wOTxUB%2BtYn/DB3xr%2BIH779or/AIKJfFfXc8PpvgZ7TwnYsvdStjGbgj63BODyTWt4R/4JZ/sB%2BE9UGv3H7NOh%2BItT6vqnjiWfX7h267i%2BoyTHOeeMY7Yo9lgYfHVcv8Mf1k1%2BQWgup4x4q/4KMP4T1I6Kf%2BCo37O2tXwyBZeD/gRrmuzE%2BgTTvEs5J7YxWb/w3d%2B3rr//ACSnwjrXi1H/AOPe8tP2O9a022l9CJdT8W2w2%2B/P0r7m8K%2BCvBvgTTRovgjwlpmjWa/dtNKsI7eIf8BjUD9K06Pa4CPw0pP1lb8Ix/ULw7HwPH8av%2BDgjxA4bwj%2BzN8I7OBz8k3jHRfsJx6lLTxNeMv0IzXffCy1/wCC7ev%2BI7T/AIW94p/ZT8N6I%2B77ZLo/hPxHqd9F8jbdsTalBE3z7QcyjAJPJAB%2BuqKieIpSjaNKK/8AAm/xl%2BgnJdjxn/hB/wDgoX/0dB8Gf/DD6t/81FH/AAg//BQv/o6D4M/%2BGH1b/wCaivZqK5STxn/hB/8AgoX/ANHQfBn/AMMPq3/zUUf8IP8A8FC/%2BjoPgz/4YfVv/mor2aigDxn/AIQf/goX/wBHQfBn/wAMPq3/AM1FH/CD/wDBQv8A6Og%2BDP8A4YfVv/mor2aigDxn/hB/%2BChf/R0HwZ/8MPq3/wA1FH/CD/8ABQvt%2B1B8Gf8Aww%2Brf/NRXs1FAHxJ4k1P/g4i8P7pdK0j9kfX0H3E0%2Bw8RW8jD3E96qg/8CNYI/aJ/wCC63hg%2Bd8Sv2XvBot1/wBZP4J8CQ6wf%2BAxyeMLaRv%2B%2BRX3zRXZHE0bWlRi/wDwJflJ/kVzLsfK/wCz98Sv%2BChPx%2B0zUr9/GnhvwRNpk8cU1j8Qf2YtX06WYspO6EjxY6TKMYLIxAJA71pfEvxF/wAFBvh74t8EeC7f9oL4M6he%2BNvEj6Xbr/wpTVYRaxRWNzeTXJ/4qZt4VLbbs%2BXLSKNwr6Wrzbx/%2BzPoHjv4y6D8dU%2BI/jDSdb8O288NhbafrKyaeVmiaKQtZ3EcsIYqeXRVf5R83XMU5Yd13Jq0bOy1lrZ27PfW/QFy3PBf2g/jh/wUO%2BCWpXmmaH8V/hH4kfQPDMniXxhJD8GdStk0nR42kDT5fxOTNKfJmKQqAWELfMOM60Hxz/aoufinb/CGL9rP4VnUrm7SyS7/AOGbde%2BwrfvaC8Wxa6/4SXyluTbETeUWB2%2B4xXb/ABj/AGSvHXxJ8U31xpHxXtLTR/Fvh6w0bx8l1ope9u7e1mkk3WsiSpHCZlkeGRWjZQrFkw2c8PqP7PH7SK6v4g8LaD4b06z0/TfFeu%2BL9B8S/wBqKf7Sv5bcppVsIBmSLySyrK78MLddmRIQnXTo4GpSScrO3e333XR9F038qSg0dT4Q179rv4gavqvh/wACftzfs%2Ba1qGhXAg1ux0r4O6hcTafISQEnRPFZaIkq2AwGcH0rf/4Qf/goX/0dB8Gf/DD6t/8ANRXF/sZeCtWfxvoXiLRPBHiDw54Z8GfCDTvCaQeJdBm0271HUzMJrl3imVXkEIiTE2NjyXc5RnBLH0f4l/ttfsqfBj4q2/wW%2BMHxs0fwr4gu7OO5s4vEbPZW1wjlgoS7mVbdnypygk3jIyBuGeethJKu6dFOVlfRXfntfyfW1yXHWyMz/hB/%2BChf/R0HwZ/8MPq3/wA1FH/CD/8ABQv/AKOg%2BDP/AIYfVv8A5qK9f0vVdM1zTodX0XUoLy0uYxJb3VrMskcqHoyspIYH1FT1x7EnjP8Awg//AAUL/wCjoPgz/wCGH1b/AOaivP8AwGP%2BCyGo/FLVfB/xL8UfATSfDkFvLNo3i/R/h1ql9HeYlVUhltpPEEMsEpRi5wHjGxhvPy5%2BpqKuM1FNOKd/XTzWv53Jaba1Pmf48eIv%2BCh/wV%2BHFx41sPjv8F9d1F7q3sdG0I/BrV7RtRvriVYbeBZB4jl2lpHUE7DhdzHhTV/4ieI/2wPhBo9pr3xY/ba%2BAnh2zvb2Ozgu9W%2BCmqQwtcPnam9/FIAzg8nA47V6B8VvgFqvxB%2BJ3hf4raX8TdStJfCt2bq28M30Edzo93N9nuIVmki2rKkyi5YrIkgA2qSjEDHC/tNQ/EnxB4m8NL4X%2BFfixvF2g3kEnhzWNKeCbQLk3Pl29/HeCQsUiSCSfJliRyozCxc7R10aVCqoQv3bezXZa6WVt9d3poZTnUhzO3a39I2bTwl/wUAv7WK/sP2qvgrPBPGskM0PwK1VkkQjIZSPFOCCDkEVJ/wg/wDwUL/6Og%2BDP/hh9W/%2BaivNdS%2BMuueHtf0z4uRfEy50Hw1a%2BK9StLHwjZ20MenQeGNKW4TULuaLZv377d3VwRtCRqnDkN7F8G/j74n%2BIXjWbwN47%2BFzeFr2Xw3a6/pVrLq4uZ3sppHj23MYjX7NOrpgx5cfNw5KsqzVwVWnHmWq/L/O11e2g4V4SdjjNS8Y/tm/CX40/Crw18Ufi38MPEvh/wAeeNbvQdTtNA%2BF2o6ReW4j8P6vqcc0VxNrl2gPm6dGjK0JysjYKkA19A14z%2B1B/wAlv/Zx/wCyzX3/AKhXiivZq4zYKKKKACiiigAooooAKKKKACiiigDxn9vD/kiGh/8AZZvhx/6muiV0/gH9pT4cfFD4t%2BIvhB4Dg1jUbnwoGj17Wo9HlXS7a8V1VrEXTAJJcru3MibtoByQRiuY/bw/5Ihof/ZZvhx/6muiV7KiJGCI0CgkkgDHJ5Jq4umovmV301tb/P00Jak2rM8u%2BLvwe%2BKHi/41eDviZ8MfGOkeHP7Ds72013Ubqwe8ub%2BynMTGzSHckajfEsgmdm2OgxGwZs9XafB34fJ4nsPHus%2BHrbV/EemWrW9l4i1W2jlvIUZmLBH2gR53EHYFyMA8AV09FW69VxUb2sraaaeb3e//AABKnFNvuFVtY1nSPD2lXOva/qttY2NnA015e3k6xRQRqMs7uxAVQASSTgAVT8bjxq3hHUV%2BHEulprptWGlPrUUj2izY%2BUyrGyuyDuFZSemR1rxI634q/ae/ZI8b/C/4i32k6V430d7vw94oxGYLAalAUeGULIzMltcxtbTKCzER3O3cWXNOlR9ouZvS6T7q/W3b9TRK50PxC/a50a2t/C6/s/aJp3xJufFUeoXGm/2P4khjtpYLKBZpglwFkR52EkYjh%2BXduLFkVGYeLeI/2k/G2seIvHnx48DfE3XI38H2eka/o3gW/mt4dP1fwsSseoRLGU3C/W5ttShLl2MU0duufLlUHV8I/Br4i/Gf40%2BIfGll4M1/4Z3UA0vV5dQ1PTY2iTxVbyPb3Eluqybby2ubGOGOZl2hl2bX3l9nr/gL9kj4Z6b4G0zw78X/AA5oHjjU7DXb3WhqeqeG4hFDfXVzJcubaGQym3iV5SI497lAifMSoNelfA4RWau9L7N66vvHbTRp63NPcid/418PXXjjwNqfhfTfFeqaDNqumy28GtaQUjvLBpEKrPF5qMqyoSGG9CARyp6V4z8Pf%2BCZ37IngzxFH498YeA7r4ieK05bxb8UtVl8QX5bsym7LRwkdvJjjA7CvfaK82nicRRg405OKe9tPxWvyvbyM1KSWgy3t4LSBLW1gSOKNAsccahVVQMAADoBT6KKwEFFFc/8SPiv8Lfg34bk8ZfF34k6B4V0iLPm6p4j1iCxt04zzJMyqPzpqMpOyV2NJydktToKK%2BVbz/gsN%2Byj4lvJdI/Zo8N/Eb4330LlJYvhD4AvNTtUYcfNfyrDYgZ4z5%2BB37UwftEf8FW/iv8Au/hN/wAE/PB3w9tZPmg1f4x/FJJZdnYtY6NDclWxztadT2OOtdX1HEr40o/4mo/g3f8AA6fqWIXxpR/xNL8G7/gfVtFfKY/Z0/4KwfEX/S/iR/wUZ8HeBkk4l0v4VfByGTYO4W61i5ujn38ketL/AMOsh4k/efF//goR%2B0x4saTm5th8UTo1rJ6jydIgtcL/ALJJ%2BtH1fDx%2BKsvkpP8ASKD2FCPxVV8lJ/okfVTukal3YKoGSScACuR8S/tBfAXwYzJ4w%2BN3hDSSn3xqXiW1gK/XfIMV4Kn/AARR/wCCal2wm8Xfs%2BXXimbOZJ/GfjjWtZaRvUi8vJF/IAV13hr/AIJX/wDBNPwkqjRP2BvhAGT7st18PdPuJB/wOWJm/WjlwC%2B1J/8AbsV%2BcmHLgl9qT%2BSX5yZtar/wUO/YB0Jimt/ty/B6zK/eF18TNKjI/wC%2BrgVjzf8ABUv/AIJoQNtf/goJ8Fyf9j4m6W38p67DSv2Nf2QdCULon7Knw2swv3Ra%2BBtPjx/3zCK2If2d/wBn%2B3XZB8DPByD0TwzaD%2BUdF8v7T/8AJP8AIP8AYe0//Jf8jzq2/wCCon/BNS7YJD/wUE%2BCuT0D/FDSl/8AQrgVvaN%2B3p%2Bwz4iYJ4f/AGz/AIT3xb7os/iLpkuf%2B%2BZzXSXX7N/7O96uy9%2BAnguYHqJfC1ow/WOsHWP2HP2KfEKlNf8A2PvhbfBvvC8%2BH%2Bmy5/76hNH/AAn/AN//AMkD/Yf7/wD5Kdn4X%2BK3wu8blV8F/EnQNXLfdGl6xBcZ%2Bnlsa36%2BdPFH/BIn/gl74vDDVv2B/hVFu6nS/BtrYn8DbIhFYB/4Iv8A7BGknz/hr4P8beBrkf6u68DfFnxDphj/AN1Ir7yx/wB8UcmAe05L1in%2BUg5cE9pyXrFP8pH1VRXyp/w7X%2BLPg7/Svgj/AMFR/wBojQrhf9VD4n1/TvE9qvplNTspZG/GWk/4Vb/wWO%2BGf/Im/tY/Bf4oQdfI%2BIPw3vNBuSPT7Rpd1LGD/tfZ8f7NP6tRl8FaPzUo/mmvxD6vRl8NVfNSj%2Baa/E%2BrKK%2BUT%2B2h%2B338Kv8Ak4f/AIJda/qljD8s%2Bu/BXx3p/iFXP95bK7%2BxXQHsFc8dzgVreB/%2BCvP7BfiXxDD4G8efF24%2BGfiWY7T4Z%2BL2gXnhe7V%2BmwHUY4opGyQP3bvycUngcVa8Y8y/utS/Jt/gDweJteMeZf3Wpfk2/wAD6YoqtpGsaR4g0yDW9B1W2vrK5jEltd2c6yxSoejK6khh7g1Zrk2OXYKzfFng3wh4%2B0Kfwt468K6brWmXK4udO1axjuYJR6NHICrfiK0qKabi7oD5r1P/AIJe/A3wrqVx4o/ZU8aeMPglrM8hmkk%2BHGuNDps8nUedpdwJbKRAf4REv1FV28af8FL/ANnH/kffh14Z%2BPfhuD7%2BseCGXQPEiRjlnfT7l2tLlsdFhmiJ7L2P05RXasfWnpWSqL%2B9q/8AwJWl%2BLL5299Txv4E/t6/s0fH/wARv8PNA8ZT6B40gH%2Bm/D/xrp8mka5btjJH2S5CtKB3eLzE/wBqvZK4T48fsxfAD9p3w4nhb48/CjSPEltCd1nLfW%2BLmyf/AJ6W9whWW3f/AG43VvevFn%2BCH7cf7JP%2Bn/syfFR/i/4Og5b4a/FHVNmr28Y/g0/W9uWPQLHeK6gDHmjrR7LCYj%2BFLkl2lt8p/wDySXqFoy20PqSivHP2eP24fgz%2B0D4hufhkU1Twd8QdNi36x8N/Gtl9g1i1UdZEjYlbqHjImgaSMgg5GcV7HXLVo1aE%2BSorP%2BvvXmm15ktNOzPOPHX7K3wb8WeG/GGmaH4K0nQNT8a2jRazrul6TCtxNIWDrLJ8uJT5gV2DcOR82au/CL4O6j4C1zXPH3jbxmfEfirxILWPVdXWw%2ByQrb2yOsFtBAHfyokaWeTBdiXnkJY547qiqeIrOm4OV0/%2BB13totPJGfs4KV7HjH7TrF/jb%2BzkShX/AIvPfjB9vBXijmvZ68Z/ag/5Lf8As4/9lmvv/UK8UV7NWJYUUUUAFFFFABRRRQAUUUUAeD%2BFPjN%2B0Fof7Z9v%2Bzp8QvEHgjxJpes%2BEdV8RLF4V8OXlje%2BFbaC9toLFb6Wa9uI7oXQmuFR1jtSXsZiiSKshiwvhX%2B1P8Xdd/bS8V/A34seJtE8M6Lb%2BJ7nTfAGgX/wn1u0ufE9tFpdvdm4tdenuxp93IrtdlreCBpBHauSAEZx0Xwm/YlvPg58QvG/xG8OftZfE27uvH2uT6rrcGrW3h2cLO7IIljm/sgXHlW8KLbwxPK6RxcBS3z1v337LUHiL45aL8a/Hvxv8a%2BIofC2tXOr%2BEfB2pHTI9J0W%2Bms7iyaeL7NZRXUxW2u7qNBc3EyqJ2IG5UZQDjP%2BChfxc%2BFHhrwf4M%2BFHiP4neHtP8AFPiD4w/D2XQfDV7rUEWoakkfjPRmka3t2cSTBVVixRSAFJOMGvoevGf28P8AkiGh/wDZZvhx/wCprolezUAFcT8ff2h/hD%2BzH8PZviZ8Z/F8OlaakqwWsexpbm/uX4jtraFAXuJnPCxoCx5PQEjH/an/AGpPBn7LXge11zV9Ivde8Ra7fLpvgvwXowD6h4h1Fx8ltAvYD7zyt8kaAs3YHhP2dv2RfGep/EGD9rX9tPVbLxL8UXiYaDpFsS%2Bj%2BBbZ%2BtppyNw05GBLeN%2B8kIwpVOG7KOHgqftq7tDolvJ9l2S6yei2V3oqUVa72PRP2afih8YvjD4JuvHvxb%2BBs3w%2BjvdRZvDWhanqaz6kdO2J5ct9Gi7LWdm3kwB3KKVViGBFJo37LXwo0z40678ftSt9Q1bxJrwgSWTVdQaS1tYoVVYo4bVdsClduRKyNNyQZCOK9GorF1pKcnT91S0sr7dtdenz/AV9dAooorEQUUV4H%2B1B/wAFAfh78BfGlt8Bfhr4M1b4o/F/VbYTaR8L/BpRrtIjgC6v53Pk6ZaZK5nnIyD8iuQRWlKlUrT5YK7/AK1fRLzdkaU6VStLlgrv%2Bt%2By82e9SyxQRNNNIqIilndjgKB1JPYV8w%2BP/wDgqp8FLjxfe/CX9kbwN4l%2BP3jayk8m70n4YWyT6bpsx6LfavKyWNoM5BBlZ1I5SsC0/YK%2BP/7YEi%2BKf%2BCnXxm%2B3aJMwktvgR8Nr%2Bew8M2y9Vj1G6UpdazIMKWDtHb7gcRFTX1L8Pfhx8PvhL4Qsvh/8LfA%2BkeHNC06Ly7DR9D06O0tbdfRIolVV/AV08uEofE%2BeXZaR%2B/d/JJeZvy4Wh8T532Wkfv3fySXmfMq/CH/AIKp/tN/6R8Z/wBofwz8AvDVx97wp8IrJdZ19om6xzazqEfkQyD%2B9bWp9nrovht/wSX/AGGvAviSP4g%2BMfhTN8S/Fy8yeMvi7q8/ifUXfOd6tftJHCfTyUjA7CvpKipljcRblg%2BRdo6fe1q/nITxle1oPlXaOn4rV/NkVlZWWm2cWn6daRW9vCgSGCCMIkagYCqo4AA7CpaKK5DlCiiigAooooAKKKKACiiigAooooAKKKKACsjxx8PvAXxO8OzeEPiV4I0jxDpNwMXGl65psV3by/70cqsrfiK16Kabi7oabTuj5W1n/gkN%2BzT4Z1OfxV%2ByV4t8cfAPXJpDK9x8JPE0llp88nUedpUwlsJUz1XyFyO44Ipv4k/4K0/stjd4r8JeDf2lvC0H%2Bs1DwwE8K%2BLI4%2BpdrSZ30%2B8YD%2BGOW3Zj0XkCvrWiutY2tLSraa/vav8A8C0l%2BLOlYyrLSraa/vav79Jfizwn9nX/AIKOfst/tH%2BLX%2BFWk%2BKdQ8I/EG3TN98MviJpUmieILfgk4tLjBuFwM%2BZA0seP4q92rzr9o79kr9nD9rfwmngv9or4QaP4otIH8ywnvYCl3p8uQRLa3MZWa1kBA%2BeJ0b3rwGb4c/8FBP2BR/afwV8Wap%2B0Z8LLUZuPAfjDUI08aaNAOT/AGfqb7Y9VVRki3u9sxCqqzMTT9lhq/8ACfLLtJ6fKWn3SS9R%2Bzw9f%2BG%2BV9pPT5S/%2BSS9T7DorzL9lz9r/wCA/wC2F4MuPF/wU8WvcTaZc/ZPEfh7VLR7PVtBvBndaX1nKBLbSqQwwww20lSy816bXLOnOlNxmrNdGc04TpycZKzQUUUVBJ5z%2B0Z%2Byj8Dv2p/D1tonxd8ICe702Xz9B8Q6dcNaarotwMFZ7O7iIlgcEA/Kdp2gMGHFeKj42/tJfsAzppH7W9/efEf4So4js/jJp2n/wDE18Px5wq65aQjEsQHH26BccZljUtur6wplxb293bva3UCSxSoUkjkUMrqRggg8EEdq66OLcIeyqrmh2fTzi94v8H1T3KUrKz2KvhvxL4d8Y6BZeK/CWu2eqaXqNslxp%2Bo6fcrNBcwuMrJG6Eq6kEEEEg1dr5I8Y/CT4if8E5NevfjV%2Byv4bvtf%2BEF3cveePvg5YL5kuhhjum1TQkP3ccvLYjCONxj2tgD6a%2BGPxN8A/GbwBpPxT%2BF3im01vw/rlkl1pWqWUm6OeJu47gg5BUgMrAqQCCKWIw6pxVSm%2BaD2fVPtJdH%2BDWqdtiUbarY82/ag/5Lf%2Bzj/wBlmvv/AFCvFFezV4z%2B1B/yW/8AZx/7LNff%2BoV4or2auUkKKKKACiiigAooooAKKKKACiiigDxn9vD/AJIhof8A2Wb4cf8Aqa6JXoXxh%2BLfgP4D/C7XvjH8T9cTTtA8OabLfapduMlY0GdqjqzscKqjlmZVHJFee/t4f8kQ0P8A7LN8OP8A1NdErg/2h7YftXfts%2BDv2S5P3/gz4c2Nv4%2B%2BJUA5ivrzzmj0XTpexXzYp7x42BDC2iz1rpwtGNar7%2BkUm5ei3t5vRLzfkVFXepe/Y4%2BC3jz4i%2BNLj9vT9qPQXtvHXiayMPgrwrd/Mvgbw%2B53RWaKeBeTLtkuZcBizCIbVQg/SlFFTiK8sRU5notklsktkvJfjq3q2KTcmFFFFYCCiivnH/goV%2B0B8UPCGmeE/wBlX9mPUYrb4t/GPUZtL8MalJF5ieG9OhQPqWuyp0ZbWFhsUn555YVw2SK1o0pV6ihHr9yW7b8ktTSlSlWqKC/4ZdW/JLU539oD9qD42/tFfGTVf2I/%2BCf2r21hq2iMsPxY%2BMdzai5sPA6uM/YrWM/JeauyHIiJ8uAENLydo9e/ZT/Y7%2BCH7HXgq48KfCXRLmW/1a5%2B2eKfFuuXRvNZ8R3xyXu7%2B7f57iViWPOFXcQiqvFaX7L/AOzR8Lf2Rvgro/wM%2BEemSxaZpaM9ze3kvm3eqXkh33F9dSnma4mkLO7nqTgYAAHoFbVq8eX2VHSH4yfd/otl5u7Nq1ePL7KlpD8Zeb/RbLzd2FFFFchyhRRRQAUUUUAFFFFABRRRQAUUUUAFFFFABRRRQAUUUUAFFFFABRRRQAUUUUAfPH7WH7BenfF/xlB%2B0r%2Bzv42f4ZfHDRbby9H8faXbhotVhXBGnavbDC6hZNtA2v8AvIsBo2UjBt/saftoX/x31XXPgJ8efAyeA/jV4HijPjPwS1yZILm3Y7YtW0yVsG60%2BYj5XHzRMfLkAYAt75Xzz%2B31%2Byj4t%2BMugaP8ff2c7230b43fDCSTUvh1rcnyx34I/wBI0W8OR5lleIDE4JGxykikFDntpVY14qjWf%2BGX8vk/7vdfZ3XVPspVY1oqlVfpL%2BXyf93y6brqn9DUV5t%2ByJ%2B0x4R/a%2B/Z48N/H7wfp9xp6a1asup6LejFzpGoQu0N3YzggESwTxyRNkDOzI4Ir0muScJ05uElZrRnLOEqc3GSs1oFFFFSSFfI/iuw/wCHa3x9X4m%2BHl%2Bz/Aj4na/HB4y0teLfwT4huXCRapEOkVldSFY514WOVkkBAZlr64rB%2BKHw08GfGT4c658KPiLoseo6F4i0ubT9VspRxLBKhRgD/C2DkMOQQCOQK6sLXVGbjNXhLSS8u681un302bKi7PXY83/ag/5Ld%2Bzj/wBlmvv/AFCvFFezV8vz/DTx98G7X9kv4U/Ez4jDxbq/h74qXthJ4iNoYXvYYvBnipYGkUsxMohEau%2BfndWbA3YH1BWFSMYTcYu6T37%2BfzE9GFFFFQIKKKKACiiigAooooA5DwL%2B0H8A/ih4y1n4dfDT43%2BEPEXiHw67J4g0LQvEtrd3mmMrmNluIIpGeEhwVIcDDAjrVi1%2BNvwZvvinc/Auy%2BLnhibxvZ2AvbzwdFr9u2qwWpCkTvaB/OWMh0%2Bcrt%2BZeeRXzX8NfivpnxY/bf1b4p%2BLPhJ8RfCWk/CzSda8L%2BBdNuPg14hh/tr7VeWZ1HVmuhYfZ3gkltIEtYIpGZ41muXB3xiHmfB3w/8AiDF%2B1J4e%2BG8vwo8UQ69oP7TviTx7rXjOXw1dJpU3h280LU7e2kTUzH9mnkK3thp/2VZDMn2ZmMYjhV6APe/28P8AkiGh/wDZZvhx/wCprolch/wTui/4TbxD8c/2ir8ebd%2BMvjTqthaXX97TNHCaVaoP9kG2nce8pq9/wUL034rz%2BD/Bmo%2BHPGnh618LQ/GH4ejXtGvfDE9xqF458Z6N5bW94t7HHbBW2lg9tMWAIBTIIr/8EsZo4v2X9R8OvbJDeaL8UvGVhqUSFjtuE8QXzNncSdxDqx578ADArto6YGs11cF8ryf5pFr4H8j6PoooriICiiigAr5L/ZFs2%2BOv/BRL9of9qbWWFxbeCL7T/hT4I3jmzhtLaHUdWK/9db29iUt1ItFGeMD60r5U/wCCW7LYah%2B0l4Uu/lv9O/al8VS3cbcNsuks7yByPQwzx4P%2Bz7V2Yf3cNWkt7RXyctfySOqh7uHqyW9kvk5a/kkfVdFFFcZyhRRRQAUUUUAFFFFABRRRQAUUUUABIHJNedfHr9rT9nT9mJbD/he3xUsPDz6oHbT4LiOWWWdUxuYRxI7bRkDOMZOOtUv2wP2WfBP7Xfwem%2BGHjbWtb05be8j1HTb/AEC78qeC7iDeW21vklHzEbGHfIKMFdfyA%2BNP7JX/AAVC%2BI3whg%2BJnxG%2BFPxZ8ZLpGr3Fvb2ev6vPf3/lvsQPDp0he4iUNE2%2BRQwcPGVG1C7fRZTl2SVsJPGZhivZU6fxrlfNa3uuFuZy21Sg2tLb3Xh4uvxJiM2o5VlGDVWvXaVNucYw5r6qbm6cYLXSUqsY73atZ/o5b/8ABbT9gK58dDwdH491oWbBdviWTw5OtgWIHy4IE64JwSYQOOuOa97%2BCv7TPwD/AGjLa8uvgj8VdI8RjTigv49PnJkt9%2BdpdGAZQcHBIwcH0NfgIfgh8SvC3jPT/hT8TfClr4P8T3/2WcW3i69isksYZULhrl5pFSDChTskTcQxBAbCn7E8Cfs6/t6ftMftGfEX4xfs4/HT4UeG9V/siy07WdR%2BG/jVFs7mGSBB5duLNZZoCXtd2%2BYREurbHYKSPrMdwlw7LAU8ThsQ4RnBTUpt8rvy2bXs1Jc3M%2BzTVnHe3xlHirinB5zXy/G4ZTqUqsqcoU%2BVyTjzqSUo1ZU5critU5RkneM2uXm/XGivNf2Qvg14o%2BAv7PHhv4beOvF2o65r9tZ%2Bdr%2Bp6nrEl80t9KTJOElkVSYg7MEGAQoGSzZZvSq/Nq9OnSryhCXMk2k9rpPe3nufpOHqVKtCE6keWTSbje9m1e111Wz8wooorI2CiiigAooooAKKKKACiiigD5N/ZgtV%2BAH/AAUy%2BOv7NenjytA%2BIGhaV8VvD1lH/q7a8uJJdN1jHvJcWtrOR/euGP8AFX1lXypOy6p/wW9tPsJ3f2J%2ByvcrqZX%2BE3viS3NuG9yLG5IH1r6rrsxms4Se7hFv1s1%2BSR1YvWUJPdxi39zX5JBRRRXGcoUUUUAeM/tQf8lv/Zx/7LNff%2BoV4or2avGf2oP%2BS3/s4/8AZZr7/wBQrxRXs1ABRRRQAUUUUAFFFFABRRRQAUUUUAeM/t4f8kQ0P/ss3w4/9TXRK4z9k6YfBv8AbP8Ajt%2BzJqP7qHX9YtviX4TD9bm11GJLbUNvtHf2rEj/AKelP8Vdn%2B3h/wAkQ0P/ALLN8OP/AFNdErl/2/fAnjTwkfCn7b3wb0GfUvFfwhuZ7jVdFs1/e6/4auFVdTsFH8coREuYQc4ltwACXrtwTU5SoSdudWX%2BJO8fx0/7eLhrp3Po6isT4bfEbwX8XvAGj/FH4c%2BIINV0LX9OivtK1C2bKTwSKGVvUHBwQeQQQQCCK2645RlGTi1ZojYKKKKQBXyLfX4/Y/8A%2BCqcur6032fwR%2B0/otpaQ30nEVn410iBo44GPCob3TQoTPLyaftGSwr66rzb9rP9mHwF%2B1/8DNX%2BCHj65urJLwxXWja7psnl3uh6lA4ltNQtZBzHPDKqupB5wVOVZgenDVYU5uM/hkrP/P5NJ/eup0YepCE3GfwyVn/n8mk/v7npNFfNP7E37XPjvX/FN9%2Bxf%2B2LBa6N8cvBtkJLpok8qy8baWp2R69pmcB45MDzoV%2Ba3l3IyqNtfS1Z1qM6FTll/wABro13T/rW6WdWlOjPll/wGujXk/66oKKKKyMwooooAKKKKACiiigAooooAK%2BQ/wBt3/gpb%2ByfoX7P/j3wd4D/AGhftHix9MuNL0%2BPwhMWvLe7kzEJY5CVQrGx3MyPnarbDuxWx/wVQ8HftneK/hd4Xk/Y31zXYr218TD%2B3tO8NaiLO7uYGiYI/nF1AiRgQyHIJlRiMRmvxt%2BH3wf%2BIXiD47W3wAs4NLsPEl9rUmgTR67LB9ntbhmaCQO7h1BU7sOm5wwBjy%2B2v0PhHhjL8yofXsTXXuPm5E1dKLu3O6ejtpZbX32PzfjLivMssr/UMNQfvrl52nZuSslCzWqvrd6O225xcssk8jTTSM7uxZ3Y5LE9ST3r3T/gnt%2B1r4j/AGM/jqfirofgtPENteaa%2BlazpAvPLnmtpZYpN0A5JlVoVP3WGMg7c7h454w8PWPhjxNeeHtJ8Xab4ggtJNqavoy3AtrkYBLR/aIopdoORlkXoSMjBP2H%2Bzn/AMEkP2h/j58OdEn8QfA%2Bz8CR3U7Je%2BKvE2r3Md9JbC4JMyaZ1WQIDGvmeWjoFYAbhKf1fOsXlVPLnHHSSpVFZ3drq19tJdFsrp20Px/I8Hm9XMlLARbq03dWV7NO2%2Bser3dmr6n7AeAfGFn8QvAujePdO029srfW9Kt7%2BGz1KDyriBJo1kEcqZOyRQ2GXJwQRWtXKfA/4MeBP2evhTovwb%2BGmnPa6LodsYrSOWZpHYs7SSSMzEks8ju57ZYgADAHV1/NVf2Xtpeyvy3dr72u7X%2BVj%2Bo6HtvYQ9rbnsr22vZXttpe4UUUVkahRRRQAUUUUAFFFFABUGq6ppmh6Zc63rWoQWlnZwPPd3dzKEjhiRSzO7HhVABJJ4AFT18V/H7xvrH/AAU%2B%2BK2p/sPfAfWLmP4PeG9SFv8AtAfETTpikWqMhDN4U0%2BZf9ZJJwLyVDiGImLdvkK1vh6DrS1dorVvsv8AN7JdX87b0KLrS1dorVvsv8%2BiXV/O3Q/8EyodS%2BO3if4qf8FGtdsZoLf4ya/b2vw9guoijx%2BENKSS206baw3Rm6ke7vCvdbiM9MV9Z1V0LQtF8L6JZ%2BGvDmlW9hp2nWkdrYWNpCI4reGNQiRoq8KqqAABwAAKtUsRV9vWc0rLZLslol9y%2B%2B4q9X21VySsui7JaJfcvzCiiisTEKKK8i/bT/aTuf2a/g62qeD9HXWfHPiW%2Bj0L4c%2BGlOX1XWrjKwIR2ij5mlYkBYonJI4rSjSnXqqnBav%2Bvu6t9EmxpNuyK37UH/Jb/wBnH/ss19/6hXiivZq%2BXp/hR4k%2BB9r%2ByX8L/GfxB1LxXrel/FS9Gt%2BItWvJJ5r%2B9k8GeKpZ5A0hLLH5ruETokYRBgKK%2BoaVSMYzai7pPfv5/MHowoooqBBRRRQAUUUUAFFFFABRXi/7HPxd%2BOHxKuvil4O%2BP174Uu9Z%2BH/xMbw9bX3g/Rbmwtbi1bRtK1JC0VzdXLmRW1B4y4cK4jVgiZIrkv2J/wBqf4u/Gj4heI/BHx78TaJo%2Bu2tzrEuk/D8/CfW/D%2BoJptrq0lpDfx32o3ckOrwND9lZ5bSFY1e6jyy71UgHX/t4f8AJEND/wCyzfDj/wBTXRK9mr54/wCChfxc%2BFHhrwf4M%2BFHiP4neHtP8U%2BIPjD8PZdB8NXutQRahqSR%2BM9GaRre3ZxJMFVWLFFIAUk4wa%2Bh6APkK/kvP%2BCXPxTvNeFtK/7OXjfWWuNQEMZZfhtrNxJ8820fc0q5kbLY%2BW3mcnCo/P1xZXtnqVnDqOnXcVxb3ESyQTwSB0kRhlWVhwQQQQRwQaj1rRdH8SaPdeHvEOlW1/YX1s9ve2V5AssNxE6lXjdGBDKykggjBBxXyc3hf4x/8Ex7uS/%2BGWgaz4//AGfGlaS78J2Ye71v4fKSS0lipJe%2B01cktb5MsA%2BZN6hlr0fdzBau1X8J/PpP10l3Uviv4/X8/wDgn11RXO/Cn4t/DT45eAtP%2BKHwh8bad4h8P6rD5ljqmmXAkjkHcHurA8MjAMpBDAEEV0VcEoyhJxkrNEbBRRRUgeSftc/sbfC79sDwjp%2Bm%2BLrvUdB8TeG7w6h4G8feG7j7PrHhm/xgXFrMBwCABJE2Y5V%2BV1OAR454H/bp%2BLH7JHiWx%2BBP/BUiwsdIFzcLZ%2BFfj5o1qYvC3iUk4jS%2B6jRb5h96KU%2BQ7BzFJjC19fVneLfCPhTx94ZvvBfjrwzp%2Bs6Pqds1vqWlarZpcW11Eww0ckcgKup7ggg11UsQlD2VVc0endf4X%2Baej8nqdNOulD2dVc0fxXo/zT0fk9S7a3VrfWsd7ZXMc0M0YeGaJwyupGQwI4II5BFSV8hSfsFftC/shXMniD/gmR8bbfTfD4kMs/wL%2BJs1xfeGWycsunXSlrvRycsQiGWDcw/dACtPwl/wVX%2BGvg3xDafDX9u/4W%2BIP2e/Fd1KILd/HOybw7qMv/TlrsGbOUdOJWhk55QVTwbmuag%2Bddl8S9Y7/NcyKeFc1eg%2BddvtL1jv81dH1VRVfSdX0nX9Mt9b0LU7e9srqJZbW7tJ1kimQjIZHUkMpHIIODViuPY5NgooooAKKKKACvG/2kP22/hX%2Bzvrdj8PI9M1Xxf461fH9keA/CVt9q1GcH/lo6g4hjxk73IyASA20488%2BLXxL/ae/aQ/ae8Wfsh/ADxxY/DrRfBFhp0/jHxq1uLrVLsXsPnRxWMZwkY27laRjuVhkEYAb1P9mv8AY6%2BCv7Ldnd3XgPS7vUPEGqkvr3jDxBdG71XVHJyWmnYZwTzsUKuRnBOTXtRweDwNONTGPmk0pKnF9GrpzltFNa2jeTX8p4csbjcwqSpYJcsYtxdSSurxdpKEN5NPTmlywT6SPhT9vz/grL8TNR%2BF%2Bufs%2B%2BI/2PfGvw%2BuvEunyQ2%2Br69rM2n3KIk/%2BshRbdfOQhFDbZNp3smWXltD4Ef8EAfCeqaFonjT4tftAeII3vbGG8uNI0bQUsLm0d41cRmWdpSroTg5iByMYBFfpcyq42uoI9CKWvTXFdbBYFYfK6f1e7bm1Lm5naytzptWPKfCFHHY94nNqv1mySgnFQ5Ve7vyNKVz5x/ZR/4JZ/stfsf/ABAm%2BKPw7g17VNdMLRWN94i1KOY6ejqVkEKxRRqC6nBZwzY4BAJB%2BjqKK%2BcxmOxmYVvbYmo5y2u3d2XQ%2BmwWAwWW0PY4WmoQveyVld9f6YUUUVynWFFFFABRRRQAUUVzfxW%2BMfwl%2BBPg64%2BIXxp%2BJeheE9CtR%2B/1bxDqsVnbqcZ275WUFjjhRyewNOMZSdoq7Goyk7JXZ0lc78Vvi58MPgX4C1H4pfGTx9pPhnw7pUJl1DWdavkt7eFewLOQCxPAUZLEgAEkCvmeb/gol8av2nydD/4JofsyX/i2xmOxfi98SobjQfCMA/56wCRBe6qAQRi3iVDwfNxzWx8MP%2BCaek69490749/t3/Fi9%2BOPj/TZvtGjR65Ypa%2BGvDcvY6Zo6EwxuvA%2B0TGWc7Q29TXZ9VjR1xEuX%2B6tZfdtH/t5/wDbp1fVo0ta75fJay%2B7Zf8Abz%2BRxt940/ae/wCCqCnw/wDCJPEnwc/Z6uuNS8eXlu9j4q8eWx6xaXA4D6XYyL1vJQJ5FZfLRAWavq74OfBr4Xfs%2BfDPR/g58F/BFh4c8M6DaC20rSNNi2RQoCST3LuzEszsSzszMxLEk9NRWVbEOpFQiuWC2X6t9X5v0SSM6td1IqEVyxXT9W%2Br8/uSQUUUVzmAUUV5l%2B0x%2B1p8JP2WPD9neeO7y71DXNamNt4V8GaBbG71jX7rtBaWy/M5zjc5wiZBZlFXTpVK01CCu30Gk27I6H44fHD4Yfs5fDDVfjB8YPFMOkaFpEO%2B5uZcs8jE4SGJB80srsQqRqCzMQAOa8V/ZZ%2BEHxO%2BNPxZP7eX7U/hibR9cmsJLL4WeAL0hm8G6PLjfLMOg1K6AUzMOY0Cwg8MKb8Hf2ZPi18dfiZpf7Vn7d1taLq2kTG5%2BHnwosboXGl%2BDiR8tzO4%2BW%2B1PacGfHlxEkRDow%2BmK7Zzp4Sm6VN3m9JSWyX8sX1/vS67LS7lTairLc8Z/ag/5Lf%2Bzj/2Wa%2B/9QrxRXs1eM/tQf8AJb/2cf8Ass19/wCoV4or2avPICiiigAooooAKKKKACiiigDxf4E/seax8CfGni/xraftZfErxHJ448Vw%2BINesfENp4dED3aWtvZkJ9k0iB0je3tLaJgHziEMpV2dm1Ph/wDstQeE/jQvx58bfG/xr4616y0O%2B0bw7/wlR0yODRLG8uLa4uobePT7K13mR7KzBkuDNIFt1Acbn3%2BqUUAeM/t4f8kQ0P8A7LN8OP8A1NdEr2avGf28P%2BSIaH/2Wb4cf%2Bprolanhn9sD4Na18adR/Z58RXt/wCFvGFpdyR6bpHiuyNkdchU4Fzp8jHy7uJucBGLjB3IuK0hSqVU3BXtq7dF3/r52JlOMbXdrnqVFFFZlHzj8UP2HPEPg7x7qH7QP7Cfj%2B1%2BHHjbUZvtHiHw9dWrTeGPFknc39mhBhmbp9rt9soyxYSZqX4X/wDBQTw5b%2BM7T4Iftf8AgO6%2BDvxBun8qwsvEF0smja8443aZqYAhuM5X9y5jmBYKYyRmvomsD4mfCv4bfGfwbd/Dz4teBNK8R6Hfptu9K1mxS4gk9DtcEBh1DDBB5BBruji4VYqGJXNbaS%2BJfPaS8pfKSL5k9JG/RXy6v7IH7TX7Lv8Apn7CPx6F54ch5X4R/Fi5n1DTIkH/ACzsNRBa8sAAMKjmePJ5UAVe0L/gpT4H8D6tb%2BCv21vhZ4g%2BB2uzyiGG88WKtx4evJD2ttZt82zDHOJjC4zyooeBlUV8PL2i7LSS9YvX/wAB5kHJf4dT6UoqromuaJ4m0m31/wAN6xa6hYXcQktb2xuFlhmQ9GR1JVgfUHFWq4WmnZkBWf4p8KeFvHPh%2B78JeNvDWn6xpV/CYr7TNVs0uLe4jPVJI5AVdfYgitCimm07oE2ndHzd4I/4Jdfs9/BP4p6b8UP2XPFPjX4UQ22rpfax4M8D%2BJ5IvDetgPl4bjS5xLbRqwyubdYXGchga6z9uXxbrvh74QaX4a0HxTe6C3jDxtovhy717T5TFNp1td3aJNKkg/1TGMMgfjaZAQQcV7LWb4u8HeEPiB4bu/Bvj3wrput6Rfx%2BXfaVq9jHc21ymQdskUgKuMgHBB6V0fWak60Z1W5W77/f1%2Bd9ux0fWJzqxnVfNb7/APg/O580/BDxn8TPDH7IXxZ8SfAZvEHjJNF1zW0%2BESX%2BpTavc31vFCggjinvJWe5jW5EqJ5kpyEK7sAAWfhz%2B1t8U7f4aeF9GsdZ0X4o%2BO/E/iG80axsrrQ5/Bv9nTWVrJPfDVkke%2Be1aLy1U%2BXESTcQ7Yirb69n8Wfs/eBPEPha48LeH7zWfCaTJaJDd%2BDNYl02W0W2BWFYREQiIqkqU27GXhlYAY8r8WfsD3mj6XoVx%2Bz18ZJ/Dev6Ydf/ALT8Q%2BJ9LbWp9Uk1lYvtt64E8AS9DwxvFJ80MY3J5DIQq9EauFqN8%2B7d9V5dWul9Xbd36HRGrhqjfP1d9V5dWul9dOt%2Bhb0r/go38E38IeFfEviPQ/EFnJruhWeq6/DaaY13D4Ut7id7ZJdSnTCwRG4inj8zH/LCRiFVSw4b4jft1/Fb9o5D8M/%2BCdnw917Ub241lbO4%2BKmraAF8O2EKyFZ5YppTi4ZcHACHI5UMSBXhP/BSb9mL4g/Av4Q%2BI/APg6wRPhT8QtX8FaP4v8VQ64V1XTdGsWW3n08WwiHnCZt0vmI/L3dwGTBGfur4gfC/4keFPgTB8Mv2N9d8K%2BCNT0qO3g0GTX/D0uoadb28bDfE0EU8LtuQEbxJkFtx3Hr6UKeXYKhTxXIpucmo8zfIuW13JJXbTkly7WV5XvY8HMqf1/F/VMLW9nFJObWs7S%2BFJ/Y2km7Slppbc579kL9kR/2Zo/Evinxh8VNT8deNfGd5b3HifxZq0AjkuPJi8uKFEDNsjQF9o3HAbHRQB7PXyr9t/wCC23hz5ptA/Ze8Wxp977PqPiHQ5ZB7K0d6oP1bFSWv7R3/AAVa0mQ23iT/AIJmeC9TCRuxu/Dfx/hxIwUkKI7rTYiMkADLY55wBXn4qGJxtd1qlSEpP%2B9FbKySVopJJJJJJJHoYXKqWCw6o4dx5V/f7u7bctW2222222fU1FfKv/DaP/BQuxP/ABOf%2BCPHjNlHV9K%2BL3ha4H4B7yNv0pf%2BG9/2wIRi7/4JB/GJW7iHxZ4XkH5jU65/qOI6cv8A4FD/AOSOj6nX8v8AwKP/AMkfVNFfK3/DeP7Zlx8unf8ABID4uM3YXPjTwtCPzOpGk/4bF/4KPX3/ACCv%2BCPviCEH7raz8a/DUA/HyZpiPyo%2Bo1%2BvL/4HD/5IPqdfrb/wKP8A8kfVVFfKp%2BO//BXnxP8AufD/APwT1%2BFnhknhZ/FPx4lugPcpZaS35BjR/ZP/AAWz8UfuL3xp%2BzH4Nif78unaJ4g12aMf7Jlms0J%2Bq0fU5L4pwX/byf5Jh9Ua%2BKcV/wBvJ/kmfVVFfKf/AAxj/wAFC/Gf7n4r/wDBWnxDa2sn%2Bvs/hr8KNF0UgeiT3a3sq49d3vig/wDBH39m7xbz%2B0N8XPjT8Wx/z7/EP4vapLa5/wCvSzktrfB/u%2BXt9qfsMLH4qt/8MZP8%2BVB7HDR%2BKr90W/z5UeofHP8Ab5/Yn/Zojm/4Xv8AtU%2BBPDNxB9/TtR8SW/20nuFtlYzOfZUNeV/8PUbf4oj7L%2Bxj%2Bxf8ZPi203FlrqeFD4b0GU%2Bp1DWjbAr7xxyewORn134I/sO/scfs2eVJ8Bv2XfAfhS4iHy3%2BjeF7aG6b3a4Cea592YmvU6OfA0/hg5f4nZfdHX/yYfPg4fDBy9XZfdHX8T5NPgn/AIK8ftDnPjX4t/Df9nzQZ/mOneBdOfxV4hCHgxvfXyQ2ULY/ijtpcdQfTofhX/wSo/ZI8C%2BMbf4rfEzRdb%2BLnjm25i8b/GPW5PEF7Cc5Bgjn/wBGtMHp9nhjx0HQV9I0UpY2vblhaC7RVvve7%2BchPF1rcsLRX91W%2B97v5sRVVVCqAABgAdqWiiuQ5Qorzjxd%2B1n8APCmg%2BMdXg%2BJOl6zc%2BBNPmu/EmjaFqENze2wiA3IYw42uCyqdxUKzrvK5zXnXjD9qf4i%2BM9Z8M/CLwpYSfDLxZrHi46Prp8U6ZBqbaZnTbu%2BthGILgQy/aRaSIkgdlBjkTbvKV008HiKnSy89Ol/Xbsn07lKLZ9GVS8R%2BJPDvg/QrvxR4t16y0vTLCBpr7UdRukggt4x1d5HIVFHckgVyH7N/wAWtY%2BMfwyHiDxXo1vpuv6ZrGoaL4j061ctFBf2V3LaymMtz5bmISx5JJjlQ5Oc1594l/4J/eAPjB8V7z4n/tR/EHxB8TbOPVWuvC/gfxDLHF4e0OPdmNRYQKsd3IoO3zrnzSRjgHmiFGlGrKNeXLbsrt%2BS2XzbtbvsCSvqcxqP7afxg/anvJvBn/BOjwDDqWl%2BY0GofGvxjaSw%2BHLLB2ubCL5ZtXmXDAeXtgDBd0pBxXffs3fsU/D/AOAviC8%2BK/ibxFqfj34m6zAI9f8AiT4rKyX86dTb26qPLsbUEnbbwhVAxuLkA17DZWVnptnFp2nWkVvbwRrHBBBGESNFGAqqOAABgAdKlq6mLtB06MeSL36t/wCKX6K0fJg5aWWgUUUy5ubayt5Ly8uEihiQvLLK4VUUDJJJ4AA71xknjn7UH/Jb/wBnH/ss19/6hXiivZq8K%2BPHirwx43%2BKH7NHivwZ4isdW0u9%2BMd%2B9nqOmXaTwTr/AMIX4pG5JEJVhkEZB7V7rTaadmCaYUUUUgCiiigAooooAKKKKACiuZ%2BFnxp%2BDnxz0S78TfBP4s%2BGfGOm2GpSadfah4W1631CC3vIwrSW8kkDuqSqHQtGSGAdSRyKTwd8bfgz8RPF%2Bu/D34f/ABc8Ma7r/hacQ%2BJtD0fX7e6vNIkJYBLqGN2e3YlWAEgU5U%2BhoA4D9vD/AJIhof8A2Wb4cf8Aqa6JXc/Gb4EfCD9oXwfJ4D%2BM/wAP9O8QaY7b44b2L57eTtLDIpDwyDtJGysOxrhv28P%2BSIaH/wBlm%2BHH/qa6JXs1VCc6clKLs11QmlJWa0Pmxfhf%2B2p%2Byp%2B9%2BBnjT/hcXguH7vgjx5qYt9eso/7lnqpGy5A7R3a5woHnV2Hwb/bm%2BBHxb8Tj4Z6nf6h4K8cqB5/gPx5YnTNUBP8AzySQ7LpTjIeB5FI5zXsdcl8YvgN8Gf2gvDB8HfGr4aaR4l08EtFDqlmrtAx/jik%2B/C/%2B2hVh612fWaNf%2BPHX%2BaNk/mvhf/kr8zH2c4fw3p2e3ye6/FHW0V84r%2Byt%2B058Bf3/AOyJ%2B03PfaTF/qvh/wDF3zdWsVXoI7fUEIvbZQOFDGdR/dxxTx%2B3rrXwmP2H9s39m7xX8OVj4k8VaZCde8PMOgc3lmpktweuJ4Y8DqeCaX1KVTWhJT8lpL/wF6/c5D9so/xFy/l96/Wx9F1V1vQ9E8S6TcaB4j0e11Cwu4jHdWV7brLDMh6q6MCrA%2BhGKx/hn8XvhV8Z/D6%2BK/hJ8R9E8S6a2P8ATdD1OK6jUn%2BFjGx2t/snBHcV0Vckozpys0018n%2Bhqmmro%2Bbda/4Jk/CHwvq9x4v/AGTPiD4t%2BB%2BtTyGaQfDzUwmkXMvYz6TcLJZSKPRY0P8AtVXHin/gqL8CD5Pij4b%2BBPjrosPyjUfCl%2BfDOulR1d7S7aSzlbH8Mc8WfQd/pqiutY%2BtJWrJVF/eV3/4ErS/FmnO%2Bup836T/AMFTP2YNL1KHw5%2B0Bb%2BLfg5q877I7H4r%2BF59Khc9yl7h7N191nOfzr3vwb468EfEXQ4/E/w%2B8ZaVrumzf6nUNG1GK6gf6SRsyn8DV3VdI0rXtOm0fXNMt720uEKXFrdwrJHKp6hlYEMPY14N4x/4JdfsR%2BJdbk8X%2BGPg8PAuvvyuv/DPVrrw5dI/9/OnyRI7dT86tyc9aL5fU3UoP5SX48svxYe4/I%2BgaK%2BaG/Y//a/%2BGql/gR/wUh8VSWcQLrpPxY8LWHiKJsfwm6jFrdBe2TIx9cmvC7T/AIKvftZ%2BFfiBc/Dmx%2BC/gP45y2N0ba8vvg4%2Bu2xjkU4b5ZrG5ifH/TOdl/2q6sNk2Ix1/qklO2r3jb15kkv/AAI48XjcDgYp16sY32vu/RWbfyTP0Lr5T0f9t39q/wCPt3qt9%2ByF%2ByHYav4WsdZudNs/G3izxnFZwXkkD7HdbQL5wTcDg55HXBBA8r%2BOH7e//BRbX1tdC8PfsY%2BM/hbod8o/tHxha%2BEbvxVf2UR6vHa28KhHHpIpwOcg9Os/ZL/bV/4Jq/ssfDO3%2BDq/tM6hpd7PqE9/q138TdD1HR7q6v5iGmkb7bbxImSPuqSBjksSWPo0sreX4WVSrSjWqNrlim5qK15nL2crX2SV31ujypVMdm9eMcN7SnRSblPlUXJ6cqippytu2%2BSPSzLvxk/Zc/4KPfti%2BALr4VfH74r/AAo8HeG9RmhlubfwfoV7qF2hilWWM77l0AYOi5KMOM88kV9VfDHwjqvgH4daH4I1zxlf%2BIrzSdKgtLnXdUx9ov3jQKZpMdWbGSSSeeSTknmvBn7W/wCyp8Rgh%2BH/AO0x8P8AXC/3V0nxjZXBPtiOUnPtXf29zb3kC3NpcJLG4ykkbhlYeoI615eOx2Mr0Y0KkFCEW2oqHLq1ZvXV6JbvpsduEyqhgq8q6lOU5JJynJydk20uiVm3tHruPoooryz0QooooAKKKKACiiigAoqprGvaH4dtDqHiDWrSxgXrPeXKxIPxYgV5l42/bx/Yl%2BHIceN/2uPhvp0ifet5/Gll534RiUufwFaU6Naq7U4t%2Bib/ACTGk3sesUV82N/wVl/Yv1gm3%2BF3ibxZ4/uj/q7XwB8OtZ1Uyf7skNqYj/33SH9uH9ozxr8vwR/4JpfFS/H/AD9eO9Q0vwzB9cT3Mk%2BP%2B2O7/Zrp/s7Gr4ocv%2BJqP/pTX5Fckux9KUV81b/%2BCs/xJ%2B7b/BH4WWU/d31LxRqNuPoBZW5b/voH2pD%2BwN8WfiF%2B8/aR/wCCg3xZ8TK3EuleELm18KafIvdGTToxcMvbm4Jx1Jo%2BqUofxK0V6Xk/wSX4hypbs%2BlBLG0jRLIpZQCyg8jPTP5V4t8K/FfxA%2BF3x78X/B/40fFi88Q2N9o0HinwprWs2lpaiC2Ehtb2yBgiijEcD/ZHBYFyLz5mY11H7Pn7KnwD/ZY0nUdH%2BBXw/TRU1i4SfV7iTULi7ub6VFKrJNPcySSysASMsx61oeJP2ePgl4z%2BKenfGvxn8NtN1jxPo1obbRdV1aI3J01CSWNskpZLd2z80kaq7AAMxAAERnh4SnHVxa0dle%2Blurtre%2Buwk4q580W3wS8TeJ/FPhL4OXHw71S/06z8R%2BIZJfHFnsbS9R8Jaut1PKpuUJAuWuPsT%2BXtO6SLfjaSw9I8B/sc%2BLtbn1Of9pPxrpuuSnw/pGkaPe%2BG4Lixukk055JItWaUyFor0ySA/uzsTyxjO9hX0F06UVrUzGvJWjp%2Be9736X7LQbmznfhd8L/C3wg8IReDPCRvpLdbia5uLvVNRlu7q7uJpGklnmmlZnkd3ZmJJwM4AAAA6KivPPjX%2B1j%2Bzh%2BzrGo%2BMvxi0TRLqXH2fSpLnzb%2B4z0EVpEGnlJ9EQ9RXLGNbEVLRTlJ9tX%2BBnKcYq8nY9DqO6uraxtpL29uI4YYkLyyyuFVFAyWJPAAHevndv2ov2q/jgPsv7K37KN3pGnS8R%2BN/jHI%2BkWgHZ4tOj3XtwpHI3iAH1HWnW37A9z8VrmPW/22fjrr3xRkVxIvhWMf2R4agYHKgafbNm42njdcyS5HUCuj6pGlrXmo%2BS96X3J2Xzl8jH2zl/Djfz2X46v5Is%2BKf%2BCgPg/xHr1z8PP2RPAGqfGPxNbSGK6bwxKsWiadJ/096tJ/o8ff5YzLJxjZms%2BD9jj4sftE3Eevft6fFePWtO3iSH4VeCXmsvDsJByBdSEi41MggH96UiyD%2B6wa%2BgvDHhXwx4J0G28K%2BDPDlhpGmWUYjs9O0yzSCCBP7qRoAqj2Aq/T%2Btxo6YaPL/eesvv2j/26r/3g9k5/xHfy2X/B%2Bf3Hhnx%2B8OeHvCHxS/Zn8MeE9Cs9M02x%2BMF7DZafp9skMFvGPBPijCIiAKqj0AAr3OvGf2oP%2BS3/ALOP/ZZr7/1CvFFezVxNtu7N9gooopAFFFFABRRRQAUUUUAfKv7C3xS8NQ/Fn47adD8L/iLoVp4g%2BMtvfeG31v4PeIdJtbqybw7olis0cl1YRRiMXFjcoTkBBGGbCOjNxH7Cnw/%2BIOl/GH4U%2BGNW%2BFHijQ9Q%2BE/wz8Y6D8Ste1nw1dWVnqep3%2Bs6XNC1rdSxrFqa3L2d3fedbvKsYceYUkmK19w0UAfPH/BQvTfivP4P8Gaj4c8aeHrXwtD8Yfh6Ne0a98MT3GoXjnxno3ltb3i3scdsFbaWD20xYAgFMgja8cp%2B3P8ADLxjqXiz4fy%2BF/id4Xu7t54fCOoAaLq2nRk8Q212u6C4VR/z3VGPTf3qf9vD/kiGh/8AZZvhx/6muiV7NWlKp7N7Jp9Gv%2BGa%2BTMa9H20UlJxa2adv80/Rpo8S8G/t8/ArU9fh8C/Fg6t8MfE8x2poHxGsDppmbp%2B4uWJtrgE8AxysT6DOK9rhmhuIVuLeVXjdQyOjZDA9CCOorN8Y%2BCPBnxD0Gbwr4%2B8JaZremXAxPp2r2MdzBJ/vJICp/KvFpf2CdD8ATPqX7KPxp8XfCufcXXSdKvf7R0RnPUtp15vjUH/AKZGL2Ira2Eq7Nwfn7y%2B9e8vuZzXzChulUXl7svud4v5OJ77QQCMEZB6ivAR8Q/2%2BvhB%2B7%2BIXwS8M/FHS4uusfD3VP7M1IIOrPYXzGN3I5xHcfQdqv8Ahv8A4KF/syX2rxeFviJ4l1H4da5KcDRfiVo82iy59FkuAIJM9tkjZ7dRQ8HXavBcy/uu/wCC1/AazHCp2qNwfaa5fxfuv5SLHxK/4J/fsrfEnxA3jmH4cnwt4oOSni3wHfzaJqSuf4zNZtH5p/66Bx7cVzo%2BBv7enwhGfgr%2B1lpXjvTo%2BIdA%2BMPh8GcJ6DU9OEchb3kgk9819A6Vq2la7p8WraJqdveWs6boLm1mWSORfVWUkEfSrFVHG4mK5ZvmS6SXN%2Beq%2BTR0expP3o6ea0/LR/cfO4/bG%2BP/AMNv3P7Rv7CvjWyiXhtd%2BG91D4nsmA6yGOHy7uNe%2BDASPfrXuB8e%2BErfwRF8RtY1qLStGlsI7x73Wj9jWCJ1DKZRNtMJ%2BYAq%2BCDwQDxWxXyR%2B2XoUf7Q37bPwv8A2RPiXqE9j4CufD994mntVYBPEepW7FY7JgQQwgUfaGRgVZWIIPGOnCUKGY4jl5fZqKlKTV37sVd2i%2BvbW2t3ZJnFj8VVy/Dc8fflKUYxT0XNJ2V2tl1btfSy1aK3h/8A4K1fDuX4g%2BMfhxY6FdfEbUtK1xYPC9t8IdIudTbULR4UkDyO%2BIgUZ/LZkkKkoxAAxmva/t4ftr/GnSLvVPgj%2BxxY%2BC9DtI717rx38VvEQTT7VLV3jnZ4rYb18tkfOWx8jehr2T9mz9mHxJ%2By74c1bwp4P8a6Jqdhqet3WpiKXwlDp0ivJCqpFmzZIQitGgG2AYQbQOAa878Y/sw/FyXw54%2B1zSvhZ4S8Pp4g0ext73wV4F1Iyw67MmoC4vb12ltrVPtElu0sKIy/MzNvlwwI9GNfJI1WqNFO1rSnJu%2ByfuLkS77tX30aOR4XNqsP31dq/SnFRt/2%2B%2BeT%2B5O22pzHgj9mmX9q7wpd/EL9qb9vfxD4u0aC5Nvqnhrwu58N6Lavhf3FxGVWWUYdSrSbGZXUjIIJ%2BsPhh8N/h58JPAmnfD/4VeGLLSNB0%2B3CWFlp6YjCnndnkuzE7i5JZiSSSTmvmLxvYyQePNK%2BMv7RHgi70fwR4l8aXmoaxoGqab9rObXTDaaYl7DAJFLS5llwdyq0NshO7aB7l%2ByT4a8VeB/2a/C2i%2BOdLfT7%2BHTnnk0ox86bFJLJLFZhR08iJ44QvbysVy5niMRXoLmqe5fSCUVFaa2UUk2tm7PRrXU6MvwOEwtVyhD32tZNylJrzcm3Z9lZeR6VUN/p9hqlo9hqdjDcwSDEkM8QdGHoQeDXgcX/AAVG/YotJFtfGXxQ1Dwnc5w9t4y8IappRQ%2Bha5tkT8mNdv4T/bO/ZD8dhR4O/ai%2BH2ou/SG18YWTSD2KeZuB9iK82WCxtNXlTkvk/wA0n%2BZ6Kr0ZPSS%2B9EPjP9iH9jP4iF38dfsn/DfVpH%2B9PfeCrGSXPqHMW4H3Brgbj/gkb/wTteZ7nSv2bLLRpHOS/hrXdR0o59vsdxFj8K%2BhdJ1vRdetRe6Hq9rewnpNaXCyKfxUkVapwxuOpK0asl/29L8r/obqcraM%2Bbf%2BHXPwM03jwN8Zfjd4YUfdTQvjbrqKv0Ety/60f8O5b%2B240f8A4KBftJWYHQf8LGgucf8AgVZy5/GvpKiq/tHHdZ39VF/nFj559z5t/wCGDPjNacaR/wAFNfjsgHT7bPoVwfzbTBmj/hib9ptOIP8AgqJ8WgP%2Bmmg%2BHmP5/wBnV9JUUf2hiu6/8Bh/8gHPL%2Brf5Hzb/wAMR/tKS8Xf/BUL4usO/k6L4ejP5jTqP%2BGAvilejGt/8FL/ANoGT1FjquiW2f8AvnSzivpKij%2B0MX0a/wDAYf8AyAc8v6t/kfNp/wCCb0F1/wAhv9uz9pK9B%2B8P%2BFrPa5/8BIYsfhij/h1T%2By7qn/I%2BeJfir4qz97/hIvjP4hlDfUJeIDX0lRR/aOO6VGvSy/KKDnn3PnfR/wDgk3/wTl0e7F%2B37JXhfUpx/wAtvECTamx%2Bpu5JM/jXpvgn9lz9mb4aMjfDn9nbwLoBj/1baL4Ss7Ur9DFEtd3WX4j8c%2BCfB8Rn8W%2BMNK0tAMl9R1COAY%2BrsKieLxtfSVSUvK8n%2BF/0Jc5W1ZqABQFUAADgCivIvF37f37EHgYMPEv7Wnw9hkT79vB4rtZ5R/2zidn/AErmD/wU5/Zb1j938Mh458czfww%2BC/hrrF9u%2BkgthGfweiOBxs1dU5W9Gl97svxMXXoJ2cl9/wDw59CUV89/8NkftAeLePhH/wAE7fiZeD/n48Z6jpfh%2BL64muZJcf8AbPPtSHV/%2BConjr57Dwb8Gfh7bS8Eanq2o%2BIbyEeu2GO0hJH%2B%2BR7VX1GrH45Rj6yj%2BS5mL28H8Kb9E/1sfQtUvEHiTw74T0uTXPFWvWWmWUIzNeahdJDEg93cgD8TXg//AAyL%2B01444%2BNX/BQrxtLAeTYfDzQNP8ADsYPceaEnuMf9tQfQirmgf8ABND9jbT9Uj8ReMfhZL441ZDltW%2BI2tXevzO394i%2BlkjB/wB1AKPY4OHx1b/4Yv8AOXKvwDnrS2jb1f8AlcXxL/wUq/Y/0vVZPDPgj4kT%2BPtaThdE%2BGujXOvzu393dZI8an/edRWef2hf24visfK%2BB/7GEPhSyl/1PiD4w%2BJo7QqPU6dYefOT7O8f4dvefDfhbwz4O0mPQfCHhyw0qxhGIrLTbNIIk%2BiIAB%2BAq/T9vhKf8Olfzk7/AIR5V%2BLDkqy%2BKVvRfq7s%2Bdj%2ByJ%2B0b8V/337Tf7bHiSW0k%2BaTwv8AC2xTw3YjP3o2uFaW9mTHH%2BuTPp1z6F8Ff2Q/2aP2eJGvPg/8GtF0i/lz9o1o25uNQnJ6mS7mLzyZ5%2B856n1r0evPL/436/onxS07wR4k%2BE%2Boafo%2BtaxJpWj%2BIZ9Rtm%2B1Xa28tx/x7oxdYmSCXa5O4lDlFGDSeJxdeLgnaPZWivuVr/O5Elh6DUpbt2u7v8dbfgeh1leMPG/hfwF4av8Axd4r1UW1hpsYe9lSJ5WQEgABIwzsxLABVBJJAAOa8N%2BIfxa%2BJXhT4keLPGo%2BIE8Ol%2BDvEukWd34SltoPss2kXkVukl2HEfneaJZ/MD%2BZtVYWTZ1J8u8MfDc6lHa/A74b7dI8djSb6PxhGbYxK%2BpaZeLdabq92FAEhnuAp8/B85JZVyduBdPBJrmnLTT/ADd/k1rrucVbM3GThThd6rXq9Urd9U9G07L7vr3wD8RfCPxN0Rtf8Hak88Mc7QXMU9rJbz20ygFoZoZVWSGQBlJR1DDIyOa83%2BJ37VniLRvHF/8ACX4H/s8eLvHnibTmRL6RLX%2BzNHsndFkUTajdBYydjq2IVlODjGeK1PgR4c8dx%2BP/AB18SPF3ge68MReJ7zT5I9EutSt7ktcW9oLeW7DQOyqJFSCMAkMVt1ZlUsVHp9YP2NGq7rmXr187b220aOpfWMRh1aXI7u7tra7WiltfR6p27bHgPxhuPHl148/Zhufifpml2evv8Xr06pa6JdyT2sUv/CFeKfljkkRGYYxyVHOa9%2Brxn9qD/kt/7OP/AGWa%2B/8AUK8UV7NWDd3c64rlile4UUUUhhRRRQAUUUUAFFFFABRRRQB4z%2B3h/wAkQ0P/ALLN8OP/AFNdEqbxla/tseCPFeoeI/h/qfg3x34fuLp5rfwxrEMmj6hZxE8QQ3cfmxS4H8Usak929Yf28P8AkiGh/wDZZvhx/wCproleyRyxSgmKRW2sVO05wR1H1q4T5Hsn6nNisMsTFLnlBrVOLs/yaa8mmjxGH9unwP4RlXTv2jfhr4u%2BGN1uCNdeJNIM%2BmO/omoWnmwEe7sn06V614N8eeB/iJo6eIfAHjHS9csJPuXukahHcxH/AIHGxFak0MVxE0E8SujqVdHXIYHqCD1FeS%2BMf2Gv2Z/FesP4q0v4f/8ACLa62Suv%2BB76bRrxW/vF7RkDn/fDVd6Et04/ivxs/wAWcXJnOH%2BGUKq/vL2cvvjzQfzjE9cqj4j8L%2BGfGOkS6B4u8O2Oq2E4xNZalaJPDIP9pHBU/iK8c/4Uh%2B138OPm%2BEX7V0XiKzj/ANTovxR8PJdkj0N9ZmCb8WV/x79bpnxe8R/DX4R6p8SP2uofDHg1dFmf7Ze6Xrkl1ZSwAJslVpIo5FZ3ZkEO1mJC4JLABqjJySpPmbdkle9%2Blla/3GlPH87cMRRlTsm25crhZb%2B%2BpOP3pHHap/wTr/ZtttQl134S2fiD4Z6nM25774a%2BI7jSVJ97dGNsw9miI7dK8e%2BPH7Q3xQ/YquP7IP8AwUB8I%2BM78MI7PwR438H/AGnV5Cfup5ujlJAx6B5YME9zXMfEr9rD9pT9s7WtS8GfsJ/D3x9ptvrOlSWl14j8U3NtYaTBZSRvH9qjjMbzxSNvEkciyK5C5EbYIHd/sm/BOy/ZJ8a%2BGvgpp/ww%2BHNv4pXw1aSeJvFMttfpda3eyGY3H2O%2BlicSbEi3tEdmS%2BQkanC/RRwywdJyzGXNJf8ALu8HK1r3lJ8ziulk3K/RHy08xo4utyZdT9nC9vapTUG27JQjFwUnu3dKK7ybSOS1z9t3/gqX8Tvhfbax8NP2CL7wms0gTUPEdwwv7pIj/wAtrXTLj7PIxA5G8Op6d6T9njxT%2BxF8IPiRb/GT9qD4w%2BObr4s7WQeIvjP4bv8ASPsO9WRktIpIxa20ZDMAFdyAxAYA4r6q8OftLeENe8STaXd6FqWmaWYNRm03xLqDQLZXyWEvlXbKRIZIwjZYNIih0BZSQDjofA/xI%2BHvxi0i8k8MXT3tvbyiC9ttQ0ua3ZSyK67oriNGKsjKytgqwOQSK5qmaqNGVKlQVKD35G%2BZp9JSlzNryvFd0d9DAU69eFWWL9tNfCqiVk49YwjyJPrzWk%2BqkP8AAvxf%2BE3xQtxd/DT4n%2BHvEMRXcJND1qC7GPXMTtXRV5P46/YU/Y5%2BJFwb7xX%2Bzb4Re7Lbjf2Ojx2dyT6%2BdbhJM%2B%2B6ud/4d/eBtA%2BX4T/Hz4veCol/1VponxEurm2Q/wDXG/8AtCY/CvJ5MHLabXrG/wCMX%2Bh73tMxh8VOMv8ADJr8JR/U96orwYfAH9tjwzz4L/bwXU4o/wDVWnjX4b2N1uHo01m9s/44Jo%2B3/wDBTHw589z4c%2BCniuJOq2eparo80g9hJHcoD/wLFH1aL%2BGpF/Nr81%2BofXZx%2BOjNeiUv/SZfoe7yxRzRtDNGrowwysMgj0IriPFn7MX7Nfj0sfHP7PfgfWS/3zqvhOzuCfxkjNef/wDDRX7Zmi8%2BKv8Agn3fXMa/6ybwt8SdLvPxCXH2Zz9MUf8ADc2oad8niz9i3456ay/6xofBEeoIPobK4mJH4VcMPi4O9N/%2BAyX6SQnmGCa9%2B6/xQkvzgw1b/gmB%2BwDq1yb3/hlrwzYzHpLokUunsPobV48fhVX/AIdlfsy6dz4M1P4jeGyOh0H4ta9Dt%2Bga7YD8BVv/AIeP/sz2HyeL18c%2BHX7x698MNbg2/Ui0ZR%2BJqS1/4KX/ALCN1MLeX9pbw/aSH/lnqfnWjD6iaNSK6OfO0t5v73/8kZfW8mv8cF80vz5SgP8Agn1aWvGi/tnftBWQH3QPihLc4/8AAqKX9aP%2BGH/idY/8gP8A4KIfHCL0F9f6PdY/7704V1%2Bm/tz/ALFurgfYf2s/hwSeiyeNLKNj%2BDyg1t2X7T/7NWpAHTv2hvA0%2Benk%2BLbNs/lLUPEZmviT%2BcF%2BtM2jUy6Xwzj8pr/5M82/4ZH/AGn7fjTv%2BCk/xFUDp9p8LeH5v52IpP8Ahln9sZeIv%2BCmXjAD/b%2BHfhxv/bOvXIPjb8GLoZtfi74YkH/TPX7Y/wAnqwvxW%2BFzjK/EnQD9NYg/%2BKqPreMW8V/4BH/5A0UcK9pf%2BTf/AGx43/wyt%2B2DJxcf8FMfGZH/AEz%2BH/h1P5WdL/wx/wDtIXXGqf8ABSP4nOD1%2ByaDoMH8rA4r2J/i18K4hmT4meH1Hq2swD/2eqlz8d/gfZgm8%2BMvhSIDqZPEVsv83oWKxr2iv/AI/wDyANYVby/8m/8Atjyf/hhXxxefNrf/AAUG%2BPM57ra6/pdqp/79acCPzo/4d4%2BGrzjxB%2B1h8fdTU/ejn%2BLd7CjfVbbyhXol9%2B1d%2By3pYJ1L9pPwBbgdfP8AGNimPzlrC1T9vr9iLSATd/tZ/D1sdRbeLLWY/wDkN2q1XzSXwp/KC/SmZSq5bD4qkfnNf/JnMf8ADr79j%2B%2B%2BfxX4b8W%2BIJD95/EHxL1263fVWvNh/wC%2Ba1PDn/BNf9gbwvKJtO/ZH8CzuDnfqmgx3zE%2BpNwHyarv/wAFNP2GC5jsP2gLDUWBxt0fS729P4CCF803/h4n8DtS48EeBfij4mJ%2B7/YXwo1l930Mlsgq3LOmrNzS9Wv1iZLF5OnpOD9LP8lI9T8I/BX4N%2BACp8B/CXwzohT7h0jQbe22/Ty0GK6avBj%2B2p461j914I/YT%2BM9/IfuNqmjWGlxH6tdXisPxWj/AIXh%2B3drv7rw9%2Bwvpekb/u3Hir4qWi7Pdo7KC4z9A1c0sNiZO82vnJf/ACTZqswwiVoKT9ITf/tqR7zRXg39m/8ABTDxL%2B6u/FHwW8JxP1ex0zVNYnjHsZJLZCfqtJ/wy9%2B1J4o/dfEn/goH4q8hvv2/gnwjpej4/wB2R47iUf8AfZqfq9NfFVivS7/JfqP65Vl8FCb9eWP5yv8Age9VwnxE/ah/Zu%2BEgkHxM%2BPHhHQ5I87rbUfEFvHMT6CMvvY%2BwBNcB/w7n%2BAWufP8WPEnxA8fP/1OfxD1K5j/AO/McscOPbZj2ru/h3%2Byn%2BzN8JTHJ8NfgD4P0WaPG26sPD1uk%2BR3Muzex9yTRy4OO8pS9El%2Bbf5Bz5lPaEY%2BsnJ/dFJficGf%2BCifwY8R/J8FfAPxF%2BI7dBJ4M8CXj2%2Be2bm5WGDH%2B15mPej/AIW3%2B318Qv3fw/8A2U/DHgq3bmPUviP40FxJt9TaaakmD7GZfQ4r3uij21CPwU1/282/w91B9WxdT%2BJWfpFKP4vmZw3wR8LfH3w9Z6hdfH34s6L4lvb2WN7O20DwydOttNUBt8aFppZJgxIO5yCNvTmsr4nfCv4v%2BMfjd4b8deFfGXhzTdF8P6XcJHHqWjT3l0LueRFlljCzxRqfs6GNXbft82Q7DkV2Hjn4qfDH4Y2f9ofEj4i6HoEG3cJdZ1aG1Uj2MjDNeXz/ALfvwK1iVrP4Rab4t%2BItyjFWi8CeE7q8iB97llS3A9zJilB15TdSMd/LTt5L8TDE4nK8LBUK9ZJpp2c7zdnfZc03/wCAnd6x8Bfhv4s1jS/E/jvRhrer6RL5lpql5iOQ4kEqK6wBElRHVWVXVgpUHrzXZ14efib%2B3J8Q/k8A/s5%2BG/BFq3Kaj8Q/E32qcqe/2PTw2G9mnX3xSH9ln4z%2BP/3nx6/a/wDFd9C3LaL4FtovD1ng9UZ4t9zIvbmYZ/SlKDaXtJrT5/gtPxM4Y9yb%2BqYacr9WlTT9XO0n/wCAM9D%2BKXx9%2BCfwTs/tvxZ%2BKeh6ACu6OHUdRRJpf%2BucWd8h9lUmvOv%2BGvvG3xG/cfs0fsy%2BLPFET/6rxD4ki/sDSSp6SLJdr58y%2B0cJz6%2BnYfC79k79nL4M3n9rfDz4Q6PaakW3PrNzAbq/du5a6nLzE/V69DqeahHZN%2Bun4L/Mv2OcYj%2BJVjSXaC5pf%2BBz0XygeCfGiTxvL8Qf2Y5PiRa6XBrrfF%2B9OpxaJNJJaJL/AMIV4pyImlVXZcY5YA173XjP7UH/ACW/9nH/ALLNff8AqFeKK9mrJu7uepCPJBRu3bq9367a/IKKKKRQUUUUAFFFFABRRRQB8u/Ab9sb42/ED4xeFpPG2meFl8B/EzWvF2meCrPS9NuYtV0uTRbuWKGS8uHuXiulu7e2uZiscMBt28uPM%2BTILvwr/an%2BLuu/tpeK/gb8WPE2ieGdFt/E9zpvgDQL/wCE%2Bt2lz4ntotLt7s3Frr092NPu5FdrstbwQNII7VyQAjOOi8HfsGeBvAXxJm%2BI3hf4u%2BN4BbXWs3XhTQnn06Ww8LT6terealLYo9kXZp5Q4/0l5xCk0scAhV8Vv337LUHiL45aL8a/Hvxv8a%2BIofC2tXOr%2BEfB2pHTI9J0W%2Bms7iyaeL7NZRXUxW2u7qNBc3EyqJ2IG5UZQDjP%2BChfxc%2BFHhrwf4M%2BFHiP4neHtP8AFPiD4w/D2XQfDV7rUEWoakkfjPRmka3t2cSTBVVixRSAFJOMGu18X/sh/CnxD4lvfHXhe/8AEPg/xBqE7TX2teD9fmspLiQ8lpI8tDKSeu%2BM571l/t4f8kQ0P/ss3w4/9TXRK6bxF8Vvif4P127i1n4B6rqOjRzsLTVfDWoQ3crx5%2BVntmMcinHULv8AxrKtXp0EnO9vJN/fZO33Hm5lSy6rSisZT5op6Plk%2BV23vH3o6dU12uc5/wAIX%2B2h8PufCXxe8MeO7Neln4y0dtPuwo/hF1ZZRm92h%2BvrR/w1D4%2B8Hfu/jV%2By14z0ZV%2B/qXhtI9dslXuxa1PnKP8AehHvXRaJ%2B1H8DtXvV0i/8bR6JqB4bTvEttJp0yn0xcKgJ%2BhNdP4v%2BIfgvwJ4D1L4m%2BKPENvbaFpGnS31/qSsZEjgjUs7jZktwDwoJPQAmnh61LFO1GSk9rJ3d%2B1t7/I8%2Blh6XI54HGySjunKNWKt3U/fil/jVj5z/at/4KHeCdH%2BD0Fl%2BzD8TNCu/HPiXxLYeHdFg1NWik02a6k2m6mtZ1V9sag/eXaGK7sj5Td8Of8ABPfxF478Zab46/bT/aY1j4wHRZkuND0CfRINJ0aCYHImks7dilw47FuMZDBgcDz7V/hz8Tf%2BCret6T4s8a%2BBIvAvwU03Uor7SP7T02NvEPisIcpIGYE2VqwJxg7mByN4YFPeW/Yj%2BE%2BiEy/CnxP4y8CPnO3wl4ruIoCf%2BveYyQ49tmK%2Bmr1qmTYSGHoyjGs%2Bb2jSTlG9lGPPZ8rSupKD0b1le6Xj0YZrmmIlia9JV6K5eRc0qUZWu3JU5c0ZJu1nN2dk4q2r6zTf2ffhf4e1/U/FPg/SbvQr/WJnm1OXRNWuLaO5mcgtM8CP5LyHA%2BdkLYyM4Jqv4i%2BCmpeLvHmneJPE3xO1W90bSdYTVdP8OSWdqscN2issZEyRrK0a72YIxJ3bfmwMHm/%2BFYftg%2BEPn8GftL6N4jiTiOy8ceEEDY9DcWMkRJ9zGfxo/wCFo/tgeFP3Xi/9mHSPECJzJe%2BCvGkYJHqIL6OE/hvJrwPaTve567xODhDkr4SpTV76Qco3vfX2UpJ666xt1aOQ1r9lX4rXPwtvPCWsajpmpLonh59L8OWOmzMkuqRvciW6ed5QiQzTwL5G0Eopkdi%2BCAvp/wAG/DfiyXxj4u%2BLPjLQbnR5/Et1aQ6fot5PFJNaWdrCUTzTC7x%2BY8sk74R2AVkG44rn/wDhs/wZov8AyUv4S/Efwkq/6y41jwVcTQKf%2ButmJkP1zWz4W/bA/Zc8ZSCDQvj14XMxOBbXmrR2s2fTy5ij59sVcq85xaZjhK3DlLExdPEpSX2ZSUW2k0tJqEtE2krW9Wrur8Rvj58Vfhz4yvNLH7JvjHxF4fh8v7J4h8LX%2Bn3LXGY1Z/8ARZLiOVNrFl6HO3I61h/8N%2B/BHR/l%2BJPhjx/4Mb/qaPh5qUKD/tpHDJHj33Y969m03VdL1m1W/wBH1K3u4H%2B7NbTLIh%2BhUkVYpKdK1nD7m/8AgnrSw%2BYuTnRxOj1SlCMl6JxlF27b%2BrPLvC37bf7IPjJhHoP7SngxpGOFgutfgt5SfTZMytn8K9C0LxT4Y8UQfavDXiOw1GLGfMsbxJlx9UJFUvFPww%2BGvjgMvjX4eaHrAYYYappMNxn6%2BYprz3Xf2BP2MPEE/wBquv2bfCtrLnIl0nThYsD6g2xQj8Kf%2Bzvuvuf%2BRN88h0pT%2BdSD/KaPXqK8SH7AXwN0znwP4l%2BIXhg9v%2BEf%2BJerxAfQPcOB9MYo/wCGOvFOnfP4X/bR%2BMdmw%2B6t5r9nfIPqLm0dj/31RyUXtP70/wBGw%2BtZtH4sKn/hqx/9ujFnttRXdlZ38Rt760imjPVJYww/I14v/wAM/ftZ2Hy6N%2B3rqzoPurrHw%2B0m4x9TGkRP50f8Kx/by0zmw/at8FanjoNT%2BGDxZ%2Bphv/6Ueyh0mvx/yD%2B0cUviwlT5ezf5VEek6l8HPhFrJJ1f4V%2BG7onr9p0O3fP/AH0hrEvf2Uf2W9SJOo/s2eALgnr53g6xfP5xVyP9l/8ABRm0%2BWLxp8F74Do03h3VoGP/AHzduP0o8/8A4KOQ/wDML%2BCVx/2/6xDn/wAhPWi9rHaqv/AmYyxtCXx4Sp/4Ki//AG5m5P8AsQfsYXJ3TfskfDMk9SPAung/pDVdv2DP2JXOT%2ByT8Ofw8HWY/lHWX/bf/BReH/WfDj4NTf8AXLxdqq/%2BhWNH/CU/8FDF4Pwb%2BE7e6%2BONQH87Cr58Uv8Al9/5O/8AMzeIy574Of8A4INWP9g/9iaM5X9kn4cH/e8GWR/nHVu2/Yp/Y3szutf2TPhpGR/EvgTTwfz8muf/AOEn/wCChz8L8H/hKnu/jfUT/Kwo/tb/AIKMzfc8B/BaD/rp4p1Zz%2BlkP50OeKe9b/yd/wCYLEZetsHP/wAEI7Sx/Zh/Zq0sg6b%2Bzz4Gt8dPI8JWaY/KKt3TPhj8NtEIOjfD3Q7QjobXSYY8f98qK8u3f8FHZv8Alj8Erb/trrE%2BP/HUo/sH/gonf/Lc/Ez4PaeD/FZ%2BEdTnYf8Afy9UH8qhqpL4qi/8CbNY42jH4MJU/wDBcV/7ej2xI0iQRxoFUDAVRgClrxL/AIVH%2B3NqHzX/AO2P4asM9U0v4Vo2Po01638qP%2BGcP2mdT%2BTxL%2B3t4qMZ6po3g/RrP8mNvIw/M1n7KHWa/H/I1/tDFv4cJU%2Bbpr85s9torxI/sW3F7z4k/a7%2BNWoFvvKvjZLJT9BZwRED8apw/sKfskaxq82h%2BJ31zxPqdvGsl1ba/wDEbVLyZEbozxNdYAPqV5o5KC3n9y/zZLxeauyWHjG/81WP/tsGeu%2BJvib8N/BSs3jL4g6HpIX7x1PVoYMfXewrzzXv2%2B/2NPD1z9iuP2i/DV7PnAg0S8OouT6BbUSEn2FVvhd%2By7%2BwRewzXvwt%2BC3w31YWVwYZ7q10y0v2hlABKmRg5VsH1zXrOg%2BFfC/hW2%2Bx%2BF/DdhpsOMeVYWaQr%2BSACj/Z13f3L/MVOec4iClCVFJ9Vz1PxvGLPIP%2BG6vBOs8/Df4H/Ffxajf6u40f4e3UELf9tb0QIPxNH/C8v2w/FHy%2BCP2KxpcUn%2BqvfG3j2ztto9WhtFuX/DINe3Vm%2BIvGPhDwhb/a/FnirTdLixnzdRvo4Fx9XIFHtKS2h97b/wAhzwuO5eavi3Ff3Y04L75c7/E8i/4RD/goH4xGzXvjN8OPBUR5x4Y8K3Oqzj28y8mjT8fK/A0f8MZap4o/efGL9qv4o%2BJy/wDx8WVtr6aNZyj08nTo4Tj2LmtvW/23f2UtEu/7PHxt0jUrntbeHzJqcjH0C2iyE1S/4a1v9f8A3fwz/Zn%2BJmvM/wDqLmfw%2Bul2z%2B/m30kRx7hTR7eovhsvRL/gs8qVXhpy5amIdZ9vaTq/%2BS07r8DQ8D/sUfsofDu8/tTw18BvDzX27d/aWqWf2%2B63evn3Rkkz77q9Phhht4lgt4lREUKiIuAoHQADpXkH/CXftweLf%2BQD8HPA3hCL/np4m8TzalNj18qziRM%2B3m/jSf8ACiP2jPFv/JSf2u9UtYH5ksPA3h210wL7CeYTy49wRWcpzm7ybfqdmHxdGhDkwGCnbyhGlH75uL/8lbPXNQ1LTtIs5NR1W/htbeJcyz3EoREHqWJAFeY%2BIf21P2bNE1FtC0v4jxeItTHC6V4QtJtWnZv7uLRZAp/3iKo2P7F/7M8eswv450e58YawVMiTeOPEFxqksgHVhFcSNHj6IBXd/D7WfhRDNc%2BCvhtDptn/AGexEun6dYC2jXaxRigCqrgMNpKZAPBINZOpBSSbV2aOtnVWSi3So30V26kvSy9nC9vU4P8A4Xp%2B0X46Gz4TfsrX9hBJxHq3xE1iLTEQ%2BptofOnI9iqH%2BVB%2BC37TXxA%2Bf4sftNNotrJ/rNH%2BG%2BjpZY9vtlyZZj9VCf4eq6/4m8N%2BFbI6l4o8QWOm2w63F/dpCg/4E5ArhLn9qz4UXc72PgP%2B2PF90jYaDwno014o%2BsoAhA9y9ZVcVhqDtUmk%2B19fu1f4GFfC4Sm7Zhi5Tb%2BzzKCfpClaT%2B%2BRyHxw8LWfgr4j/sy%2BFNP1C/u4bH4wXsaXOqXz3NxJ/wAUV4oO6SWQlnY56k17xXhfx71a9134ofs0axqOgXWlz3Hxhvnk0%2B9ZDLAf%2BEK8UfK2xmXP0Jr3St4yUoprqe/SVONKKpq0bK2%2B1tN9du%2BvcKKKKZoFFFFABRRRQAUUUUAFFFFAHjP7eH/JEND/AOyzfDj/ANTXRK9SsvG/g7UdVm0Kx8U6fLfW8pins0u081HBwQUzn9K8t/bw/wCSIaH/ANlm%2BHH/AKmuiV6N458H/DTVdKuta8feHNLmtrS3ea5vL22TMMaKWZ9%2BMqAASSD2rjxn9pckfqSg5X1U%2BdJrsnC7Tv3TXkTJtK6t8zU1vw9oHiaybTPEeh2eoWzfet762SVD9VYEV8PftNfCDwH%2B0l%2B0vF%2Bw5%2BzhJp3hixXRG1b4teIPD93Lm2tROsa6atvHIIFnkOCRIpKqytjAKtJ4atv2gP22Zr3XP2dvHer/AAe%2BCPnS20Xim41K5k1TxDEp2vLZwyuFs4SQVEhIYYBGfmRfd/2f/wBlS%2B/ZL8JN4S%2BA0Phe5s7iTzr661Sxlivr%2BTk%2BZNdIzmVuTgsuBnChRxXV9aWQTVbMMLz4yOqhScKzpPTlqTbdOV078sIxk1Je%2B7x5T5XFUo8RqNqH7i%2BtRrWaX2aeilyy6zbjeN%2BVPm5je0n4L/Gn4eaVbaL8Mvj80%2Bn6fbpBY6X4s0CG6VY0UKqedbmFwAAB36VZ/wCEy/ai8N/Lr/wa0DxCg63HhnxIbd8f9crtFGfbzK1v%2BFjfEXSP%2BRp%2BCuosg4M%2BhahDeA%2B4RjG/6Usfx%2B%2BGsLiDX7%2B90WYnBi1vS57bH/AnTb%2BtfLvOsjhL38TKg30qc8P/AE9Dl/8AJz1lgaNNWo1Z0/LmbX3TUl%2BJkf8ADTuhaTx4%2B%2BF/jfw4F4kuL7w1JcQKf%2Butr5q49%2BK1fDn7SPwE8VuIdF%2BLmgtMTgW9xqCQS59PLlKt%2BldJovjLwj4kAPh7xTp19np9jvUk/wDQSaZ4j8CeCPGEZi8W%2BDtK1RSMFdR0%2BOcY/wCBqa9ijPEVqanQrQqR72Vv/AoSaNFTzSC9yrCa/vRa/GEv0NG1u7W9gW6srmOaJxlZInDKfoR1rK8U/Dr4feOIzD418CaNrCEYK6ppcVwCPTEimuRuv2SvgC87Xmk%2BBTo87HIn0DUriwZT6gQSKPzFR/8ADPOu6V%2B88H/tEePbBl%2B5He6nDqEQ/wCA3MTsf%2B%2Bq19rjo/FST/wyX5SS/MmpPHShy1sPGa8pxa%2B6cUUdS/YY/ZQv7tr%2B0%2BDVhpVw3/Lfw9cz6aw%2BhtZI8VB/wx9Y6Z/yJf7RHxW0NV/1UEHjN7uJPYJeJMMe1av/AAhH7UOjfPpHx10HV8dItd8H%2BXn6vbTp%2Biij%2B2v2ttI%2Be98B%2BBdaUdtO166s3b8JYHA/76NH1xr46U18r/8ApMn%2BR5bwGTJ3lgJQfeMLfjRqR/Iyv%2BFJftR6T8vhv9s26njX7kXiLwLYXXHoXg8hj9c0f2Z%2B3npH7u28WfCnW0Xo95o%2Bo2EjfUxzTKPwWtX/AIXB8a9O%2BbxB%2By3rGwfefR/EVhd/krSRsfypf%2BGlbe2/5DXwO%2BI9iB95n8KNOq/jbvIKP7Qwq%2BJtesZL/wBtF7LKYfDXrU/%2B36y/9LhNGT/wn37bGi/Lqn7OngzWcdX0X4gSQZ%2BguLMfqRR/wvz9orT/AJtf/Yn8RBB1fSfFmlXX5AzRsfyFa3/DW/wNg%2BXV9c1XTX7pqfhi/gx9S0GP1qzY/tXfs3agdsPxp8PofS5v1hx9fMximswwDdvax/8AAkvzaGp4a9qeZteUpUX/AOlQizA/4ay1e1%2BXWP2Tfi5bEfeMXhu2uV/AwXLk/lS/8NneCbf/AJDXwg%2BKenDubz4bajgfikbA/hXb2Pxu%2BDGp4OnfF3wxcZ6eTr9u38nrWtPGfg%2B/wbHxXps2enlX0bZ/I1vGvQn8M0/Rp/kzqhDHz/h4%2BMv%2B4dJ/%2Bk1EeZf8N0/s6w8anq3iWxbut54B1hMfj9lIo/4b0/ZQX/X/ABTaH/r50C/i/wDQ4BXrsU8M674JlceqMDTq1NvYZ70xFN/9wn%2BlU8f/AOG%2Bv2Ph9/466Un/AF1hnX%2BcYpR%2B3z%2Bxwf8Am4LQPxlcf%2By16/SFVPUA/WgPY5//AM/qX/guf/y08hP7fX7HA6ftA6CfZZJD/JaP%2BG%2BP2Qj/AKv43adJ/wBcrS4f/wBBjNevgAdBRQHsc/8A%2Bf1L/wAFz/8Alp5B/wAN5/srN/qPiRdT/wDXt4Y1KX/0C3NH/DcnwGn/AOQQvi/UD2Fl8PdXbP8A31bCvX6iuL6ytBm6vIoh6ySBf50Npbg6Ge21xNNelJ/rVOb%2BFnxa0b4t6ddaponhjxHpsVrMIyPEfh6409pcjO6NZ1UuvuOM8VxHxysr3wv8SvDXxD0jUpIYhrdpBrHl%2BJrozyLI3krBFYEm3ZW3guw2v8pIBPNek3nxA8B6fn7f420iDHXztSiXH5tXJ6v8Q/2VIPEsfjTW/GvgD%2B2oECQ6pPqFkbtFGcKshO8AZPAPc%2BtYyxGHh8U0vVpfqZ42MauCjSq14c6afM2obO90lJ%2Blr2et2rnmn7Ql94ePjjWNd1O5tpdZk0nTn%2BGt1E6tLLPHdfv4LN%2BpmdiFdUO5kcg5UHEE3hO81Lx5e%2BBtP0W6tvFk/iHXWu9TFlIofTbu0cpKZ8bTHvMaIu7KtGAAAuR6Y/7V/wCzLparZ2vxY0VggwkOnlpsD2ESn9KT/hrD4R3Xy6BF4l1duy6Z4O1CTP0JhAP51i8xwH/P2Pyaf5XPGq4XKauIlUni4au7Ss3rvqm3zdIytdR01Mb4Daf4ju/H0Gt3HhTU9Ih03wFY6LrMeoabJbJLqEErf6ncoEyKu8eYmVIZMH06r4p/Cjxt8RdWtptE%2BPnibwpp8Vt5dxYeHbezDTvuJ8zzpoJHU4IGBxxnGc1nf8NF6hefLoX7PPxGu2P3TNoUdqp%2BpuJkI/Kk/wCFo/tCah/yB/2YZIFb7sms%2BMLSHHuVhEp/Cl9fwz%2BFt%2BkZP/21Ho0f7Mjgvq0pTqJu75Y1Ffb%2BRRstFdKVnq3vZZX/AAxb4B1T5fHnxS%2BJPidD96HWfH16sR/4BbNEo/ACtHw9%2Bxb%2Byl4Yn%2B16f8BPDc8%2Bc/aNUsBeyZ9d9xvbPvnNSfaP2vdU%2BaLTfh5oyN0E1ze30i/gqwqT%2BNH/AArX9ozVfm1z9pKGyVvvw6B4Qt48D0D3Dyn8cCj63OXwUZv5KP8A6VL9CIYHKVLmp5e5PvKEb/fVnNnf6J4d8P8Ahq0Fh4c0Kz0%2BAdIbK1SJB%2BCgCre5d2zcNxGQM84rzX/hmmy1H/kb/jL8QNZVv9ZDN4me2if22WqxDFb/AMP/AIG/Cv4XalNrXgfwklpe3MHk3F7JcyzzSR7g21pJXZiMgHr2q4VMXOa5qaivOV39yVvxPYoVMa5KPsYwh/jTaXkoxt%2BKKXxr8QfEDwjpUfibwheNJDbkedp8OiG5MhGWZpZA%2BYoggOSqFs4wTkLUHxR8P6/4ruNE8V%2BG7%2B1utLtreaS8tLnxHc2FtMrBGjlJgBEuCvAfC4Y81c%2BK0um6nqGkeDtRvtXih1Kdo7saXeCEGJsRgSnBYqzMFwpByeuKzPHWnaPZtc6RB4N0e90zRNOh1G5sNWsjcB1XdGBFvbbFtSNjnackYwM5rxsdmOFpOvzSbUXFNK7alZz27cqblvomrN6GGIw9WrUqpv3Xy21eklrpZOy7rr2ONvtYtdf1mPxynhy7i1nxAdE1PwrI9m7ypuXyprbzAPlWNdzSKSARIWwd1dL4G8E%2BL9I8W%2BHtDudAuobfwrLqaHWWljMF5ZTsfIiUBt5f/UlsrgGE8ncK0o/EPilL%2Ba9sdaIifV5NKt9N8iNYoAYg0DqAu7cMhmySCCcAAU74V6gv9qWNvpmoTTQ6h4dS81KCe7eZ7e8DIrbi5JUtucEcDMR4rzcNmmGqY%2BFLlleUt/dV/ednZXveUW3qpQja6avbGjlsY1VOU23dPRJX1vrvvJXvulZbHUeJvh74E8a3lnqHjDwdpmqzadvNi%2Bo2STeQX27iu8HBO1efYVqQw2mn2ohgijghiXCoihVRR7DgCsXxhoXiHxFPb2WgfEGfRVRWN3HZ2sMkswONpDSA%2BXjnkA5yOmOchPgL4Hu3E3i261bxDIDkNrmqyzKP%2B2YKx/8Ajte3XxWYrEzhg8KpdHOVSEYt2XSKnUdttVH7rM9b2ahUcowSb3eiv66XfzOL/aYuLe7%2BNH7N9zazpLG/xlvikkbBlYf8IV4o6Eda9prxL9o7TNN0b4wfs26XpFhDa20Hxkvlht7eIIiD/hCvFHAUcCvba9en7T2a9pbmsr2va/W19bX2vr3NlcKKKKsAooooAKKKKACiiigDmPDnxt%2BDHjH4g6z8JPCPxd8Mar4r8OIr%2BIfDOm6/bT6hpatja1xbI5kgB3LguozketFr8bfgzffFO5%2BBdl8XPDE3jezsBe3ng6LX7dtVgtSFIne0D%2BcsZDp85Xb8y88ivjj9njw94z8F/GrwHofiD4QeNdO1L4Y%2BJ/iTf%2BP/ABMfA%2Bota6lbaxrEkloLW5SArqRvXntb1ktzKYRaN54ieMLV3wd8P/iDF%2B1J4e%2BG8vwo8UQ69oP7TviTx7rXjOXw1dJpU3h280LU7e2kTUzH9mnkK3thp/2VZDMn2ZmMYjhV6APe/wBvD/kiGh/9lm%2BHH/qa6JXnf7QX7RfjHx58Stf/AGUP2MfCsvifxfPbvZ%2BM9e1ieX%2BwPCkcy4dpiciS42k7Ykzg54YqyV3X7bPwf/af%2BMPhXRdM%2BAPinwEttpPjDw3r2oeHPGGm3sL6q2l69Y6mY49UtpZBYhktCuTY3W5iB8gbcvjP7Aifto%2BDPhJ4jvfBn7Onwu1KfVfij4rbxBq2ufHDUYrm91K11m6064kIi8MsuwvZHYcgsm1iqFii9GHo5U5rFYqmqlSk1Kkneym7pydmrqK%2By7qTaurI8/HQx9flw9CfJCd/aSVublsrRjdOzk38VvdSdtWre7fBr9nnWvgB%2Bzx4W%2BB2m%2BIx4gj8O6ULI3VxA0LTSvIS0oVdwVV3sFU52qOpPNd34zl02fT7Zp76zT7PumFldEjz9qldq8qcg9Dg8gcc159/wnH/AAUL/wCjX/gz/wCH41b/AOZekfxp/wAFB5ABJ%2By38F2AORu%2BO%2BrHB/8ACWr4/N%2BG/wC08RjsR7S88Wo83PdxTjLmTVrNLms%2BTWGluXllJP18JVhg6FKjCNo01ZW7WtbW/Rb79b3sd/cajfGZpbK6mt1tHtYYLPcCHZwGZXzkk7WA68YzVnTtev8AUL62N0IXs9RacQQeUdyomcOWJwQwHTH8Qry%2BTxB%2B3vLqK6tJ%2Byj8FjcoMLKfjvq2RwR/0K/XBPPvUGm6r%2B35pd0buH9mP4PuQrLCknx71YrCrHJVB/wi3AJA9egFeZRyPiLD4%2BMo1703O7tJpcqas3FprWF6fs4Wgnyyd7K3TKvhpU2nHW3b9fXW713R6nrXwg%2BFviFjJq/w/wBJlc9ZlskST/vpQG/Ws3/hRPhay/5FnxF4j0Ydk03xBPs/74kZ1/DFeMTfHL9uzxl8Zdb%2BB1t%2BzR8M7HVfDHhjSddury1%2BP2qRwSwalcalbwop/wCEYJZ1bSpywZQAJI8FiWC9fpniz/gohYWMdnP%2Bzd8H7pkBzPP8eNV3vyTzjwsB7dO1erPJcuxOZTjVy6Cja6qpwTk9LpqCp1IvfVyadvNHBKjQcFK6v2s1%2BOx3H/Cvvihp3Gh/G%2B7dB92PV9Gt7j82QRt%2BtG39oXT%2BBJ4Q1NV7stzaO35eYM1x3/Ccf8FC/wDo1/4M/wDh%2BNW/%2BZej/hOP%2BChf/Rr/AMGf/D8at/8AMvXR/q9hofwK1an/AIa02vun7RGXs10b%2B/8A4c7H/hOPi9Zf8hL4JGYD7z6Z4hgkz7hZRGaP%2BFyyW3Gr/CfxjakfeZdHE6j8YXeuO/4Tj/goX/0a/wDBn/w/Grf/ADL1y%2BrftHft26P8Z9A%2BB1x%2Byh8JG1TxF4X1fXbO5T466p5EcGnXOm28yOT4Y3B2bVICoCkEJJkqQoY/svNqf8LHz/7fp0Z/kqbDln0l%2BR61/wANBfC6L5dT1a9sG7rqGjXUOPqWjx%2BtbXhT4ieBvHLSp4Q8U2eoNCoaZLaYMyA9CR1FeZ/8Jx/wUL/6Nf8Agz/4fjVv/mXpieL/APgoFFK08f7K/wAFldx8zr8ddVBP1P8Awi1b4ajntOuvb16c4dbU5Rl8mqko/ehpVE9Wvu/4J6H498bal4dkgsfD%2Bnx3VwZoDd%2BaG2QwySiME4/iYkhR7c8VB8QdchtbhrC38KWGpyQWEl7ei/wFSBMjC/I2XODgHA45Iryfxdpf7bHjWaK81v8AZD%2BCD3Mc0T/a/wDheGqeayxuGCFj4WztOMEehOKg8Swf8FF/EBEkXwD%2BDdvJNYyWN/Ivxt1RjPbOc7V/4pgBGAJAbnG48GvOxtLiLmxLpu6k48nK1dJKV1aasm3yNtuSa5rWsk4nGck09V/Xc7%2B80v4T61q0cVx8D/D11YNcW9vc3t1ptuXSWZAyAIYyGUblDHcCCeAeTVLR/hT%2Bzh4t1SKzm/Z78N28F9FLLpd2uj2yi7SNgHIVFBT7wPPUGvJPi98Sf28vgvYWnjjW/wBmv4RS6LfeN/Dun/2ZZfGvVGm%2B23%2BoWek2zeY3htVEKzXMMsg2lsI5XPCHqfC9r/wUO8PXemyz/s7/AAXuIdHsJrTTol%2BN2roypIyEl2/4Rk7mAjUZAXue/HLSwueSxUfbU4uHNreNK1r2dtLqHLrH7XPo9DllgcLUfv0oP1jD/wCRPRJf2Qv2aZW3/wDCndIQ%2BsMbR/8AoLCm/wDDIP7Ow/1Xw88v/rjq12n/AKDKK4vxdd/8FEPFkUEcPwM%2BGOkmBmO/SP2gdUjMmccNu8KNkDHH1NYf/COf8FJo/wDUeC/BA/66ftAXrfz8H16GKpTo13Gll0akf5lKjG//AG7JJq225Espyy%2BmGh/4DFfoj1D/AIZF%2BAQ%2B54U1BP8Arn4o1Ff5XFH/AAyN8Ce3h/WB9PGGqf8AyTXl/wDY3/BTpf8AV%2BEPh6P97453bf8AuoVy/wAbfiF/wUm%2BA/wY8XfHHxT4E8B3Wl%2BDPDF/rupWth8abhria3tLaS4kSMP4TVS5WMhQzKMkZIHNc/NX/wChU/8AwOh/8kif7Ky3/oGj90T3j/hkb4Ed/Durn6%2BL9UP/ALc0f8MifADo/g%2B9f/rp4l1Bv5z15f8A2V/wVDP3vCfw5/D423Q/91Gj%2BxP%2BCmzf63wf8Pz/ALnx1u1/91CjmrvbKn/4HQ/%2BSYf2Vlv/AEDR%2B6J6h/wyB%2Bzk3%2Bt%2BGkMv/XfULmT/ANClNS2/7JH7NNqcx/BjQ2P/AE1td/8A6ETXlX/CM/8ABSF%2BZ/BHgpvZP2hb5P5eEKP%2BER/4KFv/AK/4a%2BDX/wC7ldWT/wBA8KChfXOmVR%2BdSh/8gxrKstW2Fh/4DD/5Fns1n%2Bzl%2Bz9YYNt8EfCgI6M3h%2B3Y/mUJrXsfhh8NNLx/Znw80K3x08jSIUx%2BS14F/wAIN%2B3XJ/x%2B/BDwLc%2Bon/ag8Qf08MiuX%2BCN7%2B038e/gx4Q%2BOWg/sd/DQab4z8L6frunW%2Bs/tJ6%2B08Vvd20dxGkqr4eZA4WQBgpYZBwSOa2jLOV/DwFKPrVj/wC2UGbwwmHp/BRgvRRX5QPrpE0rR4dqLb2sY7AKi/0qhe/EDwHpuf7R8baRb46%2BfqUSY/Nq%2Bf4Pht%2B1HA/mD9hr4ESN63Hx01eU/wDj/hg1p2Wjftf6dg2H7Dn7PsJHeP4x6gD%2Bf/CK1sp8Ty2p0Ies6svyhA6V7RKySX3nq158evg1ZNsk%2BJGlSHsLe5EpP02ZzUB%2BPngC440aLWtSbsun%2BHruTP0PlgH864ez8Tft86eu2w/ZP%2BCUA9Ifjnqq/wAvC1T/APCcf8FC/wDo1/4M/wDh%2BNW/%2BZej6vxLU%2BLEUo/4aUpfjOqvxQWq9193/BOx/wCFua1efJonwZ8WTsehurWG1U/jLKCPyo/4Sz426h8mn/COwss9JNU8RqcfVYY3/nXk3gH9o79u34ieK/G/hDR/2UPhJDceA/FEWharJc/HXVAk88mlafqYeLb4YJKeTqMKksFO9HGMAM3Uf8Jx/wAFC/8Ao1/4M/8Ah%2BNW/wDmXo/srM6n8XH1P%2B3IUof%2B2Tf4hySe8vyOx/s/9oHUvkuvEvhbSlPez02e6cfjJIgP5Vr%2BEfDXjDRruW78U/ES41nzI9qQNp0NvHEc53AINxPbljXm/wDwnH/BQv8A6Nf%2BDP8A4fjVv/mXo/4Tj/goX/0a/wDBn/w/Grf/ADL1vh8lw9CtGtKrVnJbc9WbX/gK5YP5xY1BJ3u/vO98b/DGPxfdvqUPiXUbOdhb4SC42xfuZC6EhQGyCzYwwwTmoviB4S/tHT3ujfz/AGyaN7RUtdqC5gYkmCQMHyoXcSww33iCMmvPr3xT/wAFEbu5t54/2cvhBAsDlnih%2BPGqbZvZs%2BFScfTHWuWHx0/bb8ZfGPXPgTc/sk/CVtS8NeGtI1%2B5uX%2BPOrLbvBqNxqdtCiFfDO4uraZOXBULiSPBYlgvm5nkixeFxkMPRUKlSyUnPSTt8SS5uVx5pJXjq9bOLae1OFCNSMp6rqtf81%2BFj2vVfClhetp3jDQtKmW7ZoXkNq67ihj2htsh8suFIUORuC8A1Bc/2SbqTUrV2snNlLIZBiN3uYZMOZNmBI3bnIx06155p%2Bpft%2B6dpSaNb/szfCBYETaqxfH3V4yOScgp4WBB5x1qePXf29IrRLH/AIZO%2BCjxRvvRZfjtqz4bOd2W8Lkk579a8SvwvmeOXO%2BSnKcYOau3H2sYpNx5OWUU25SlJNOTjDTRnZTr4ai/dV7N20Sdn3vfW2npc9BiEg1VGktimoy6pFPG4iOXt2Rd4LY%2B6o3jBPVRXTapZ3V/YPaWmpy2kjYxcQqpZRnnG4Ecjj8a8i/4Tj/goUOn7L3wZ/8AD8at/wDMvR/wnH/BQv8A6Nf%2BDP8A4fjVv/mXr6LKuHqeXYevRnUc41d7Xg9pXbcZJ875neacW7R6xu8auJdSUZJWt8/z6aba9SH9pG0ax%2BMX7Nto93NcGP4yXwM07Au//FFeKOSQAM/hXtlfK/xP8S/tW6v%2B0n%2Bzpa/Gv4L/AA98P6OPi5qLR33hb4nX2sXJn/4QvxNtQwT6LZKEILEv5pIIA2HJK/VFe9SpQo0o04Kyiklu9ErLVtt%2Brbfdt6nO25O7CiiitBBRRRQAUUUUAFFFFABVHxR4hsPCXhrUfFeqhza6ZYzXdyIly3lxoXbA7nCmr1R3dpa39rLY3tuk0M0bRzRSqGV1IwVIPBBHGKAPm/8AY1/al%2BPnxU8YaN4V%2BP8ApvhJH8b/AAn074geF18J6fc2/wDZdvcShJ9MumnuJhdSQia023cYgWUvL%2B4i2Dd5XYf8FHvjL8OvhgfjT4l%2BH/gy68N%2BO/hf4r8dfDPQNC064sbmylsb20FvaalcPPKly94upwzyTxQweS6TKUm3K9e8/AD9hfwh%2Bzpqtvq/hP4y%2BOtTl07RdO0DQxr9zp1wNK8P2TyvBo0JWyQm3zL880he8kEUW%2B5by1xjaT/wTO%2BA1taeIPD3iTxV4t1/w9q3hLXPDGh%2BGNW1G2W08LaTq9wlxf2unNb28U6B5Ibco88s8kK20SRPGq7SAdN%2BzJ8XPjH4j8feP/gX8f7vwzqHibwLdaZMuueENHuNOsdQsb%2B082Jvs1xc3LwypLFcxMPOcMsccg2bzGnsVed/AD9nPSvgMfEOsXHxI8TeNPEXivUYbvxB4s8YSWZvrvyLaO2gi22VtbW8cUcUYCrHEuWeR23PI7N6JQAV8u/Ab9sb42/ED4xeFpPG2meFl8B/EzWvF2meCrPS9NuYtV0uTRbuWKGS8uHuXiulu7e2uZiscMBt28uPM%2BTIPqKvDPB37BngbwF8SZviN4X%2BLvjeAW11rN14U0J59OlsPC0%2BrXq3mpS2KPZF2aeUOP8ASXnEKTSxwCFXxQBT1z4qfHH4eftqeEfhnrWo%2BAdd0r4iNqaLpGh%2BF7q213QdHsLWaeLUbu9e8ljurcXTxWpQW8AWbVI9jNh92R/wTh/an%2BLv7R/gXzv2i/E%2BiWXjv/hGdI1XWfh5b/CfW/Cl94ca6jlMiyLq93M%2BowGVHijuoEjiLW0vLk4TrfA37Gn/AAgP7Sniz9pfTv2lPiFd3vjSdTrPh7UotDmsVt4rd4bWyhl/swXsFrbmR5o4UuQvnPJI%2B8yy%2BZsfBv8AZftvhb8RdU%2BL/i340%2BMviD4p1LRLfRk1vxkdNjez0%2BGWSYW8MWm2VpAoaWVnd2jaRiEBfaiqAD1GiiigD5d/aa/bG%2BNvwr%2BKfjF/h5pnhZvBvwm0Xw3qfju21nTbmbUdYj1S%2BuIpo7GaO5jjtGtrW388NJFcCeSURYhCmQzftkftK/Ez4FftC%2BDrO21fw94S8DSeEdSvPEvxF8R/CLWfEVtpsi3tgi2kt7YXdvBpEMkbSyvPdt5X%2BjKTwldt8Z/2Ifhx8bvikfiZrnjnxVpcWo2ukWvi/wANaNdWqad4pg0u9kvbGK%2BWW3kmCxzTS5%2BzywGWOQxTGWMKgn%2BOn7JN1%2B0J4Jl%2BGPjz9pb4hxeGNU0e40nxdoOmLosMXiSynLiaG5l/s0zwhonaAtaSW7eWeu/56APPNS/bG%2BNtr%2B0BdywaZ4W/4Vjp/wAZrP4aXNg%2Bm3J1uW8uNNgnGprdfafIWJby5itvsptyxjV5/PBxDX1FXi9x%2Bw78NZ/j3/wvAeNvFMdo/imHxRP4DjubQaHNr0WnLp0Wpsn2b7T5q2yRgRC4Fv5kSTGEyjzK9ooAK%2Bev2vP2if2gPAfxAg%2BF37OFr4RXU9P%2BGuu%2BN9ZuPGWm3N1DdQWElrFDpsIt7iAwSXD3EmbpjKsAhH7iYyYX6FryP9pf9jzwf%2B0zqFlrWo/Enxf4R1C38P6n4fvtR8G3lrDNqWi6h5BvNPmNzbThY5GtoWEsQjuIihMU0e99wBzX7Tnx38ZQfsV/8NdfC/xZ4T0PRtN8FjxleWfjXwHca811Clql7bQQRW%2BpWRjufMCBDmQmTYFUNg1w17%2B1j%2B1b8Pvjr4D%2BGn7Q2ueD/BGkXfw%2B8IXni3Xf%2BFQ69qOl6j4l1C9vbbUdKt9Wiv1s9ICtBaJB9sMzF72P/W8IfcfHn7MPgv4j/DSy%2BD/ifxJrLeHNO8UaTq9ppVqLSGNYdNvLe7tdMIS3G6yElrEGRsyOgKNIVYiqnx0/Zag/aC1y2Txt8b/Gtv4SWaxm1P4e6YdMj0rVZLW5W5jM8rWTXwDSJHvSK6jR1jClcM4cA9UooooA8X/4KC/F344fs/fsj%2BNPj18Ar3wpHrHgnQrvXLqDxhotzfW13aWttLM9uiW11bMkrsiKJC5VAWJR%2BBV39sH4n%2BLvAng7w14F%2BHumaDca98R/GVr4U02XxVpsl7plqs8M9xczXNtHLC1yi2lrc4hEsfmOUUuoJI1P2sf2cbL9rT4Ea9%2Bz7rXxV8U%2BEdJ8T2Utjrl/4QXTvtdzZSxPFNbbr%2B0uo0R1flkRZAVG115zneN/2VpPiV8OrPwR48/aC8dajqek6np2qaB4xMWjwanpOpWZJW8hEGnJbM8gZ1kSWCSFkkdPLCsVIB4JJ%2B3d%2B1b4y0P/AIQz4Z6N4AtvG3hPQvHWpeOLnWdIvZtN1J/DmsDSo7ayjju0ktBfNunE0klx9kUBDHck7h9bfC/x7pnxU%2BGnh34n6JbSw2XiTQrTVLSGfG9IriFJUVsdwHAPvXiHiH/gml8J9Y8C6T4P0b4ufEDQbyz03xDp2u%2BJ9F1KxXUvElprt2t7rEV68tm8YNzdKJvMto4JYGyLd4FJU/QWh6JpHhnRLPw34f0%2BK0sNPtY7aytIF2pDDGoVEUdgFAAHoKALVc18YpPibD8MtYn%2BDmtaDp3iWK136Ze%2BJtKmvrGIqwLmWCCe3klHlh8KssfzFctjNdLWF8TPB2qfEHwHqfgvRviDrPhW41G38lPEHh%2BGzkvLMEgs0S3tvcW5JAKnzIXGGOADggA4L4CfFH4wftDfsR/D/wCNfh%2B58NaP418cfDjRNcaW80q4uNLs7y8soLiU/ZluEmkiUyPtj89WICgydWrwC9/bM/ai0H4OaevgPSPCt1Bo/wAc7vwJqHjzwd8Gtd1/R5NCs9Eurl9RtNE029a6jWLUYU0lyLmWJJYJWztKhfYvCX7DU/gz9ktP2PNJ/a3%2BK66Da%2BCE8K6Vr8M%2BiW2sabYxokUTwXFtpcarMkCCFZShO0lzmXEo0fB/7I3ib4e/BDSfgb4B/a8%2BI2iWuhXCLpOr6XonhWG4tbBLdYI9NSFdE%2BxrbJtDqRb%2BcGOPN2YQAHoXwd8b6b8SvhP4a%2BIGkeONI8TW%2Bs6Ha3aeIfD9o1vY6kXiVjcQRPLK0MbklljaSRkBCs7EEnpK5f4K/CHwb8A/hToPwc%2BH8VyukeHtPS0s2vrlpp5QMlpZZG5eR2LOzd2YnA6V1FABXi/7HPxd%2BOHxKuvil4O%2BP174Uu9Z%2BH/xMbw9bX3g/Rbmwtbi1bRtK1JC0VzdXLmRW1B4y4cK4jVgiZIr2ivF/gT%2Bx5rHwJ8aeL/Gtp%2B1l8SvEcnjjxXD4g16x8Q2nh0QPdpa29mQn2TSIHSN7e0tomAfOIQylXZ2YA8M8Eft/wDxV8G/Df4xfET4vQeGrbxd4a0vxBrGifDBvhRrXhm%2Bv47K/fT7K8bUr%2B6ki1a3kjXT1kubWHZF9pi5A2Ifef2ZPi58Y/Efj7x/8C/j/d%2BGdQ8TeBbrTJl1zwho9xp1jqFjf2nmxN9muLm5eGVJYrmJh5zhljjkGzeY0zNc/YI8DfETVfEGq/Hr4weOfiGdc8E6v4StIPEk%2BnWyaLpOpyQPew2n9m2VqfMc2lpieYyzJ9mTa6kuW7H4Afs56V8Bj4h1i4%2BJHibxp4i8V6jDd%2BIPFnjCSzN9d%2BRbR20EW2ytra3jijijAVY4lyzyO255HZgD0SiiigDxf4K/F344a1%2B1x8WfgL8VL3wpdaP4Y0Lw9rnhCfw/otza3MVpqVzrMP2e8ea6mW4lRdMibzI0gXMrjYcA1z/iT4iftLeFf2/PBfwg0zxV8OdV8OeLtI1jWPENnB8Pry31nS9B05Eit9%2Bo/wBqvFLIdQ1G3VVa0VWRroqqlSa6DRf2PNY0D9ovxh%2B0lp37WXxKGoeM9KstMvdCe08OnT7O0s57qa0igH9keePKN7dKGkmkZlmO8uVQr2ml/Avwrpfxw8S/tApq2pza/wCJPDGm6A3nzRmHTrKylu5kW2URgozy3sryMxfeUiHAjUAA8d/4Jw/tT/F39o/wL537RfifRLLx3/wjOkarrPw8t/hPrfhS%2B8ONdRymRZF1e7mfUYDKjxR3UCRxFraXlycJ9LV5d8G/2X7b4W/EXVPi/wCLfjT4y%2BIPinUtEt9GTW/GR02N7PT4ZZJhbwxabZWkChpZWd3aNpGIQF9qKo9RoAK8H/a1%2BM37QXwG8SeF/F3gzxB4IvfD2teLtC8O23gW%2B8OXkmua5c3t8sNy1pex3qxQmC1aS62NaTDy7SZneNAXj94rxn4k/scr8RP2ndE/amt/2jviBoWq%2BH9DGlaZoGmQ6JcaXBA83m3LRpfaZcTQy3IEcc0sUqO0cMaKyAcgHC/tsftQ/Gb4W%2BMvEFn8GvDng66T4T/Cm6%2BJXiYeLNKnuZtRhVrqGLT7CSK4hFjPLDa6gpu3E6pujXyXV3Iqx/ts/GLUPjWde0rTvC5%2BFcXxesPh09jLpdz/AG5Lc3emW9wuqLc/afJSJby6itjam3LGNXm88HENdx8dP2EfBX7QbRTeNvjB44tprvwvd%2BGPF8%2BkXGnQN4r0K5mEsmmXw%2BxFVi%2B%2BiyWwt50SaULKPMcm1P8AsOfDSb49f8LvXxr4oitG8Uw%2BKJ/AUVzaDQ5teh05dOi1Nk%2BzfaRKtskYEQuBb%2BZEkxhMo8ygD2iiiigAooooAKKKKACiiigAooooAKKKKACiiigAooooAKKKKACiiigAooooAKKKKACiiigAooooAKKKKACiiigAooooAKKKKACiiigAooooAKKKKACiiigAooooAKKKKACiiigAooooAKKKKACiiigAooooA//Z\">"
      ]
     },
     "metadata": {},
     "output_type": "display_data"
    }
   ],
   "source": [
    "try:\n",
    "    display_html(HTML(anim.to_html5_video()))\n",
    "# In case the build-in renderers are unaviable, fall back to\n",
    "# a custom one, that doesn't require external libraries\n",
    "except RuntimeError:\n",
    "    anim.save(None, writer=matplotlib_utils.SimpleMovieWriter(0.001))"
   ]
  },
  {
   "cell_type": "markdown",
   "metadata": {},
   "source": [
    "# Logistic regression\n",
    "Your assignment is to implement the logistic regression\n",
    "\n",
    "Plan:\n",
    "* Use a shared variable for weights\n",
    "* Use a matrix placeholder for `X`\n",
    " \n",
    "We shall train on a two-class MNIST dataset\n",
    "* please note that target `y` are `{0,1}` and not `{-1,1}` as in some formulae"
   ]
  },
  {
   "cell_type": "code",
   "execution_count": 34,
   "metadata": {},
   "outputs": [
    {
     "name": "stdout",
     "output_type": "stream",
     "text": [
      "y [shape - (360,)]: [0 1 0 1 0 1 0 0 1 1]\n",
      "X [shape - (360, 64)]:\n"
     ]
    }
   ],
   "source": [
    "from sklearn.datasets import load_digits\n",
    "mnist = load_digits(2)\n",
    "\n",
    "X, y = mnist.data, mnist.target\n",
    "\n",
    "print(\"y [shape - %s]:\" % (str(y.shape)), y[:10])\n",
    "print(\"X [shape - %s]:\" % (str(X.shape)))"
   ]
  },
  {
   "cell_type": "code",
   "execution_count": 35,
   "metadata": {},
   "outputs": [
    {
     "name": "stdout",
     "output_type": "stream",
     "text": [
      "X:\n",
      " [[  0.   0.   5.  13.   9.   1.   0.   0.   0.   0.]\n",
      " [  0.   0.   0.  12.  13.   5.   0.   0.   0.   0.]\n",
      " [  0.   0.   1.   9.  15.  11.   0.   0.   0.   0.]]\n",
      "y:\n",
      " [0 1 0 1 0 1 0 0 1 1]\n"
     ]
    },
    {
     "data": {
      "image/png": "[encoded data removed]",
      "text/plain": [
       "<matplotlib.figure.Figure at 0x7f5c60d9a908>"
      ]
     },
     "metadata": {},
     "output_type": "display_data"
    }
   ],
   "source": [
    "print('X:\\n',X[:3,:10])\n",
    "print('y:\\n',y[:10])\n",
    "plt.imshow(X[0].reshape([8,8]));"
   ]
  },
  {
   "cell_type": "markdown",
   "metadata": {},
   "source": [
    "It's your turn now!\n",
    "Just a small reminder of the relevant math:\n",
    "\n",
    "$$\n",
    "P(y=1|X) = \\sigma(X \\cdot W + b)\n",
    "$$\n",
    "$$\n",
    "\\text{loss} = -\\log\\left(P\\left(y_\\text{predicted} = 1\\right)\\right)\\cdot y_\\text{true} - \\log\\left(1 - P\\left(y_\\text{predicted} = 1\\right)\\right)\\cdot\\left(1 - y_\\text{true}\\right)\n",
    "$$\n",
    "\n",
    "$\\sigma(x)$ is available via `tf.nn.sigmoid` and matrix multiplication via `tf.matmul`"
   ]
  },
  {
   "cell_type": "code",
   "execution_count": 36,
   "metadata": {
    "collapsed": true
   },
   "outputs": [],
   "source": [
    "from sklearn.model_selection import train_test_split\n",
    "X_train, X_test, y_train, y_test = train_test_split(\n",
    "    X, y, random_state=42)"
   ]
  },
  {
   "cell_type": "markdown",
   "metadata": {},
   "source": [
    "__Your code goes here.__ For the training and testing scaffolding to work, please stick to the names in comments."
   ]
  },
  {
   "cell_type": "code",
   "execution_count": 37,
   "metadata": {
    "collapsed": true
   },
   "outputs": [],
   "source": [
    "# Model parameters - weights and bias\n",
    "weights = tf.Variable(initial_value=np.zeros((X.shape[1], 1)), name='weights') #shape should be (X.shape[1], 1)\n",
    "b = tf.Variable(initial_value=0.0,dtype=tf.float64)"
   ]
  },
  {
   "cell_type": "code",
   "execution_count": 38,
   "metadata": {},
   "outputs": [
    {
     "data": {
      "text/plain": [
       "((270, 64), (270,))"
      ]
     },
     "execution_count": 38,
     "metadata": {},
     "output_type": "execute_result"
    }
   ],
   "source": [
    "X_train.shape, y_train.shape"
   ]
  },
  {
   "cell_type": "code",
   "execution_count": 39,
   "metadata": {
    "collapsed": true
   },
   "outputs": [],
   "source": [
    "# Placeholders for the input data\n",
    "input_X = tf.placeholder('float64', shape=(None,X_train.shape[1]))\n",
    "input_y = tf.placeholder('float64', shape=(None,))"
   ]
  },
  {
   "cell_type": "code",
   "execution_count": 40,
   "metadata": {},
   "outputs": [
    {
     "name": "stdout",
     "output_type": "stream",
     "text": [
      "Tensor(\"Mean_1:0\", dtype=float64)\n"
     ]
    }
   ],
   "source": [
    "# The model code\n",
    "\n",
    "# Compute a vector of predictions, resulting shape should be [input_X.shape[0],]\n",
    "# This is 1D, if you have extra dimensions, you can  get rid of them with tf.squeeze .\n",
    "# Don't forget the sigmoid.\n",
    "predicted_y = tf.squeeze(tf.nn.sigmoid(tf.matmul(input_X,weights) + b))\n",
    "\n",
    "# Loss. Should be a scalar number - average loss over all the objects\n",
    "# tf.reduce_mean is your friend here\n",
    "loss = tf.reduce_mean(- tf.log(predicted_y) * input_y - tf.log(1 - predicted_y) * (1 - input_y))#<logistic loss (scalar, mean over sample)>\n",
    "print(loss)\n",
    "# See above for an example. tf.train.*Optimizer\n",
    "optimizer = tf.train.MomentumOptimizer(0.01,0.5).minimize(loss) # <optimizer that minimizes loss>"
   ]
  },
  {
   "cell_type": "markdown",
   "metadata": {},
   "source": [
    "A test to help with the debugging"
   ]
  },
  {
   "cell_type": "code",
   "execution_count": 41,
   "metadata": {},
   "outputs": [],
   "source": [
    "validation_weights = 1e-3 * np.fromiter(map(lambda x:\n",
    "        s.run(weird_psychotic_function, {my_scalar:x, my_vector:[1, 0.1, 2]}),\n",
    "                                   0.15 * np.arange(1, X.shape[1] + 1)),\n",
    "                                   count=X.shape[1], dtype=np.float32)[:, np.newaxis]\n",
    "# Compute predictions for given weights and bias\n",
    "prediction_validation = s.run(\n",
    "    predicted_y, {\n",
    "    input_X: X,\n",
    "    weights: validation_weights,\n",
    "    b: 1e-1})\n",
    "\n",
    "# Load the reference values for the predictions\n",
    "validation_true_values = np.loadtxt(\"validation_predictons.txt\")\n",
    "\n",
    "assert prediction_validation.shape == (X.shape[0],),\\\n",
    "       \"Predictions must be a 1D array with length equal to the number \" \\\n",
    "       \"of examples in input_X\"\n",
    "assert np.allclose(validation_true_values, prediction_validation)\n",
    "loss_validation = s.run(\n",
    "        loss, {\n",
    "            input_X: X[:100],\n",
    "            input_y: y[-100:],\n",
    "            weights: validation_weights+1.21e-3,\n",
    "            b: -1e-1})\n",
    "assert np.allclose(loss_validation, 0.728689)"
   ]
  },
  {
   "cell_type": "code",
   "execution_count": 42,
   "metadata": {},
   "outputs": [
    {
     "name": "stdout",
     "output_type": "stream",
     "text": [
      "loss at iter 0:0.1252\n",
      "train auc: 0.999945103206\n",
      "test auc: 1.0\n",
      "loss at iter 1:0.0450\n",
      "train auc: 1.0\n",
      "test auc: 1.0\n",
      "loss at iter 2:0.0269\n",
      "train auc: 1.0\n",
      "test auc: 1.0\n",
      "loss at iter 3:0.0200\n",
      "train auc: 1.0\n",
      "test auc: 1.0\n",
      "loss at iter 4:0.0169\n",
      "train auc: 1.0\n",
      "test auc: 1.0\n"
     ]
    }
   ],
   "source": [
    "from sklearn.metrics import roc_auc_score\n",
    "s.run(tf.global_variables_initializer())\n",
    "for i in range(5):\n",
    "    s.run(optimizer, {input_X: X_train, input_y: y_train})\n",
    "    loss_i = s.run(loss, {input_X: X_train, input_y: y_train})\n",
    "    print(\"loss at iter %i:%.4f\" % (i, loss_i))\n",
    "    print(\"train auc:\", roc_auc_score(y_train, s.run(predicted_y, {input_X:X_train})))\n",
    "    print(\"test auc:\", roc_auc_score(y_test, s.run(predicted_y, {input_X:X_test})))"
   ]
  },
  {
   "cell_type": "markdown",
   "metadata": {},
   "source": [
    "### Coursera submission"
   ]
  },
  {
   "cell_type": "code",
   "execution_count": 43,
   "metadata": {
    "collapsed": true
   },
   "outputs": [],
   "source": [
    "grade_submitter = grading.Grader(\"BJCiiY8sEeeCnhKCj4fcOA\")"
   ]
  },
  {
   "cell_type": "code",
   "execution_count": 44,
   "metadata": {
    "collapsed": true
   },
   "outputs": [],
   "source": [
    "test_weights = 1e-3 * np.fromiter(map(lambda x:\n",
    "    s.run(weird_psychotic_function, {my_scalar:x, my_vector:[1, 2, 3]}),\n",
    "                               0.1 * np.arange(1, X.shape[1] + 1)),\n",
    "                               count=X.shape[1], dtype=np.float32)[:, np.newaxis]"
   ]
  },
  {
   "cell_type": "markdown",
   "metadata": {},
   "source": [
    "First, test prediction and loss computation. This part doesn't require a fitted model."
   ]
  },
  {
   "cell_type": "code",
   "execution_count": 45,
   "metadata": {
    "collapsed": true
   },
   "outputs": [],
   "source": [
    "prediction_test = s.run(\n",
    "    predicted_y, {\n",
    "    input_X: X,\n",
    "    weights: test_weights,\n",
    "    b: 1e-1})"
   ]
  },
  {
   "cell_type": "code",
   "execution_count": 46,
   "metadata": {
    "collapsed": true
   },
   "outputs": [],
   "source": [
    "assert prediction_test.shape == (X.shape[0],),\\\n",
    "       \"Predictions must be a 1D array with length equal to the number \" \\\n",
    "       \"of examples in X_test\""
   ]
  },
  {
   "cell_type": "code",
   "execution_count": 47,
   "metadata": {
    "collapsed": true
   },
   "outputs": [],
   "source": [
    "grade_submitter.set_answer(\"0ENlN\", prediction_test)"
   ]
  },
  {
   "cell_type": "code",
   "execution_count": 48,
   "metadata": {
    "collapsed": true
   },
   "outputs": [],
   "source": [
    "loss_test = s.run(\n",
    "    loss, {\n",
    "        input_X: X[:100],\n",
    "        input_y: y[-100:],\n",
    "        weights: test_weights+1.21e-3,\n",
    "        b: -1e-1})\n",
    "# Yes, the X/y indices mistmach is intentional"
   ]
  },
  {
   "cell_type": "code",
   "execution_count": 49,
   "metadata": {
    "collapsed": true
   },
   "outputs": [],
   "source": [
    "grade_submitter.set_answer(\"mMVpM\", loss_test)"
   ]
  },
  {
   "cell_type": "code",
   "execution_count": 50,
   "metadata": {
    "collapsed": true
   },
   "outputs": [],
   "source": [
    "grade_submitter.set_answer(\"D16Rc\", roc_auc_score(y_test, s.run(predicted_y, {input_X:X_test})))"
   ]
  },
  {
   "cell_type": "markdown",
   "metadata": {},
   "source": [
    "Please use the credentials obtained from the Coursera assignment page."
   ]
  },
  {
   "cell_type": "code",
   "execution_count": 45,
   "metadata": {},
   "outputs": [
    {
     "name": "stdout",
     "output_type": "stream",
     "text": [
      "Submitted to Coursera platform. See results on assignment page!\n"
     ]
    }
   ],
   "source": [
    "grade_submitter.submit(<email>, <token>)"
   ]
  }
 ],
 "metadata": {
  "kernelspec": {
   "display_name": "Python [default]",
   "language": "python",
   "name": "python3"
  },
  "language_info": {
   "codemirror_mode": {
    "name": "ipython",
    "version": 3
   },
   "file_extension": ".py",
   "mimetype": "text/x-python",
   "name": "python",
   "nbconvert_exporter": "python",
   "pygments_lexer": "ipython3",
   "version": "3.5.5"
  }
 },
 "nbformat": 4,
 "nbformat_minor": 1
}
