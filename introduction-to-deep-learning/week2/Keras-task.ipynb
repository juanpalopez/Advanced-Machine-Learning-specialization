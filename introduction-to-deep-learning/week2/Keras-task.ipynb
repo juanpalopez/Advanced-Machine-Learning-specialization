{
 "cells": [
  {
   "cell_type": "markdown",
   "metadata": {},
   "source": [
    "# Getting deeper with Keras\n",
    "* Tensorflow is a powerful and flexible tool, but coding large neural architectures with it is tedious.\n",
    "* There are plenty of deep learning toolkits that work on top of it like Slim, TFLearn, Sonnet, Keras.\n",
    "* Choice is matter of taste and particular task\n",
    "* We'll be using Keras"
   ]
  },
  {
   "cell_type": "code",
   "execution_count": 1,
   "metadata": {
    "collapsed": true
   },
   "outputs": [],
   "source": [
    "import sys\n",
    "sys.path.append(\"..\")\n",
    "import grading"
   ]
  },
  {
   "cell_type": "code",
   "execution_count": 71,
   "metadata": {},
   "outputs": [
    {
     "name": "stdout",
     "output_type": "stream",
     "text": [
      "ln: failed to create symbolic link ‘/home/jovyan/.keras/datasets/cifar-10-batches-py.tar.gz’: File exists\n",
      "ln: failed to create symbolic link ‘/home/jovyan/.keras/datasets/mnist.npz’: File exists\n",
      "ln: failed to create symbolic link ‘/home/jovyan/.keras/models/inception_v3_weights_tf_dim_ordering_tf_kernels_notop.h5’: File exists\n"
     ]
    }
   ],
   "source": [
    "# use preloaded keras datasets and models\n",
    "! mkdir -p ~/.keras/datasets\n",
    "! mkdir -p ~/.keras/models\n",
    "! ln -s $(realpath ../readonly/keras/datasets/*) ~/.keras/datasets/\n",
    "! ln -s $(realpath ../readonly/keras/models/*) ~/.keras/models/"
   ]
  },
  {
   "cell_type": "code",
   "execution_count": 72,
   "metadata": {},
   "outputs": [],
   "source": [
    "import numpy as np\n",
    "from preprocessed_mnist import load_dataset\n",
    "import keras\n",
    "X_train, y_train, X_val, y_val, X_test, y_test = load_dataset()\n",
    "y_train,y_val,y_test = map(keras.utils.np_utils.to_categorical,[y_train,y_val,y_test])"
   ]
  },
  {
   "cell_type": "code",
   "execution_count": 73,
   "metadata": {
    "scrolled": true
   },
   "outputs": [
    {
     "data": {
      "image/png": "[encoded data removed]",
      "text/plain": [
       "<matplotlib.figure.Figure at 0x7fa226cf6c18>"
      ]
     },
     "metadata": {},
     "output_type": "display_data"
    }
   ],
   "source": [
    "import matplotlib.pyplot as plt\n",
    "%matplotlib inline\n",
    "plt.imshow(X_train[0]);"
   ]
  },
  {
   "cell_type": "markdown",
   "metadata": {},
   "source": [
    "## The pretty keras"
   ]
  },
  {
   "cell_type": "code",
   "execution_count": 5,
   "metadata": {
    "collapsed": true
   },
   "outputs": [],
   "source": [
    "import tensorflow as tf\n",
    "s = tf.InteractiveSession()"
   ]
  },
  {
   "cell_type": "code",
   "execution_count": 111,
   "metadata": {
    "collapsed": true
   },
   "outputs": [],
   "source": [
    "import keras\n",
    "from keras.models import Sequential\n",
    "from keras.callbacks import EarlyStopping\n",
    "from keras import regularizers\n",
    "import keras.layers as ll\n",
    "from keras.optimizers import adam\n",
    "from keras.preprocessing.image import ImageDataGenerator"
   ]
  },
  {
   "cell_type": "code",
   "execution_count": 21,
   "metadata": {},
   "outputs": [],
   "source": [
    "datagen = ImageDataGenerator(\n",
    "    featurewise_center=True,\n",
    "    featurewise_std_normalization=True,\n",
    "    rotation_range=40,\n",
    "    zoom_range=0.2,\n",
    "    width_shift_range=0.2,\n",
    "    height_shift_range=0.2,\n",
    "    horizontal_flip=False)"
   ]
  },
  {
   "cell_type": "code",
   "execution_count": 22,
   "metadata": {
    "collapsed": true
   },
   "outputs": [],
   "source": [
    "#X_train = X_train.reshape(X_train.shape[0],28,28,1)\n",
    "#X_val = X_val.reshape(X_val.shape[0],28,28,1)\n",
    "#X_test = X_test.reshape(X_test.shape[0],28,28,1)"
   ]
  },
  {
   "cell_type": "code",
   "execution_count": 23,
   "metadata": {},
   "outputs": [
    {
     "name": "stderr",
     "output_type": "stream",
     "text": [
      "/opt/conda/lib/python3.6/site-packages/keras/preprocessing/image.py:653: UserWarning: Expected input to be images (as Numpy array) following the data format convention \"channels_last\" (channels on axis 3), i.e. expected either 1, 3 or 4 channels on axis 3. However, it was passed an array with shape (50000, 28, 28, 1) (1 channels).\n",
      "  ' (' + str(x.shape[self.channel_axis]) + ' channels).')\n"
     ]
    }
   ],
   "source": [
    "#datagen.fit(X_train)"
   ]
  },
  {
   "cell_type": "code",
   "execution_count": 67,
   "metadata": {},
   "outputs": [
    {
     "data": {
      "image/png": "[encoded data removed]",
      "text/plain": [
       "<matplotlib.figure.Figure at 0x7fa200022a58>"
      ]
     },
     "metadata": {},
     "output_type": "display_data"
    }
   ],
   "source": [
    "for x_batch, y_batch in datagen.flow(X_train, y_train, batch_size=9):\n",
    "    # Show the first 9 images\n",
    "    for i in range(0, 9):\n",
    "        plt.subplot(330 + 1 + i)\n",
    "        plt.imshow(x_batch[i].reshape(28, 28))\n",
    "    # show the plot\n",
    "    plt.show()\n",
    "    break"
   ]
  },
  {
   "cell_type": "code",
   "execution_count": 113,
   "metadata": {},
   "outputs": [],
   "source": [
    "\n",
    "model = Sequential(name=\"mlp\")\n",
    "\n",
    "model.add(ll.InputLayer([28, 28]))\n",
    "\n",
    "model.add(ll.Flatten())\n",
    "\n",
    "# network body\n",
    "model.add(ll.Dense(256, kernel_regularizer=regularizers.l2(0.0001)))\n",
    "model.add(ll.Activation('relu'))\n",
    "model.add(ll.Dropout(0.35))\n",
    "\n",
    "model.add(ll.Dense(256, kernel_regularizer=regularizers.l2(0.0001)))\n",
    "model.add(ll.Activation('relu'))\n",
    "model.add(ll.Dropout(0.35))\n",
    "\n",
    "model.add(ll.Dense(128, kernel_regularizer=regularizers.l2(0.0001)))\n",
    "model.add(ll.Activation('relu'))\n",
    "model.add(ll.Dropout(0.5))\n",
    "\n",
    "\n",
    "# output layer: 10 neurons for each class with softmax\n",
    "model.add(ll.Dense(10, activation='softmax'))\n",
    "\n",
    "# categorical_crossentropy is your good old crossentropy\n",
    "# but applied for one-hot-encoded vectors\n",
    "model.compile(loss=\"categorical_crossentropy\", metrics=[\"accuracy\"], optimizer=adam(0.0001))"
   ]
  },
  {
   "cell_type": "code",
   "execution_count": 114,
   "metadata": {},
   "outputs": [
    {
     "name": "stdout",
     "output_type": "stream",
     "text": [
      "_________________________________________________________________\n",
      "Layer (type)                 Output Shape              Param #   \n",
      "=================================================================\n",
      "input_19 (InputLayer)        (None, 28, 28)            0         \n",
      "_________________________________________________________________\n",
      "flatten_18 (Flatten)         (None, 784)               0         \n",
      "_________________________________________________________________\n",
      "dense_43 (Dense)             (None, 256)               200960    \n",
      "_________________________________________________________________\n",
      "activation_28 (Activation)   (None, 256)               0         \n",
      "_________________________________________________________________\n",
      "dropout_31 (Dropout)         (None, 256)               0         \n",
      "_________________________________________________________________\n",
      "dense_44 (Dense)             (None, 256)               65792     \n",
      "_________________________________________________________________\n",
      "activation_29 (Activation)   (None, 256)               0         \n",
      "_________________________________________________________________\n",
      "dropout_32 (Dropout)         (None, 256)               0         \n",
      "_________________________________________________________________\n",
      "dense_45 (Dense)             (None, 128)               32896     \n",
      "_________________________________________________________________\n",
      "activation_30 (Activation)   (None, 128)               0         \n",
      "_________________________________________________________________\n",
      "dropout_33 (Dropout)         (None, 128)               0         \n",
      "_________________________________________________________________\n",
      "dense_46 (Dense)             (None, 10)                1290      \n",
      "=================================================================\n",
      "Total params: 300,938\n",
      "Trainable params: 300,938\n",
      "Non-trainable params: 0\n",
      "_________________________________________________________________\n"
     ]
    }
   ],
   "source": [
    "model.summary()"
   ]
  },
  {
   "cell_type": "markdown",
   "metadata": {},
   "source": [
    "### Model interface\n",
    "\n",
    "Keras models follow __Scikit-learn__'s interface of fit/predict with some notable extensions. Let's take a tour."
   ]
  },
  {
   "cell_type": "code",
   "execution_count": 115,
   "metadata": {
    "collapsed": true
   },
   "outputs": [],
   "source": [
    "epochs=5"
   ]
  },
  {
   "cell_type": "code",
   "execution_count": 116,
   "metadata": {},
   "outputs": [
    {
     "name": "stdout",
     "output_type": "stream",
     "text": [
      "Train on 50000 samples, validate on 10000 samples\n",
      "Epoch 1/20\n",
      "50000/50000 [==============================] - 30s - loss: 1.0698 - acc: 0.6758 - val_loss: 0.3654 - val_acc: 0.9161\n",
      "Epoch 2/20\n",
      "50000/50000 [==============================] - 29s - loss: 0.4879 - acc: 0.8788 - val_loss: 0.2754 - val_acc: 0.9407\n",
      "Epoch 3/20\n",
      "50000/50000 [==============================] - 29s - loss: 0.3785 - acc: 0.9141 - val_loss: 0.2353 - val_acc: 0.9528\n",
      "Epoch 4/20\n",
      "50000/50000 [==============================] - 29s - loss: 0.3155 - acc: 0.9306 - val_loss: 0.2057 - val_acc: 0.9616\n",
      "Epoch 5/20\n",
      "50000/50000 [==============================] - 30s - loss: 0.2754 - acc: 0.9424 - val_loss: 0.1916 - val_acc: 0.9641\n",
      "Epoch 6/20\n",
      "50000/50000 [==============================] - 29s - loss: 0.2489 - acc: 0.9490 - val_loss: 0.1782 - val_acc: 0.9673\n",
      "Epoch 7/20\n",
      "50000/50000 [==============================] - 29s - loss: 0.2295 - acc: 0.9544 - val_loss: 0.1709 - val_acc: 0.9714\n",
      "Epoch 8/20\n",
      "50000/50000 [==============================] - 30s - loss: 0.2135 - acc: 0.9594 - val_loss: 0.1643 - val_acc: 0.9727\n",
      "Epoch 9/20\n",
      "50000/50000 [==============================] - 30s - loss: 0.1990 - acc: 0.9629 - val_loss: 0.1589 - val_acc: 0.9741\n",
      "Epoch 10/20\n",
      "50000/50000 [==============================] - 30s - loss: 0.1890 - acc: 0.9654 - val_loss: 0.1539 - val_acc: 0.9746\n",
      "Epoch 11/20\n",
      "50000/50000 [==============================] - 30s - loss: 0.1797 - acc: 0.9675 - val_loss: 0.1497 - val_acc: 0.9758\n",
      "Epoch 12/20\n",
      "50000/50000 [==============================] - 30s - loss: 0.1704 - acc: 0.9699 - val_loss: 0.1488 - val_acc: 0.9754\n",
      "Epoch 13/20\n",
      "50000/50000 [==============================] - 30s - loss: 0.1620 - acc: 0.9727 - val_loss: 0.1482 - val_acc: 0.9771\n",
      "Epoch 14/20\n",
      "50000/50000 [==============================] - 29s - loss: 0.1562 - acc: 0.9735 - val_loss: 0.1431 - val_acc: 0.9782\n",
      "Epoch 15/20\n",
      "50000/50000 [==============================] - 30s - loss: 0.1494 - acc: 0.9750 - val_loss: 0.1416 - val_acc: 0.9775\n",
      "Epoch 16/20\n",
      "50000/50000 [==============================] - 30s - loss: 0.1409 - acc: 0.9769 - val_loss: 0.1402 - val_acc: 0.9781\n",
      "Epoch 17/20\n",
      "50000/50000 [==============================] - 30s - loss: 0.1415 - acc: 0.9767 - val_loss: 0.1388 - val_acc: 0.9783\n",
      "Epoch 18/20\n",
      "50000/50000 [==============================] - 29s - loss: 0.1337 - acc: 0.9789 - val_loss: 0.1370 - val_acc: 0.9782\n",
      "Epoch 19/20\n",
      "50000/50000 [==============================] - 29s - loss: 0.1277 - acc: 0.9802 - val_loss: 0.1372 - val_acc: 0.9789\n",
      "Epoch 00018: early stopping\n"
     ]
    }
   ],
   "source": [
    "# fit(X,y) ships with a neat automatic logging.\n",
    "#          Highly customizable under the hood.\n",
    "model.fit(X_train, y_train,\n",
    "            callbacks=[EarlyStopping(monitor='val_loss', verbose=1)],\n",
    "            validation_data=(X_val, y_val), epochs=20);\n",
    "\n",
    "#model.fit_generator(datagen.flow(X_train, y_train, batch_size=64),\n",
    "#                    steps_per_epoch=len(X_train) / 64, epochs=epochs)"
   ]
  },
  {
   "cell_type": "code",
   "execution_count": 117,
   "metadata": {},
   "outputs": [
    {
     "name": "stdout",
     "output_type": "stream",
     "text": [
      "2/2 [==============================] - 0s\n"
     ]
    },
    {
     "data": {
      "text/plain": [
       "array([[  2.12941753e-09,   1.90415324e-06,   2.74621493e-06,\n",
       "          9.99984145e-01,   2.27648878e-09,   1.04078272e-05,\n",
       "          3.58991892e-10,   1.38938859e-07,   2.04112979e-07,\n",
       "          5.05028424e-07],\n",
       "       [  8.87489477e-08,   1.41559084e-07,   7.80175981e-07,\n",
       "          3.61329558e-06,   6.29183816e-08,   6.40509768e-07,\n",
       "          2.61712813e-07,   1.32120253e-08,   9.99993443e-01,\n",
       "          1.01163130e-06]], dtype=float32)"
      ]
     },
     "execution_count": 117,
     "metadata": {},
     "output_type": "execute_result"
    }
   ],
   "source": [
    "# estimate probabilities P(y|x)\n",
    "model.predict_proba(X_val[:2])"
   ]
  },
  {
   "cell_type": "code",
   "execution_count": 119,
   "metadata": {
    "collapsed": true
   },
   "outputs": [],
   "source": [
    "# Save trained weights\n",
    "model.save(\"weights.h5\")"
   ]
  },
  {
   "cell_type": "code",
   "execution_count": 120,
   "metadata": {},
   "outputs": [
    {
     "name": "stdout",
     "output_type": "stream",
     "text": [
      " 9664/10000 [===========================>..] - ETA: 0s\n",
      "Loss, Accuracy =  [0.13202340849637986, 0.97960000000000003]\n"
     ]
    }
   ],
   "source": [
    "print(\"\\nLoss, Accuracy = \", model.evaluate(X_test, y_test))"
   ]
  },
  {
   "cell_type": "markdown",
   "metadata": {},
   "source": [
    "### Whoops!\n",
    "So far our model is staggeringly inefficient. There is something wring with it. Guess, what?"
   ]
  },
  {
   "cell_type": "code",
   "execution_count": 121,
   "metadata": {},
   "outputs": [
    {
     "name": "stdout",
     "output_type": "stream",
     "text": [
      " 9952/10000 [============================>.] - ETA: 0s\n",
      "Test accuracy: 97.96000000000001 %\n",
      "Great job!\n"
     ]
    }
   ],
   "source": [
    "# Test score...\n",
    "test_predictions = model.predict_proba(X_test).argmax(axis=-1)\n",
    "test_answers = y_test.argmax(axis=-1)\n",
    "\n",
    "test_accuracy = np.mean(test_predictions==test_answers)\n",
    "\n",
    "print(\"\\nTest accuracy: {} %\".format(test_accuracy*100))\n",
    "\n",
    "assert test_accuracy>=0.92,\"Logistic regression can do better!\"\n",
    "assert test_accuracy>=0.975,\"Your network can do better!\"\n",
    "print(\"Great job!\")"
   ]
  },
  {
   "cell_type": "code",
   "execution_count": 122,
   "metadata": {
    "collapsed": true
   },
   "outputs": [],
   "source": [
    "answer_submitter = grading.Grader(\"0ybD9ZxxEeea8A6GzH-6CA\")\n",
    "answer_submitter.set_answer(\"N56DR\", test_accuracy)"
   ]
  },
  {
   "cell_type": "code",
   "execution_count": 123,
   "metadata": {},
   "outputs": [
    {
     "name": "stdout",
     "output_type": "stream",
     "text": [
      "Submitted to Coursera platform. See results on assignment page!\n"
     ]
    }
   ],
   "source": [
    "answer_submitter.submit('juanpablolopez@outlook.com', '4Yn9fMI9kWaK7WIE')"
   ]
  },
  {
   "cell_type": "markdown",
   "metadata": {},
   "source": [
    "## Keras + tensorboard\n",
    "\n",
    "Remember the interactive graphs from Tensorboard one notebook ago? \n",
    "\n",
    "Thing is, Keras can use tensorboard to show you a lot of useful information about the learning progress. Just take a look!"
   ]
  },
  {
   "cell_type": "code",
   "execution_count": null,
   "metadata": {
    "collapsed": true
   },
   "outputs": [],
   "source": [
    "! rm -r /tmp/tboard/**"
   ]
  },
  {
   "cell_type": "code",
   "execution_count": null,
   "metadata": {
    "collapsed": true
   },
   "outputs": [],
   "source": [
    "from keras.callbacks import TensorBoard\n",
    "model.fit(X_train, y_train, validation_data=(X_val, y_val), \n",
    "          epochs=10,\n",
    "          callbacks=[TensorBoard(\"/tmp/tboard\")])"
   ]
  },
  {
   "cell_type": "markdown",
   "metadata": {},
   "source": [
    "# Tips & tricks\n",
    "\n",
    "Here are some tips on what you could do. Don't worry, to reach the passing threshold you don't need to try all the ideas listed here, feel free to stop once you reach the 0.975 accuracy mark.\n",
    "\n",
    " * __Network size__\n",
    "   * More neurons, \n",
    "   * More layers, ([docs](https://keras.io/))\n",
    "\n",
    "   * Nonlinearities in the hidden layers\n",
    "     * tanh, relu, leaky relu, etc\n",
    "   * Larger networks may take more epochs to train, so don't discard your net just because it could didn't beat the baseline in 5 epochs.\n",
    "\n",
    "\n",
    " * __Early Stopping__\n",
    "   * Training for 100 epochs regardless of anything is probably a bad idea.\n",
    "   * Some networks converge over 5 epochs, others - over 500.\n",
    "   * Way to go: stop when validation score is 10 iterations past maximum\n",
    "     \n",
    "\n",
    " * __Faster optimization__\n",
    "   * rmsprop, nesterov_momentum, adam, adagrad and so on.\n",
    "     * Converge faster and sometimes reach better optima\n",
    "     * It might make sense to tweak learning rate/momentum, other learning parameters, batch size and number of epochs\n",
    "\n",
    "\n",
    " * __Regularize__ to prevent overfitting\n",
    "   * Add some L2 weight norm to the loss function, theano will do the rest\n",
    "     * Can be done manually or via - https://keras.io/regularizers/\n",
    "   \n",
    "   \n",
    " * __Data augmemntation__ - getting 5x as large dataset for free is a great deal\n",
    "   * https://keras.io/preprocessing/image/\n",
    "   * Zoom-in+slice = move\n",
    "   * Rotate+zoom(to remove black stripes)\n",
    "   * any other perturbations\n",
    "   * Simple way to do that (if you have PIL/Image): \n",
    "     * ```from scipy.misc import imrotate,imresize```\n",
    "     * and a few slicing\n",
    "   * Stay realistic. There's usually no point in flipping dogs upside down as that is not the way you usually see them."
   ]
  }
 ],
 "metadata": {
  "kernelspec": {
   "display_name": "Python 3",
   "language": "python",
   "name": "python3"
  },
  "language_info": {
   "codemirror_mode": {
    "name": "ipython",
    "version": 3
   },
   "file_extension": ".py",
   "mimetype": "text/x-python",
   "name": "python",
   "nbconvert_exporter": "python",
   "pygments_lexer": "ipython3",
   "version": "3.6.0"
  },
  "toc": {
   "colors": {
    "hover_highlight": "#DAA520",
    "navigate_num": "#000000",
    "navigate_text": "#333333",
    "running_highlight": "#FF0000",
    "selected_highlight": "#FFD700",
    "sidebar_border": "#EEEEEE",
    "wrapper_background": "#FFFFFF"
   },
   "moveMenuLeft": true,
   "nav_menu": {
    "height": "120px",
    "width": "252px"
   },
   "navigate_menu": true,
   "number_sections": true,
   "sideBar": true,
   "threshold": 4,
   "toc_cell": false,
   "toc_section_display": "block",
   "toc_window_display": false,
   "widenNotebook": false
  }
 },
 "nbformat": 4,
 "nbformat_minor": 1
}
