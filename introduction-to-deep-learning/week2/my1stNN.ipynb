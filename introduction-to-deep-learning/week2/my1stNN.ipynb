{
 "cells": [
  {
   "cell_type": "code",
   "execution_count": 1,
   "metadata": {},
   "outputs": [
    {
     "name": "stderr",
     "output_type": "stream",
     "text": [
      "Using TensorFlow backend.\n"
     ]
    }
   ],
   "source": [
    "import tensorflow as tf\n",
    "import matplotlib.pyplot as plt\n",
    "import numpy as np\n",
    "from preprocessed_mnist import load_dataset"
   ]
  },
  {
   "cell_type": "code",
   "execution_count": 2,
   "metadata": {},
   "outputs": [
    {
     "name": "stdout",
     "output_type": "stream",
     "text": [
      "Downloading data from https://s3.amazonaws.com/img-datasets/mnist.npz\n",
      "11493376/11490434 [==============================] - 5s 0us/step\n",
      "(50000, 28, 28) (50000,)\n"
     ]
    }
   ],
   "source": [
    "# Get MNIST Data\n",
    "X_train, y_train, X_val, y_val, X_test, y_test = load_dataset()\n",
    "print(X_train.shape, y_train.shape)"
   ]
  },
  {
   "cell_type": "code",
   "execution_count": 36,
   "metadata": {},
   "outputs": [
    {
     "data": {
      "image/png": "[encoded data removed]",
      "text/plain": [
       "<matplotlib.figure.Figure at 0x105522550>"
      ]
     },
     "metadata": {},
     "output_type": "display_data"
    }
   ],
   "source": [
    "%matplotlib inline\n",
    "plt.imshow(X_test[0], cmap=\"Greys\");"
   ]
  },
  {
   "cell_type": "code",
   "execution_count": 195,
   "metadata": {},
   "outputs": [],
   "source": [
    "# Initialize config vars\n",
    "samples = X_train.shape[0]\n",
    "features = X_train.shape[1]*X_train.shape[1]\n",
    "classes = 10\n",
    "batch = 64\n",
    "neurons = 128\n",
    "epochs = 100\n",
    "starter_learning_rate = 1e-4\n",
    "global_step = tf.Variable(0, trainable=False)\n",
    "learning_rate = tf.train.exponential_decay(starter_learning_rate, global_step, 100, 85, staircase=True)\n",
    "drop_val = 0.5\n",
    "#momentum = 0.6"
   ]
  },
  {
   "cell_type": "code",
   "execution_count": 5,
   "metadata": {},
   "outputs": [],
   "source": [
    "# Reshape MNIST features and One Hot Enconding y labels\n",
    "with tf.Session() as sess:\n",
    "    X_train_re = tf.reshape(X_train, (samples,features)).eval()\n",
    "    Y_train_ohe = tf.one_hot(y_train, depth=classes).eval()"
   ]
  },
  {
   "cell_type": "code",
   "execution_count": 32,
   "metadata": {},
   "outputs": [],
   "source": [
    "# Reshape MNIST features and One Hot Enconding y labels\n",
    "with tf.Session() as sess:\n",
    "    X_val_re = tf.reshape(X_val, (X_val.shape[0],features)).eval()\n",
    "    Y_val_ohe = tf.one_hot(y_val, depth=classes).eval()"
   ]
  },
  {
   "cell_type": "code",
   "execution_count": 33,
   "metadata": {},
   "outputs": [],
   "source": [
    "# Reshape MNIST features and One Hot Enconding y labels\n",
    "with tf.Session() as sess:\n",
    "    X_test_re = tf.reshape(X_test, (X_test.shape[0],features)).eval()\n",
    "    Y_test_ohe = tf.one_hot(y_test, depth=classes).eval()"
   ]
  },
  {
   "cell_type": "code",
   "execution_count": 29,
   "metadata": {},
   "outputs": [],
   "source": [
    "def init_vars():\n",
    "    return tf.global_variables_initializer()"
   ]
  },
  {
   "cell_type": "code",
   "execution_count": 7,
   "metadata": {},
   "outputs": [],
   "source": [
    "def init_weights(shape):\n",
    "    '''Initialize weights with a defined shape\n",
    "    '''\n",
    "    weights = tf.random_normal(shape, stddev=0.1)\n",
    "    return tf.Variable(weights)"
   ]
  },
  {
   "cell_type": "code",
   "execution_count": 8,
   "metadata": {},
   "outputs": [],
   "source": [
    "def forward_prop(x, weights, bias, activation=None):\n",
    "    ''' Forward propagation\n",
    "    '''\n",
    "    z = tf.add(tf.matmul(x, weights),bias)\n",
    "    if activation:\n",
    "        y_hat = activation(z)\n",
    "        return y_hat\n",
    "    return z\n",
    "    "
   ]
  },
  {
   "cell_type": "code",
   "execution_count": 147,
   "metadata": {},
   "outputs": [],
   "source": [
    "# Iniatialize weights for hidden and output layer\n",
    "w1 = init_weights((features,neurons))\n",
    "w2 = init_weights((neurons,classes))\n",
    "b1 = init_weights((1,neurons))\n",
    "b2 = init_weights((1,classes))"
   ]
  },
  {
   "cell_type": "code",
   "execution_count": 170,
   "metadata": {},
   "outputs": [],
   "source": [
    "# Settign symbols\n",
    "X_input = tf.placeholder(shape=(None,features), dtype=tf.float32)\n",
    "Y_input = tf.placeholder(shape=(None,classes), dtype=tf.float32)\n",
    "keep_prob = tf.placeholder(tf.float32)"
   ]
  },
  {
   "cell_type": "code",
   "execution_count": 171,
   "metadata": {},
   "outputs": [],
   "source": [
    "# Forward propagation\n",
    "y_hat = forward_prop(X_input,w1,b1,tf.nn.relu)\n",
    "Y_hat = tf.nn.dropout(y_hat,keep_prob)\n",
    "y_hat = forward_prop(y_hat,w2,b2)\n",
    "predict = tf.argmax(y_hat, axis=1)"
   ]
  },
  {
   "cell_type": "code",
   "execution_count": 182,
   "metadata": {},
   "outputs": [],
   "source": [
    "# Backward propagation\n",
    "loss = tf.reduce_mean(tf.nn.softmax_cross_entropy_with_logits(logits=y_hat, labels=Y_input))\n",
    "train = tf.train.AdamOptimizer(learning_rate).minimize(loss)"
   ]
  },
  {
   "cell_type": "code",
   "execution_count": 196,
   "metadata": {},
   "outputs": [
    {
     "name": "stdout",
     "output_type": "stream",
     "text": [
      "Epoch = 1, train_accuracy= 87.22%, test_acccuracy = 88.50%\n",
      "Epoch = 2, train_accuracy= 90.43%, test_acccuracy = 91.08%\n",
      "Epoch = 3, train_accuracy= 91.93%, test_acccuracy = 92.27%\n",
      "Epoch = 4, train_accuracy= 92.85%, test_acccuracy = 92.88%\n",
      "Epoch = 5, train_accuracy= 93.50%, test_acccuracy = 93.54%\n",
      "Epoch = 6, train_accuracy= 94.02%, test_acccuracy = 94.06%\n",
      "Epoch = 7, train_accuracy= 94.48%, test_acccuracy = 94.35%\n",
      "Epoch = 8, train_accuracy= 94.86%, test_acccuracy = 94.78%\n",
      "Epoch = 9, train_accuracy= 95.21%, test_acccuracy = 94.97%\n",
      "Epoch = 10, train_accuracy= 95.51%, test_acccuracy = 95.27%\n",
      "Epoch = 11, train_accuracy= 95.78%, test_acccuracy = 95.50%\n",
      "Epoch = 12, train_accuracy= 96.01%, test_acccuracy = 95.71%\n",
      "Epoch = 13, train_accuracy= 96.23%, test_acccuracy = 95.86%\n",
      "Epoch = 14, train_accuracy= 96.44%, test_acccuracy = 95.97%\n",
      "Epoch = 15, train_accuracy= 96.62%, test_acccuracy = 96.20%\n",
      "Epoch = 16, train_accuracy= 96.76%, test_acccuracy = 96.31%\n",
      "Epoch = 17, train_accuracy= 96.92%, test_acccuracy = 96.39%\n",
      "Epoch = 18, train_accuracy= 97.06%, test_acccuracy = 96.51%\n",
      "Epoch = 19, train_accuracy= 97.20%, test_acccuracy = 96.58%\n",
      "Epoch = 20, train_accuracy= 97.34%, test_acccuracy = 96.66%\n",
      "Epoch = 21, train_accuracy= 97.45%, test_acccuracy = 96.69%\n",
      "Epoch = 22, train_accuracy= 97.58%, test_acccuracy = 96.81%\n",
      "Epoch = 23, train_accuracy= 97.67%, test_acccuracy = 96.85%\n",
      "Epoch = 24, train_accuracy= 97.76%, test_acccuracy = 96.96%\n",
      "Epoch = 25, train_accuracy= 97.85%, test_acccuracy = 96.98%\n",
      "Epoch = 26, train_accuracy= 97.94%, test_acccuracy = 97.02%\n",
      "Epoch = 27, train_accuracy= 98.02%, test_acccuracy = 97.11%\n",
      "Epoch = 28, train_accuracy= 98.10%, test_acccuracy = 97.14%\n",
      "Epoch = 29, train_accuracy= 98.18%, test_acccuracy = 97.18%\n",
      "Epoch = 30, train_accuracy= 98.24%, test_acccuracy = 97.21%\n",
      "Epoch = 31, train_accuracy= 98.32%, test_acccuracy = 97.20%\n",
      "Epoch = 32, train_accuracy= 98.36%, test_acccuracy = 97.21%\n",
      "Epoch = 33, train_accuracy= 98.44%, test_acccuracy = 97.27%\n",
      "Epoch = 34, train_accuracy= 98.50%, test_acccuracy = 97.29%\n",
      "Epoch = 35, train_accuracy= 98.58%, test_acccuracy = 97.31%\n",
      "Epoch = 36, train_accuracy= 98.64%, test_acccuracy = 97.29%\n",
      "Epoch = 37, train_accuracy= 98.71%, test_acccuracy = 97.32%\n",
      "Epoch = 38, train_accuracy= 98.78%, test_acccuracy = 97.33%\n",
      "Epoch = 39, train_accuracy= 98.82%, test_acccuracy = 97.29%\n",
      "Epoch = 40, train_accuracy= 98.88%, test_acccuracy = 97.32%\n",
      "Epoch = 41, train_accuracy= 98.92%, test_acccuracy = 97.34%\n",
      "Epoch = 42, train_accuracy= 98.97%, test_acccuracy = 97.35%\n",
      "Epoch = 43, train_accuracy= 99.00%, test_acccuracy = 97.36%\n",
      "Epoch = 44, train_accuracy= 99.04%, test_acccuracy = 97.39%\n",
      "Epoch = 45, train_accuracy= 99.07%, test_acccuracy = 97.42%\n",
      "Epoch = 46, train_accuracy= 99.12%, test_acccuracy = 97.43%\n",
      "Epoch = 47, train_accuracy= 99.14%, test_acccuracy = 97.43%\n",
      "Epoch = 48, train_accuracy= 99.18%, test_acccuracy = 97.44%\n",
      "Epoch = 49, train_accuracy= 99.22%, test_acccuracy = 97.42%\n",
      "Epoch = 50, train_accuracy= 99.27%, test_acccuracy = 97.43%\n",
      "Epoch = 51, train_accuracy= 99.31%, test_acccuracy = 97.45%\n",
      "Epoch = 52, train_accuracy= 99.34%, test_acccuracy = 97.45%\n",
      "Epoch = 53, train_accuracy= 99.37%, test_acccuracy = 97.46%\n",
      "Epoch = 54, train_accuracy= 99.39%, test_acccuracy = 97.48%\n",
      "Epoch = 55, train_accuracy= 99.41%, test_acccuracy = 97.46%\n",
      "Epoch = 56, train_accuracy= 99.43%, test_acccuracy = 97.46%\n",
      "Epoch = 57, train_accuracy= 99.46%, test_acccuracy = 97.46%\n",
      "Epoch = 58, train_accuracy= 99.48%, test_acccuracy = 97.48%\n",
      "Epoch = 59, train_accuracy= 99.51%, test_acccuracy = 97.45%\n",
      "Epoch = 60, train_accuracy= 99.54%, test_acccuracy = 97.46%\n",
      "Epoch = 61, train_accuracy= 99.56%, test_acccuracy = 97.46%\n",
      "Epoch = 62, train_accuracy= 99.58%, test_acccuracy = 97.44%\n",
      "Epoch = 63, train_accuracy= 99.61%, test_acccuracy = 97.42%\n",
      "Epoch = 64, train_accuracy= 99.62%, test_acccuracy = 97.44%\n",
      "Epoch = 65, train_accuracy= 99.64%, test_acccuracy = 97.46%\n",
      "Epoch = 66, train_accuracy= 99.65%, test_acccuracy = 97.45%\n",
      "Epoch = 67, train_accuracy= 99.67%, test_acccuracy = 97.45%\n",
      "Epoch = 68, train_accuracy= 99.68%, test_acccuracy = 97.47%\n",
      "Epoch = 69, train_accuracy= 99.71%, test_acccuracy = 97.44%\n",
      "Epoch = 70, train_accuracy= 99.73%, test_acccuracy = 97.45%\n",
      "Epoch = 71, train_accuracy= 99.74%, test_acccuracy = 97.47%\n",
      "Epoch = 72, train_accuracy= 99.77%, test_acccuracy = 97.46%\n",
      "Epoch = 73, train_accuracy= 99.78%, test_acccuracy = 97.48%\n",
      "Epoch = 74, train_accuracy= 99.80%, test_acccuracy = 97.45%\n",
      "Epoch = 75, train_accuracy= 99.81%, test_acccuracy = 97.46%\n",
      "Epoch = 76, train_accuracy= 99.82%, test_acccuracy = 97.45%\n",
      "Epoch = 77, train_accuracy= 99.84%, test_acccuracy = 97.44%\n",
      "Epoch = 78, train_accuracy= 99.84%, test_acccuracy = 97.45%\n",
      "Epoch = 79, train_accuracy= 99.85%, test_acccuracy = 97.45%\n",
      "Epoch = 80, train_accuracy= 99.85%, test_acccuracy = 97.46%\n",
      "Epoch = 81, train_accuracy= 99.87%, test_acccuracy = 97.45%\n",
      "Epoch = 82, train_accuracy= 99.88%, test_acccuracy = 97.45%\n",
      "Epoch = 83, train_accuracy= 99.89%, test_acccuracy = 97.46%\n",
      "Epoch = 84, train_accuracy= 99.90%, test_acccuracy = 97.47%\n",
      "Epoch = 85, train_accuracy= 99.90%, test_acccuracy = 97.47%\n",
      "Epoch = 86, train_accuracy= 99.90%, test_acccuracy = 97.48%\n",
      "Epoch = 87, train_accuracy= 99.90%, test_acccuracy = 97.47%\n",
      "Epoch = 88, train_accuracy= 99.91%, test_acccuracy = 97.49%\n",
      "Epoch = 89, train_accuracy= 99.92%, test_acccuracy = 97.49%\n",
      "Epoch = 90, train_accuracy= 99.93%, test_acccuracy = 97.51%\n",
      "Epoch = 91, train_accuracy= 99.93%, test_acccuracy = 97.49%\n",
      "Epoch = 92, train_accuracy= 99.93%, test_acccuracy = 97.50%\n",
      "Epoch = 93, train_accuracy= 99.94%, test_acccuracy = 97.52%\n",
      "Epoch = 94, train_accuracy= 99.95%, test_acccuracy = 97.52%\n",
      "Epoch = 95, train_accuracy= 99.95%, test_acccuracy = 97.52%\n",
      "Epoch = 96, train_accuracy= 99.96%, test_acccuracy = 97.53%\n",
      "Epoch = 97, train_accuracy= 99.96%, test_acccuracy = 97.55%\n",
      "Epoch = 98, train_accuracy= 99.96%, test_acccuracy = 97.55%\n",
      "Epoch = 99, train_accuracy= 99.96%, test_acccuracy = 97.57%\n",
      "Epoch = 100, train_accuracy= 99.97%, test_acccuracy = 97.57%\n"
     ]
    },
    {
     "data": {
      "image/png": "[encoded data removed]",
      "text/plain": [
       "<matplotlib.figure.Figure at 0x127b64fd0>"
      ]
     },
     "metadata": {},
     "output_type": "display_data"
    }
   ],
   "source": [
    "# Run Minibatch traning\n",
    "\n",
    "%matplotlib inline\n",
    "with tf.Session() as sess:\n",
    "    \n",
    "    # Initialize variables\n",
    "    sess.run(init_vars())\n",
    "    \n",
    "    # Initialize list to total store costs\n",
    "    train_total_cost = []\n",
    "    test_total_cost = []\n",
    "    for epoch in range(epochs):\n",
    "        \n",
    "        # Initialize list to average store costs\n",
    "        train_avg_cost = []\n",
    "        test_avg_cost = []\n",
    "        \n",
    "        # Minibatch training\n",
    "        for mb in range(0,len(X_train_re),batch):\n",
    "            # Training and calculating cost\n",
    "            _ , train_cost = sess.run([train, loss], feed_dict={X_input:X_train_re[mb:mb+batch], \n",
    "                                                                Y_input:Y_train_ohe[mb:mb+batch],\n",
    "                                                                keep_prob: drop_val})\n",
    "            train_avg_cost.append(train_cost)\n",
    "            \n",
    "            test_cost = sess.run(loss, feed_dict={X_input:X_test_re[mb:mb+batch], \n",
    "                                                  Y_input:Y_test_ohe[mb:mb+batch],\n",
    "                                                  keep_prob: drop_val})\n",
    "            test_avg_cost.append(test_cost)\n",
    "            \n",
    "        # Calculating accuracy    \n",
    "        train_accuracy = np.mean(np.argmax(Y_train_ohe,axis=1)==\n",
    "                                sess.run(predict, feed_dict={X_input: X_train_re, Y_input:Y_train_ohe}))\n",
    "        test_acccuracy = np.mean(np.argmax(Y_test_ohe,axis=1)== \n",
    "                               sess.run(predict, feed_dict={X_input: X_test_re, Y_input:Y_test_ohe}))\n",
    "        \n",
    "        # Removing nan from test_avg_cost\n",
    "        test_avg_cost = [x for x in test_avg_cost if str(x) != 'nan']\n",
    "        \n",
    "        # Calculating average train an test cost then append to total_cost\n",
    "        train_total_cost.append(np.mean(train_avg_cost))\n",
    "        test_total_cost.append(np.mean(test_avg_cost))\n",
    "        \n",
    "\n",
    "        print('Epoch = %d, train_accuracy= %.2f%%, test_acccuracy = %.2f%%' \n",
    "              % (epoch + 1, train_accuracy * 100.0, test_acccuracy * 100.0))\n",
    "        \n",
    "    #Plotting Train and Test loss\n",
    "    plt.plot(range(len(train_total_cost)),train_total_cost, label='train loss')\n",
    "    plt.plot(range(len(train_total_cost)),test_total_cost, label='test loss')\n",
    "    plt.legend();\n"
   ]
  },
  {
   "cell_type": "code",
   "execution_count": null,
   "metadata": {},
   "outputs": [],
   "source": []
  }
 ],
 "metadata": {
  "kernelspec": {
   "display_name": "Python [conda env:venv]",
   "language": "python",
   "name": "conda-env-venv-py"
  },
  "language_info": {
   "codemirror_mode": {
    "name": "ipython",
    "version": 3
   },
   "file_extension": ".py",
   "mimetype": "text/x-python",
   "name": "python",
   "nbconvert_exporter": "python",
   "pygments_lexer": "ipython3",
   "version": "3.6.4"
  }
 },
 "nbformat": 4,
 "nbformat_minor": 2
}
